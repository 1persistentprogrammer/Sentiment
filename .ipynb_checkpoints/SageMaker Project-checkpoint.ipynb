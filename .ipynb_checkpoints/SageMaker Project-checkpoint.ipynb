{
 "cells": [
  {
   "cell_type": "markdown",
   "metadata": {},
   "source": [
    "# Creating a Sentiment Analysis Web App\n",
    "## Using PyTorch and SageMaker\n",
    "\n",
    "_Deep Learning Nanodegree Program | Deployment_\n",
    "\n",
    "---\n",
    "\n",
    "Now that we have a basic understanding of how SageMaker works we will try to use it to construct a complete project from end to end. Our goal will be to have a simple web page which a user can use to enter a movie review. The web page will then send the review off to our deployed model which will predict the sentiment of the entered review.\n",
    "\n",
    "## Instructions\n",
    "\n",
    "Some template code has already been provided for you, and you will need to implement additional functionality to successfully complete this notebook. You will not need to modify the included code beyond what is requested. Sections that begin with '**TODO**' in the header indicate that you need to complete or implement some portion within them. Instructions will be provided for each section and the specifics of the implementation are marked in the code block with a `# TODO: ...` comment. Please be sure to read the instructions carefully!\n",
    "\n",
    "In addition to implementing code, there will be questions for you to answer which relate to the task and your implementation. Each section where you will answer a question is preceded by a '**Question:**' header. Carefully read each question and provide your answer below the '**Answer:**' header by editing the Markdown cell.\n",
    "\n",
    "> **Note**: Code and Markdown cells can be executed using the **Shift+Enter** keyboard shortcut. In addition, a cell can be edited by typically clicking it (double-click for Markdown cells) or by pressing **Enter** while it is highlighted.\n",
    "\n",
    "## General Outline\n",
    "\n",
    "Recall the general outline for SageMaker projects using a notebook instance.\n",
    "\n",
    "1. Download or otherwise retrieve the data.\n",
    "2. Process / Prepare the data.\n",
    "3. Upload the processed data to S3.\n",
    "4. Train a chosen model.\n",
    "5. Test the trained model (typically using a batch transform job).\n",
    "6. Deploy the trained model.\n",
    "7. Use the deployed model.\n",
    "\n",
    "For this project, you will be following the steps in the general outline with some modifications. \n",
    "\n",
    "First, you will not be testing the model in its own step. You will still be testing the model, however, you will do it by deploying your model and then using the deployed model by sending the test data to it. One of the reasons for doing this is so that you can make sure that your deployed model is working correctly before moving forward.\n",
    "\n",
    "In addition, you will deploy and use your trained model a second time. In the second iteration you will customize the way that your trained model is deployed by including some of your own code. In addition, your newly deployed model will be used in the sentiment analysis web app."
   ]
  },
  {
   "cell_type": "code",
   "execution_count": 1,
   "metadata": {},
   "outputs": [
    {
     "name": "stdout",
     "output_type": "stream",
     "text": [
      "Collecting sagemaker==1.72.0\n",
      "  Downloading sagemaker-1.72.0.tar.gz (297 kB)\n",
      "\u001b[K     |████████████████████████████████| 297 kB 22.9 MB/s eta 0:00:01\n",
      "\u001b[?25hRequirement already satisfied: boto3>=1.14.12 in /home/ec2-user/anaconda3/envs/pytorch_p36/lib/python3.6/site-packages (from sagemaker==1.72.0) (1.20.4)\n",
      "Requirement already satisfied: numpy>=1.9.0 in /home/ec2-user/anaconda3/envs/pytorch_p36/lib/python3.6/site-packages (from sagemaker==1.72.0) (1.19.5)\n",
      "Requirement already satisfied: protobuf>=3.1 in /home/ec2-user/anaconda3/envs/pytorch_p36/lib/python3.6/site-packages (from sagemaker==1.72.0) (3.19.1)\n",
      "Requirement already satisfied: scipy>=0.19.0 in /home/ec2-user/anaconda3/envs/pytorch_p36/lib/python3.6/site-packages (from sagemaker==1.72.0) (1.5.3)\n",
      "Requirement already satisfied: protobuf3-to-dict>=0.1.5 in /home/ec2-user/anaconda3/envs/pytorch_p36/lib/python3.6/site-packages (from sagemaker==1.72.0) (0.1.5)\n",
      "Collecting smdebug-rulesconfig==0.1.4\n",
      "  Downloading smdebug_rulesconfig-0.1.4-py2.py3-none-any.whl (10 kB)\n",
      "Requirement already satisfied: importlib-metadata>=1.4.0 in /home/ec2-user/anaconda3/envs/pytorch_p36/lib/python3.6/site-packages (from sagemaker==1.72.0) (4.8.2)\n",
      "Requirement already satisfied: packaging>=20.0 in /home/ec2-user/anaconda3/envs/pytorch_p36/lib/python3.6/site-packages (from sagemaker==1.72.0) (21.2)\n",
      "Requirement already satisfied: s3transfer<0.6.0,>=0.5.0 in /home/ec2-user/anaconda3/envs/pytorch_p36/lib/python3.6/site-packages (from boto3>=1.14.12->sagemaker==1.72.0) (0.5.0)\n",
      "Requirement already satisfied: jmespath<1.0.0,>=0.7.1 in /home/ec2-user/anaconda3/envs/pytorch_p36/lib/python3.6/site-packages (from boto3>=1.14.12->sagemaker==1.72.0) (0.10.0)\n",
      "Requirement already satisfied: botocore<1.24.0,>=1.23.4 in /home/ec2-user/anaconda3/envs/pytorch_p36/lib/python3.6/site-packages (from boto3>=1.14.12->sagemaker==1.72.0) (1.23.4)\n",
      "Requirement already satisfied: python-dateutil<3.0.0,>=2.1 in /home/ec2-user/anaconda3/envs/pytorch_p36/lib/python3.6/site-packages (from botocore<1.24.0,>=1.23.4->boto3>=1.14.12->sagemaker==1.72.0) (2.8.2)\n",
      "Requirement already satisfied: urllib3<1.27,>=1.25.4 in /home/ec2-user/anaconda3/envs/pytorch_p36/lib/python3.6/site-packages (from botocore<1.24.0,>=1.23.4->boto3>=1.14.12->sagemaker==1.72.0) (1.26.7)\n",
      "Requirement already satisfied: typing-extensions>=3.6.4 in /home/ec2-user/anaconda3/envs/pytorch_p36/lib/python3.6/site-packages (from importlib-metadata>=1.4.0->sagemaker==1.72.0) (3.10.0.2)\n",
      "Requirement already satisfied: zipp>=0.5 in /home/ec2-user/anaconda3/envs/pytorch_p36/lib/python3.6/site-packages (from importlib-metadata>=1.4.0->sagemaker==1.72.0) (3.6.0)\n",
      "Requirement already satisfied: pyparsing<3,>=2.0.2 in /home/ec2-user/anaconda3/envs/pytorch_p36/lib/python3.6/site-packages (from packaging>=20.0->sagemaker==1.72.0) (2.4.7)\n",
      "Requirement already satisfied: six in /home/ec2-user/anaconda3/envs/pytorch_p36/lib/python3.6/site-packages (from protobuf3-to-dict>=0.1.5->sagemaker==1.72.0) (1.16.0)\n",
      "Building wheels for collected packages: sagemaker\n",
      "  Building wheel for sagemaker (setup.py) ... \u001b[?25ldone\n",
      "\u001b[?25h  Created wheel for sagemaker: filename=sagemaker-1.72.0-py2.py3-none-any.whl size=388346 sha256=db9f63398fc46d5e34eb93c6b7b113b52a87b540ecf8f0c5ee247bbf15cda5d3\n",
      "  Stored in directory: /home/ec2-user/.cache/pip/wheels/c3/58/70/85faf4437568bfaa4c419937569ba1fe54d44c5db42406bbd7\n",
      "Successfully built sagemaker\n",
      "Installing collected packages: smdebug-rulesconfig, sagemaker\n",
      "  Attempting uninstall: smdebug-rulesconfig\n",
      "    Found existing installation: smdebug-rulesconfig 1.0.1\n",
      "    Uninstalling smdebug-rulesconfig-1.0.1:\n",
      "      Successfully uninstalled smdebug-rulesconfig-1.0.1\n",
      "  Attempting uninstall: sagemaker\n",
      "    Found existing installation: sagemaker 2.68.0\n",
      "    Uninstalling sagemaker-2.68.0:\n",
      "      Successfully uninstalled sagemaker-2.68.0\n",
      "Successfully installed sagemaker-2.60.0 smdebug-rulesconfig-0.1.4\n",
      "\u001b[33mWARNING: You are using pip version 21.2.4; however, version 21.3.1 is available.\n",
      "You should consider upgrading via the '/home/ec2-user/anaconda3/envs/pytorch_p36/bin/python -m pip install --upgrade pip' command.\u001b[0m\n"
     ]
    }
   ],
   "source": [
    "# Make sure that we use SageMaker 1.x\n",
    "!pip install sagemaker==1.72.0"
   ]
  },
  {
   "cell_type": "markdown",
   "metadata": {},
   "source": [
    "## Step 1: Downloading the data\n",
    "\n",
    "As in the XGBoost in SageMaker notebook, we will be using the [IMDb dataset](http://ai.stanford.edu/~amaas/data/sentiment/)\n",
    "\n",
    "> Maas, Andrew L., et al. [Learning Word Vectors for Sentiment Analysis](http://ai.stanford.edu/~amaas/data/sentiment/). In _Proceedings of the 49th Annual Meeting of the Association for Computational Linguistics: Human Language Technologies_. Association for Computational Linguistics, 2011."
   ]
  },
  {
   "cell_type": "code",
   "execution_count": null,
   "metadata": {},
   "outputs": [],
   "source": [
    "    "
   ]
  },
  {
   "cell_type": "code",
   "execution_count": 2,
   "metadata": {},
   "outputs": [
    {
     "name": "stdout",
     "output_type": "stream",
     "text": [
      "mkdir: cannot create directory ‘../data’: File exists\n",
      "--2021-11-21 18:39:22--  http://ai.stanford.edu/~amaas/data/sentiment/aclImdb_v1.tar.gz\n",
      "Resolving ai.stanford.edu (ai.stanford.edu)... 171.64.68.10\n",
      "Connecting to ai.stanford.edu (ai.stanford.edu)|171.64.68.10|:80... connected.\n",
      "HTTP request sent, awaiting response... 200 OK\n",
      "Length: 84125825 (80M) [application/x-gzip]\n",
      "Saving to: ‘../data/aclImdb_v1.tar.gz’\n",
      "\n",
      "../data/aclImdb_v1. 100%[===================>]  80.23M  30.8MB/s    in 2.6s    \n",
      "\n",
      "2021-11-21 18:39:25 (30.8 MB/s) - ‘../data/aclImdb_v1.tar.gz’ saved [84125825/84125825]\n",
      "\n"
     ]
    }
   ],
   "source": [
    "%mkdir ../data\n",
    "!wget -O ../data/aclImdb_v1.tar.gz http://ai.stanford.edu/~amaas/data/sentiment/aclImdb_v1.tar.gz\n",
    "!tar -zxf ../data/aclImdb_v1.tar.gz -C ../data"
   ]
  },
  {
   "cell_type": "markdown",
   "metadata": {},
   "source": [
    "## Step 2: Preparing and Processing the data\n",
    "\n",
    "Also, as in the XGBoost notebook, we will be doing some initial data processing. The first few steps are the same as in the XGBoost example. To begin with, we will read in each of the reviews and combine them into a single input structure. Then, we will split the dataset into a training set and a testing set."
   ]
  },
  {
   "cell_type": "code",
   "execution_count": 3,
   "metadata": {},
   "outputs": [],
   "source": [
    "import os\n",
    "import glob\n",
    "import pandas as pd \n",
    "\n",
    "def read_imdb_data(data_dir='../data/aclImdb'):\n",
    "    data = {}\n",
    "    labels = {}\n",
    "    \n",
    "    for data_type in ['train', 'test']:\n",
    "        data[data_type] = {}\n",
    "        labels[data_type] = {}\n",
    "        \n",
    "        for sentiment in ['pos', 'neg']:\n",
    "            data[data_type][sentiment] = []\n",
    "            labels[data_type][sentiment] = []\n",
    "            \n",
    "            path = os.path.join(data_dir, data_type, sentiment, '*.txt')\n",
    "            files = glob.glob(path)\n",
    "            \n",
    "            for f in files:\n",
    "                with open(f) as review:\n",
    "                    data[data_type][sentiment].append(review.read())\n",
    "                    # Here we represent a positive review by '1' and a negative review by '0'\n",
    "                    labels[data_type][sentiment].append(1 if sentiment == 'pos' else 0)\n",
    "                    \n",
    "            assert len(data[data_type][sentiment]) == len(labels[data_type][sentiment]), \\\n",
    "                    \"{}/{} data size does not match labels size\".format(data_type, sentiment)\n",
    "                \n",
    "    return data, labels\n"
   ]
  },
  {
   "cell_type": "code",
   "execution_count": 4,
   "metadata": {},
   "outputs": [
    {
     "name": "stdout",
     "output_type": "stream",
     "text": [
      "This is a really good film and one that I've enjoyed watching several times. Michael Caine's awesome as always. Michael Caine has received kind of a reputation for taking any role in any movie no matter what the quality or lack of same but he does a good turn in playing Sidney. From the start it's so well written. Who would have thought that Ira Levin who wrote such creepy stuff as The Boys from Brazil and Rosemary's Baby could write something this witty. Let's face it - Michael Caine, Chris Reeve, Dyan Cannon, Henry Jones... how are you going to go wrong with a cast this good directed by Sidney Lumet.<br /><br />I'm really reticent to go on because if anyone were to give away anything about this film it would be a crime. Just watch it and adore it.\n",
      "1\n",
      "IMDB reviews: train = 12500 pos / 12500 neg, test = 12500 pos / 12500 neg\n"
     ]
    }
   ],
   "source": [
    "data,labels = read_imdb_data()\n",
    "print(data['train']['pos'][1])\n",
    "print(labels['train']['pos'][1])\n",
    "\n",
    "print(\"IMDB reviews: train = {} pos / {} neg, test = {} pos / {} neg\".format(\n",
    "            len(data['train']['pos']), len(data['train']['neg']),\n",
    "            len(data['test']['pos']), len(data['test']['neg'])))"
   ]
  },
  {
   "cell_type": "markdown",
   "metadata": {},
   "source": [
    "Now that we've read the raw training and testing data from the downloaded dataset, we will combine the positive and negative reviews and shuffle the resulting records."
   ]
  },
  {
   "cell_type": "code",
   "execution_count": 5,
   "metadata": {},
   "outputs": [],
   "source": [
    "from sklearn.utils import shuffle\n",
    "\n",
    "def prepare_imdb_data(data, labels):\n",
    "    \"\"\"Prepare training and test sets from IMDb movie reviews.\"\"\"\n",
    "    \n",
    "    #Combine positive and negative reviews and labels\n",
    "    data_train = data['train']['pos'] + data['train']['neg']\n",
    "    data_test = data['test']['pos'] + data['test']['neg']\n",
    "    labels_train = labels['train']['pos'] + labels['train']['neg']\n",
    "    labels_test = labels['test']['pos'] + labels['test']['neg']\n",
    "    \n",
    "    #Shuffle reviews and corresponding labels within training and test sets\n",
    "    data_train, labels_train = shuffle(data_train, labels_train)\n",
    "    data_test, labels_test = shuffle(data_test, labels_test)\n",
    "    \n",
    "    # Return a unified training data, test data, training labels, test labets\n",
    "    return data_train, data_test, labels_train, labels_test"
   ]
  },
  {
   "cell_type": "code",
   "execution_count": 6,
   "metadata": {},
   "outputs": [
    {
     "name": "stdout",
     "output_type": "stream",
     "text": [
      "IMDb reviews (combined): train = 25000, test = 25000\n"
     ]
    }
   ],
   "source": [
    "train_X, test_X, train_y, test_y = prepare_imdb_data(data, labels)\n",
    "print(\"IMDb reviews (combined): train = {}, test = {}\".format(len(train_X), len(test_X)))"
   ]
  },
  {
   "cell_type": "markdown",
   "metadata": {},
   "source": [
    "Now that we have our training and testing sets unified and prepared, we should do a quick check and see an example of the data our model will be trained on. This is generally a good idea as it allows you to see how each of the further processing steps affects the reviews and it also ensures that the data has been loaded correctly."
   ]
  },
  {
   "cell_type": "code",
   "execution_count": 7,
   "metadata": {},
   "outputs": [
    {
     "name": "stdout",
     "output_type": "stream",
     "text": [
      "Brilliant actor as he is, Al Pacino completely derails Revolution  his Method acting approach is totally ill-suited to the role of an illiterate trapper caught up in the American War of Independence. Much of the blame should be attributed to director Hugh Hudson (yes, the man who made Chariots Of Fire just a couple of years earlier  talk about a come-down!!). One of the many jobs of a director is to marshal the actors, coaxing believable performances from them, but in this case Hudson has allowed Pacino to run amok without asking for restraint of any kind. It's not just Al's career-low performance that hinders the film though: there are numerous other flaws with Revolution, more of which will be said later.<br /><br />Illiterate trapper Tom Dobb (Al Pacino) lives in the north-eastern region of America with his son Ned (Sid Owen/Dexter Fletcher). He leads a simple life  living off the land, raising his son, surviving against the elements. The country is lorded over by the English colonialists, but during an eight year period (1775-83) a revolution takes place which ends with the British being defeated and the independent American nation being born. Dobb gets caught up in the events when his boat and his son are conscripted by the Continental Army  swept away by events they can barely understand, the Dobbs finds themselves fighting for their lives and freedom in one bloody engagement after another. Tom also falls in love with Daisy McConnahay (Natassja Kinski), a beautiful and fiery woman of British aristocratic ancestry. Their forbidden love is played out against the larger historical context of the fighting.<br /><br />Where to start with the film's flaws? Most key actors are miscast  Pacino has been criticised enough already, but Kinski fares little better as the renegade aristocrat while Donald Sutherland is hopelessly lost as a ruthless English soldier with a wobbly Yorkshire accent. Robert Dillon's script is muddled in its attempts to bring massive historical events down to a personal level. At no point does anyone seem to have decided whether this is meant to be an intimate character study with the American Revolution as a backdrop, or an epic war film with a handful of sharply drawn characters used to carry the story along. As a result, the narrative falls into no man's land, flitting from \"grand spectacle\" to \"small story\" indiscriminately and meaninglessly. John Corigliano's score is quite ghastly, and is poured over the proceedings with neither thought nor subtlety. Hugh Hudson's direction is clumsy throughout, both in his mismanagement of Pacino and the other key actors, and in the decision to use irritatingly shaky camera work during the action sequences. The idea of the hand-held camera is to create immediacy  that feeling of \"being there\" in the confusion of battle and musket fire. Like so many other things in the film, it doesn't work. The one department where the film regains a modicum of respectability is the period detail, with costumes, sets and weaponry that look consistently accurate. But if it's period detail you're interested in a trip to the museum would be a better way to spend your time, because as a rousing cinematic experience Revolution doesn't even begin to make the grade. Nothing more than a £18,000,000 mega-bomb that the ailing British film industry could ill afford in the mid-1980s.\n",
      "0\n"
     ]
    }
   ],
   "source": [
    "print(train_X[100])\n",
    "print(train_y[100])\n"
   ]
  },
  {
   "cell_type": "markdown",
   "metadata": {},
   "source": [
    "The first step in processing the reviews is to make sure that any html tags that appear should be removed. In addition we wish to tokenize our input, that way words such as *entertained* and *entertaining* are considered the same with regard to sentiment analysis."
   ]
  },
  {
   "cell_type": "code",
   "execution_count": 8,
   "metadata": {},
   "outputs": [],
   "source": [
    "import nltk\n",
    "from nltk.corpus import stopwords\n",
    "from nltk.stem.porter import *\n",
    "\n",
    "import re\n",
    "from bs4 import BeautifulSoup\n",
    "\n",
    "def review_to_words(review):\n",
    "    nltk.download(\"stopwords\", quiet=True)\n",
    "    stemmer = PorterStemmer()\n",
    "    \n",
    "    text = BeautifulSoup(review, \"html.parser\").get_text() # Remove HTML tags\n",
    "    text = re.sub(r\"[^a-zA-Z0-9]\", \" \", text.lower()) # Convert to lower case\n",
    "    words = text.split() # Split string into words\n",
    "    words = [w for w in words if w not in stopwords.words(\"english\")] # Remove stopwords\n",
    "    words = [PorterStemmer().stem(w) for w in words] # stem\n",
    "    \n",
    "    return words"
   ]
  },
  {
   "cell_type": "markdown",
   "metadata": {},
   "source": [
    "The `review_to_words` method defined above uses `BeautifulSoup` to remove any html tags that appear and uses the `nltk` package to tokenize the reviews. As a check to ensure we know how everything is working, try applying `review_to_words` to one of the reviews in the training set."
   ]
  },
  {
   "cell_type": "code",
   "execution_count": 9,
   "metadata": {},
   "outputs": [
    {
     "data": {
      "text/plain": [
       "['brilliant',\n",
       " 'actor',\n",
       " 'al',\n",
       " 'pacino',\n",
       " 'complet',\n",
       " 'derail',\n",
       " 'revolut',\n",
       " 'method',\n",
       " 'act',\n",
       " 'approach',\n",
       " 'total',\n",
       " 'ill',\n",
       " 'suit',\n",
       " 'role',\n",
       " 'illiter',\n",
       " 'trapper',\n",
       " 'caught',\n",
       " 'american',\n",
       " 'war',\n",
       " 'independ',\n",
       " 'much',\n",
       " 'blame',\n",
       " 'attribut',\n",
       " 'director',\n",
       " 'hugh',\n",
       " 'hudson',\n",
       " 'ye',\n",
       " 'man',\n",
       " 'made',\n",
       " 'chariot',\n",
       " 'fire',\n",
       " 'coupl',\n",
       " 'year',\n",
       " 'earlier',\n",
       " 'talk',\n",
       " 'come',\n",
       " 'one',\n",
       " 'mani',\n",
       " 'job',\n",
       " 'director',\n",
       " 'marshal',\n",
       " 'actor',\n",
       " 'coax',\n",
       " 'believ',\n",
       " 'perform',\n",
       " 'case',\n",
       " 'hudson',\n",
       " 'allow',\n",
       " 'pacino',\n",
       " 'run',\n",
       " 'amok',\n",
       " 'without',\n",
       " 'ask',\n",
       " 'restraint',\n",
       " 'kind',\n",
       " 'al',\n",
       " 'career',\n",
       " 'low',\n",
       " 'perform',\n",
       " 'hinder',\n",
       " 'film',\n",
       " 'though',\n",
       " 'numer',\n",
       " 'flaw',\n",
       " 'revolut',\n",
       " 'said',\n",
       " 'later',\n",
       " 'illiter',\n",
       " 'trapper',\n",
       " 'tom',\n",
       " 'dobb',\n",
       " 'al',\n",
       " 'pacino',\n",
       " 'live',\n",
       " 'north',\n",
       " 'eastern',\n",
       " 'region',\n",
       " 'america',\n",
       " 'son',\n",
       " 'ned',\n",
       " 'sid',\n",
       " 'owen',\n",
       " 'dexter',\n",
       " 'fletcher',\n",
       " 'lead',\n",
       " 'simpl',\n",
       " 'life',\n",
       " 'live',\n",
       " 'land',\n",
       " 'rais',\n",
       " 'son',\n",
       " 'surviv',\n",
       " 'element',\n",
       " 'countri',\n",
       " 'lord',\n",
       " 'english',\n",
       " 'colonialist',\n",
       " 'eight',\n",
       " 'year',\n",
       " 'period',\n",
       " '1775',\n",
       " '83',\n",
       " 'revolut',\n",
       " 'take',\n",
       " 'place',\n",
       " 'end',\n",
       " 'british',\n",
       " 'defeat',\n",
       " 'independ',\n",
       " 'american',\n",
       " 'nation',\n",
       " 'born',\n",
       " 'dobb',\n",
       " 'get',\n",
       " 'caught',\n",
       " 'event',\n",
       " 'boat',\n",
       " 'son',\n",
       " 'conscript',\n",
       " 'continent',\n",
       " 'armi',\n",
       " 'swept',\n",
       " 'away',\n",
       " 'event',\n",
       " 'bare',\n",
       " 'understand',\n",
       " 'dobb',\n",
       " 'find',\n",
       " 'fight',\n",
       " 'live',\n",
       " 'freedom',\n",
       " 'one',\n",
       " 'bloodi',\n",
       " 'engag',\n",
       " 'anoth',\n",
       " 'tom',\n",
       " 'also',\n",
       " 'fall',\n",
       " 'love',\n",
       " 'daisi',\n",
       " 'mcconnahay',\n",
       " 'natassja',\n",
       " 'kinski',\n",
       " 'beauti',\n",
       " 'fieri',\n",
       " 'woman',\n",
       " 'british',\n",
       " 'aristocrat',\n",
       " 'ancestri',\n",
       " 'forbidden',\n",
       " 'love',\n",
       " 'play',\n",
       " 'larger',\n",
       " 'histor',\n",
       " 'context',\n",
       " 'fight',\n",
       " 'start',\n",
       " 'film',\n",
       " 'flaw',\n",
       " 'key',\n",
       " 'actor',\n",
       " 'miscast',\n",
       " 'pacino',\n",
       " 'criticis',\n",
       " 'enough',\n",
       " 'alreadi',\n",
       " 'kinski',\n",
       " 'fare',\n",
       " 'littl',\n",
       " 'better',\n",
       " 'renegad',\n",
       " 'aristocrat',\n",
       " 'donald',\n",
       " 'sutherland',\n",
       " 'hopelessli',\n",
       " 'lost',\n",
       " 'ruthless',\n",
       " 'english',\n",
       " 'soldier',\n",
       " 'wobbl',\n",
       " 'yorkshir',\n",
       " 'accent',\n",
       " 'robert',\n",
       " 'dillon',\n",
       " 'script',\n",
       " 'muddl',\n",
       " 'attempt',\n",
       " 'bring',\n",
       " 'massiv',\n",
       " 'histor',\n",
       " 'event',\n",
       " 'person',\n",
       " 'level',\n",
       " 'point',\n",
       " 'anyon',\n",
       " 'seem',\n",
       " 'decid',\n",
       " 'whether',\n",
       " 'meant',\n",
       " 'intim',\n",
       " 'charact',\n",
       " 'studi',\n",
       " 'american',\n",
       " 'revolut',\n",
       " 'backdrop',\n",
       " 'epic',\n",
       " 'war',\n",
       " 'film',\n",
       " 'hand',\n",
       " 'sharpli',\n",
       " 'drawn',\n",
       " 'charact',\n",
       " 'use',\n",
       " 'carri',\n",
       " 'stori',\n",
       " 'along',\n",
       " 'result',\n",
       " 'narr',\n",
       " 'fall',\n",
       " 'man',\n",
       " 'land',\n",
       " 'flit',\n",
       " 'grand',\n",
       " 'spectacl',\n",
       " 'small',\n",
       " 'stori',\n",
       " 'indiscrimin',\n",
       " 'meaninglessli',\n",
       " 'john',\n",
       " 'corigliano',\n",
       " 'score',\n",
       " 'quit',\n",
       " 'ghastli',\n",
       " 'pour',\n",
       " 'proceed',\n",
       " 'neither',\n",
       " 'thought',\n",
       " 'subtleti',\n",
       " 'hugh',\n",
       " 'hudson',\n",
       " 'direct',\n",
       " 'clumsi',\n",
       " 'throughout',\n",
       " 'mismanag',\n",
       " 'pacino',\n",
       " 'key',\n",
       " 'actor',\n",
       " 'decis',\n",
       " 'use',\n",
       " 'irritatingli',\n",
       " 'shaki',\n",
       " 'camera',\n",
       " 'work',\n",
       " 'action',\n",
       " 'sequenc',\n",
       " 'idea',\n",
       " 'hand',\n",
       " 'held',\n",
       " 'camera',\n",
       " 'creat',\n",
       " 'immediaci',\n",
       " 'feel',\n",
       " 'confus',\n",
       " 'battl',\n",
       " 'musket',\n",
       " 'fire',\n",
       " 'like',\n",
       " 'mani',\n",
       " 'thing',\n",
       " 'film',\n",
       " 'work',\n",
       " 'one',\n",
       " 'depart',\n",
       " 'film',\n",
       " 'regain',\n",
       " 'modicum',\n",
       " 'respect',\n",
       " 'period',\n",
       " 'detail',\n",
       " 'costum',\n",
       " 'set',\n",
       " 'weaponri',\n",
       " 'look',\n",
       " 'consist',\n",
       " 'accur',\n",
       " 'period',\n",
       " 'detail',\n",
       " 'interest',\n",
       " 'trip',\n",
       " 'museum',\n",
       " 'would',\n",
       " 'better',\n",
       " 'way',\n",
       " 'spend',\n",
       " 'time',\n",
       " 'rous',\n",
       " 'cinemat',\n",
       " 'experi',\n",
       " 'revolut',\n",
       " 'even',\n",
       " 'begin',\n",
       " 'make',\n",
       " 'grade',\n",
       " 'noth',\n",
       " '18',\n",
       " '000',\n",
       " '000',\n",
       " 'mega',\n",
       " 'bomb',\n",
       " 'ail',\n",
       " 'british',\n",
       " 'film',\n",
       " 'industri',\n",
       " 'could',\n",
       " 'ill',\n",
       " 'afford',\n",
       " 'mid',\n",
       " '1980']"
      ]
     },
     "execution_count": 9,
     "metadata": {},
     "output_type": "execute_result"
    }
   ],
   "source": [
    "# TODO: Apply review_to_words to a review (train_X[100] or any other review)\n",
    "review_to_words(train_X[100])"
   ]
  },
  {
   "cell_type": "markdown",
   "metadata": {},
   "source": [
    "**Question:** Above we mentioned that `review_to_words` method removes html formatting and allows us to tokenize the words found in a review, for example, converting *entertained* and *entertaining* into *entertain* so that they are treated as though they are the same word. What else, if anything, does this method do to the input?"
   ]
  },
  {
   "cell_type": "markdown",
   "metadata": {},
   "source": [
    "**Answer:** Other than HTML formatting and tokenizing the method does the following: \n",
    "1. [^a-zA-Z0-9] : This regex removes any special characters and the text.lower() converts the word to lowercase\n",
    "2. text.split() : This puts the words into a List (Each review is in a list of words)\n",
    "3. stopwords.words(\"english\") : Stopwords are removed since they don't need to be compared"
   ]
  },
  {
   "cell_type": "markdown",
   "metadata": {},
   "source": [
    "The method below applies the `review_to_words` method to each of the reviews in the training and testing datasets. In addition it caches the results. This is because performing this processing step can take a long time. This way if you are unable to complete the notebook in the current session, you can come back without needing to process the data a second time."
   ]
  },
  {
   "cell_type": "code",
   "execution_count": 10,
   "metadata": {},
   "outputs": [],
   "source": [
    "import pickle\n",
    "\n",
    "cache_dir = os.path.join(\"../cache\", \"sentiment_analysis\")  # where to store cache files\n",
    "os.makedirs(cache_dir, exist_ok=True)  # ensure cache directory exists\n",
    "\n",
    "def preprocess_data(data_train, data_test, labels_train, labels_test,\n",
    "                    cache_dir=cache_dir, cache_file=\"preprocessed_data.pkl\"):\n",
    "    \"\"\"Convert each review to words; read from cache if available.\"\"\"\n",
    "\n",
    "    # If cache_file is not None, try to read from it first\n",
    "    cache_data = None\n",
    "    if cache_file is not None:\n",
    "        try:\n",
    "            with open(os.path.join(cache_dir, cache_file), \"rb\") as f:\n",
    "                cache_data = pickle.load(f)\n",
    "            print(\"Read preprocessed data from cache file:\", cache_file)\n",
    "        except:\n",
    "            pass  # unable to read from cache, but that's okay\n",
    "    \n",
    "    # If cache is missing, then do the heavy lifting\n",
    "    if cache_data is None:\n",
    "        # Preprocess training and test data to obtain words for each review\n",
    "        #words_train = list(map(review_to_words, data_train))\n",
    "        #words_test = list(map(review_to_words, data_test))\n",
    "        words_train = [review_to_words(review) for review in data_train]\n",
    "        words_test = [review_to_words(review) for review in data_test]\n",
    "        \n",
    "        # Write to cache file for future runs\n",
    "        if cache_file is not None:\n",
    "            cache_data = dict(words_train=words_train, words_test=words_test,\n",
    "                              labels_train=labels_train, labels_test=labels_test)\n",
    "            with open(os.path.join(cache_dir, cache_file), \"wb\") as f:\n",
    "                pickle.dump(cache_data, f)\n",
    "            print(\"Wrote preprocessed data to cache file:\", cache_file)\n",
    "    else:\n",
    "        # Unpack data loaded from cache file\n",
    "        words_train, words_test, labels_train, labels_test = (cache_data['words_train'],\n",
    "                cache_data['words_test'], cache_data['labels_train'], cache_data['labels_test'])\n",
    "    \n",
    "    return words_train, words_test, labels_train, labels_test"
   ]
  },
  {
   "cell_type": "code",
   "execution_count": 11,
   "metadata": {},
   "outputs": [
    {
     "name": "stdout",
     "output_type": "stream",
     "text": [
      "Read preprocessed data from cache file: preprocessed_data.pkl\n"
     ]
    }
   ],
   "source": [
    "# Preprocess data\n",
    "train_X, test_X, train_y, test_y = preprocess_data(train_X, test_X, train_y, test_y)"
   ]
  },
  {
   "cell_type": "markdown",
   "metadata": {},
   "source": [
    "## Transform the data\n",
    "\n",
    "In the XGBoost notebook we transformed the data from its word representation to a bag-of-words feature representation. For the model we are going to construct in this notebook we will construct a feature representation which is very similar. To start, we will represent each word as an integer. Of course, some of the words that appear in the reviews occur very infrequently and so likely don't contain much information for the purposes of sentiment analysis. The way we will deal with this problem is that we will fix the size of our working vocabulary and we will only include the words that appear most frequently. We will then combine all of the infrequent words into a single category and, in our case, we will label it as `1`.\n",
    "\n",
    "Since we will be using a recurrent neural network, it will be convenient if the length of each review is the same. To do this, we will fix a size for our reviews and then pad short reviews with the category 'no word' (which we will label `0`) and truncate long reviews."
   ]
  },
  {
   "cell_type": "markdown",
   "metadata": {},
   "source": [
    "### (TODO) Create a word dictionary\n",
    "\n",
    "To begin with, we need to construct a way to map words that appear in the reviews to integers. Here we fix the size of our vocabulary (including the 'no word' and 'infrequent' categories) to be `5000` but you may wish to change this to see how it affects the model.\n",
    "\n",
    "> **TODO:** Complete the implementation for the `build_dict()` method below. Note that even though the vocab_size is set to `5000`, we only want to construct a mapping for the most frequently appearing `4998` words. This is because we want to reserve the special labels `0` for 'no word' and `1` for 'infrequent word'."
   ]
  },
  {
   "cell_type": "code",
   "execution_count": 12,
   "metadata": {},
   "outputs": [],
   "source": [
    "import numpy as np\n",
    "\n",
    "def build_dict(data, vocab_size = 5000):\n",
    "    \"\"\"Construct and return a dictionary mapping each of the most frequently appearing words to a unique integer.\"\"\"\n",
    "    \n",
    "    # TODO: Determine how often each word appears in `data`. Note that `data` is a list of sentences and that a\n",
    "    #       sentence is a list of words.\n",
    "\n",
    "    word_count = {} # A dict storing the words that appear in the reviews along with how often they occur\n",
    " \n",
    "    '''\n",
    "    for word in range(0,len(data)):\n",
    "        print(data[word])\n",
    "    '''\n",
    "    for row in range(0,len(data)):\n",
    "        row_list = data[row]\n",
    "        for word in range(0,len(row_list)):\n",
    "            if row_list[word] not in word_count:\n",
    "                word_count[row_list[word]] = 1\n",
    "            else:\n",
    "                word_count[row_list[word]] += 1\n",
    "        # TODO: Sort the words found in `data` so that sorted_words[0] is the most frequently appearing word and\n",
    "    #       sorted_words[-1] is the least frequently appearing word.\n",
    "    #print(word_count)\n",
    "    sorted_words = sorted(word_count.items(),key=lambda v:v[1],reverse=True)\n",
    "    \n",
    "    word_dict = {} # This is what we are building, a dictionary that translates words into integers\n",
    "    for idx, word in enumerate(sorted_words[:vocab_size - 2]): # The -2 is so that we save room for the 'no word'\n",
    "        word_dict[word[0]] = idx + 2                              # 'infrequent' labels\n",
    "    \n",
    "    return word_dict"
   ]
  },
  {
   "cell_type": "code",
   "execution_count": 13,
   "metadata": {},
   "outputs": [
    {
     "name": "stdout",
     "output_type": "stream",
     "text": [
      "{'movi': 2, 'film': 3, 'one': 4, 'like': 5, 'time': 6, 'good': 7, 'make': 8, 'charact': 9, 'get': 10, 'see': 11, 'watch': 12, 'stori': 13, 'even': 14, 'would': 15, 'realli': 16, 'well': 17, 'scene': 18, 'look': 19, 'show': 20, 'much': 21, 'end': 22, 'peopl': 23, 'bad': 24, 'go': 25, 'great': 26, 'also': 27, 'first': 28, 'love': 29, 'think': 30, 'way': 31, 'act': 32, 'play': 33, 'made': 34, 'thing': 35, 'could': 36, 'know': 37, 'say': 38, 'seem': 39, 'work': 40, 'plot': 41, 'two': 42, 'actor': 43, 'year': 44, 'come': 45, 'mani': 46, 'seen': 47, 'take': 48, 'want': 49, 'life': 50, 'never': 51, 'littl': 52, 'best': 53, 'tri': 54, 'man': 55, 'ever': 56, 'give': 57, 'better': 58, 'still': 59, 'perform': 60, 'find': 61, 'feel': 62, 'part': 63, 'back': 64, 'use': 65, 'someth': 66, 'director': 67, 'actual': 68, 'interest': 69, 'lot': 70, 'real': 71, 'old': 72, 'cast': 73, 'though': 74, 'live': 75, 'star': 76, 'enjoy': 77, 'guy': 78, 'anoth': 79, 'new': 80, 'role': 81, 'noth': 82, '10': 83, 'funni': 84, 'music': 85, 'point': 86, 'start': 87, 'set': 88, 'girl': 89, 'origin': 90, 'day': 91, 'world': 92, 'everi': 93, 'believ': 94, 'turn': 95, 'quit': 96, 'us': 97, 'direct': 98, 'thought': 99, 'fact': 100, 'minut': 101, 'horror': 102, 'kill': 103, 'action': 104, 'comedi': 105, 'pretti': 106, 'young': 107, 'wonder': 108, 'happen': 109, 'around': 110, 'got': 111, 'effect': 112, 'right': 113, 'long': 114, 'howev': 115, 'big': 116, 'line': 117, 'famili': 118, 'enough': 119, 'seri': 120, 'may': 121, 'need': 122, 'fan': 123, 'bit': 124, 'script': 125, 'beauti': 126, 'person': 127, 'becom': 128, 'without': 129, 'must': 130, 'alway': 131, 'friend': 132, 'tell': 133, 'reason': 134, 'saw': 135, 'last': 136, 'final': 137, 'kid': 138, 'almost': 139, 'put': 140, 'least': 141, 'sure': 142, 'done': 143, 'whole': 144, 'place': 145, 'complet': 146, 'kind': 147, 'differ': 148, 'expect': 149, 'shot': 150, 'far': 151, 'mean': 152, 'anyth': 153, 'book': 154, 'laugh': 155, 'might': 156, 'name': 157, 'sinc': 158, 'begin': 159, '2': 160, 'probabl': 161, 'woman': 162, 'help': 163, 'entertain': 164, 'let': 165, 'screen': 166, 'call': 167, 'tv': 168, 'moment': 169, 'away': 170, 'read': 171, 'yet': 172, 'rather': 173, 'worst': 174, 'run': 175, 'fun': 176, 'lead': 177, 'hard': 178, 'audienc': 179, 'idea': 180, 'anyon': 181, 'episod': 182, 'american': 183, 'found': 184, 'appear': 185, 'bore': 186, 'especi': 187, 'although': 188, 'hope': 189, 'keep': 190, 'cours': 191, 'anim': 192, 'job': 193, 'goe': 194, 'move': 195, 'sens': 196, 'dvd': 197, 'version': 198, 'war': 199, 'money': 200, 'someon': 201, 'mind': 202, 'mayb': 203, 'problem': 204, 'true': 205, 'hous': 206, 'everyth': 207, 'nice': 208, 'second': 209, 'rate': 210, 'three': 211, 'night': 212, 'face': 213, 'follow': 214, 'recommend': 215, 'main': 216, 'product': 217, 'worth': 218, 'leav': 219, 'human': 220, 'special': 221, 'excel': 222, 'togeth': 223, 'wast': 224, 'sound': 225, 'everyon': 226, 'john': 227, 'hand': 228, '1': 229, 'father': 230, 'later': 231, 'eye': 232, 'said': 233, 'view': 234, 'instead': 235, 'review': 236, 'boy': 237, 'high': 238, 'hour': 239, 'miss': 240, 'talk': 241, 'classic': 242, 'wife': 243, 'understand': 244, 'left': 245, 'care': 246, 'black': 247, 'death': 248, 'open': 249, 'murder': 250, 'write': 251, 'half': 252, 'head': 253, 'rememb': 254, 'chang': 255, 'viewer': 256, 'fight': 257, 'gener': 258, 'surpris': 259, 'includ': 260, 'short': 261, 'die': 262, 'fall': 263, 'less': 264, 'els': 265, 'entir': 266, 'piec': 267, 'involv': 268, 'pictur': 269, 'simpli': 270, 'top': 271, 'home': 272, 'power': 273, 'total': 274, 'usual': 275, 'budget': 276, 'attempt': 277, 'suppos': 278, 'releas': 279, 'hollywood': 280, 'terribl': 281, 'song': 282, 'men': 283, 'possibl': 284, 'featur': 285, 'portray': 286, 'disappoint': 287, '3': 288, 'poor': 289, 'coupl': 290, 'camera': 291, 'stupid': 292, 'dead': 293, 'wrong': 294, 'low': 295, 'produc': 296, 'either': 297, 'video': 298, 'aw': 299, 'definit': 300, 'except': 301, 'rest': 302, 'given': 303, 'absolut': 304, 'women': 305, 'lack': 306, 'word': 307, 'writer': 308, 'titl': 309, 'talent': 310, 'decid': 311, 'full': 312, 'perfect': 313, 'along': 314, 'style': 315, 'close': 316, 'truli': 317, 'school': 318, 'save': 319, 'emot': 320, 'age': 321, 'sex': 322, 'next': 323, 'bring': 324, 'mr': 325, 'case': 326, 'killer': 327, 'heart': 328, 'comment': 329, 'sort': 330, 'creat': 331, 'perhap': 332, 'came': 333, 'brother': 334, 'sever': 335, 'joke': 336, 'art': 337, 'dialogu': 338, 'game': 339, 'small': 340, 'base': 341, 'flick': 342, 'written': 343, 'sequenc': 344, 'meet': 345, 'earli': 346, 'often': 347, 'other': 348, 'mother': 349, 'develop': 350, 'humor': 351, 'actress': 352, 'consid': 353, 'dark': 354, 'guess': 355, 'amaz': 356, 'unfortun': 357, 'light': 358, 'lost': 359, 'exampl': 360, 'cinema': 361, 'drama': 362, 'ye': 363, 'white': 364, 'experi': 365, 'imagin': 366, 'mention': 367, 'stop': 368, 'natur': 369, 'forc': 370, 'manag': 371, 'felt': 372, 'cut': 373, 'present': 374, 'children': 375, 'fail': 376, 'son': 377, 'car': 378, 'support': 379, 'qualiti': 380, 'ask': 381, 'hit': 382, 'side': 383, 'voic': 384, 'extrem': 385, 'impress': 386, 'wors': 387, 'evil': 388, 'went': 389, 'stand': 390, 'certainli': 391, 'basic': 392, 'oh': 393, 'overal': 394, 'favorit': 395, 'horribl': 396, 'mysteri': 397, 'number': 398, 'type': 399, 'danc': 400, 'wait': 401, 'hero': 402, 'alreadi': 403, '5': 404, 'learn': 405, 'matter': 406, '4': 407, 'michael': 408, 'genr': 409, 'fine': 410, 'despit': 411, 'throughout': 412, 'walk': 413, 'success': 414, 'histori': 415, 'question': 416, 'zombi': 417, 'town': 418, 'relationship': 419, 'realiz': 420, 'past': 421, 'child': 422, 'daughter': 423, 'late': 424, 'b': 425, 'wish': 426, 'hate': 427, 'credit': 428, 'event': 429, 'theme': 430, 'touch': 431, 'citi': 432, 'today': 433, 'sometim': 434, 'behind': 435, 'god': 436, 'twist': 437, 'sit': 438, 'deal': 439, 'stay': 440, 'annoy': 441, 'abl': 442, 'rent': 443, 'pleas': 444, 'edit': 445, 'blood': 446, 'deserv': 447, 'comic': 448, 'anyway': 449, 'appar': 450, 'soon': 451, 'gave': 452, 'etc': 453, 'level': 454, 'slow': 455, 'chanc': 456, 'score': 457, 'bodi': 458, 'brilliant': 459, 'incred': 460, 'figur': 461, 'situat': 462, 'self': 463, 'major': 464, 'stuff': 465, 'decent': 466, 'element': 467, 'dream': 468, 'return': 469, 'obvious': 470, 'order': 471, 'continu': 472, 'pace': 473, 'ridicul': 474, 'happi': 475, 'add': 476, 'group': 477, 'highli': 478, 'thank': 479, 'ladi': 480, 'novel': 481, 'speak': 482, 'pain': 483, 'career': 484, 'shoot': 485, 'strang': 486, 'heard': 487, 'sad': 488, 'polic': 489, 'husband': 490, 'import': 491, 'break': 492, 'took': 493, 'strong': 494, 'cannot': 495, 'robert': 496, 'predict': 497, 'violenc': 498, 'hilari': 499, 'recent': 500, 'countri': 501, 'known': 502, 'particularli': 503, 'pick': 504, 'documentari': 505, 'season': 506, 'critic': 507, 'jame': 508, 'compar': 509, 'alon': 510, 'obviou': 511, 'told': 512, 'state': 513, 'visual': 514, 'rock': 515, 'theater': 516, 'offer': 517, 'exist': 518, 'opinion': 519, 'gore': 520, 'hold': 521, 'crap': 522, 'result': 523, 'hear': 524, 'room': 525, 'realiti': 526, 'effort': 527, 'clich': 528, 'thriller': 529, 'caus': 530, 'explain': 531, 'serious': 532, 'sequel': 533, 'king': 534, 'local': 535, 'ago': 536, 'none': 537, 'hell': 538, 'note': 539, 'allow': 540, 'sister': 541, 'david': 542, 'simpl': 543, 'femal': 544, 'deliv': 545, 'ok': 546, 'class': 547, 'convinc': 548, 'check': 549, 'suspens': 550, 'win': 551, 'oscar': 552, 'buy': 553, 'huge': 554, 'valu': 555, 'sexual': 556, 'cool': 557, 'scari': 558, 'excit': 559, 'similar': 560, 'exactli': 561, 'apart': 562, 'provid': 563, 'shown': 564, 'avoid': 565, 'seriou': 566, 'english': 567, 'taken': 568, 'whose': 569, 'cinematographi': 570, 'shock': 571, 'polit': 572, 'spoiler': 573, 'offic': 574, 'across': 575, 'middl': 576, 'street': 577, 'pass': 578, 'messag': 579, 'charm': 580, 'somewhat': 581, 'silli': 582, 'modern': 583, 'filmmak': 584, 'confus': 585, 'form': 586, 'tale': 587, 'singl': 588, 'jack': 589, 'mostli': 590, 'william': 591, 'carri': 592, 'attent': 593, 'sing': 594, 'subject': 595, 'five': 596, 'richard': 597, 'prove': 598, 'stage': 599, 'team': 600, 'cop': 601, 'unlik': 602, 'georg': 603, 'televis': 604, 'monster': 605, 'earth': 606, 'cover': 607, 'villain': 608, 'pay': 609, 'marri': 610, 'toward': 611, 'build': 612, 'parent': 613, 'pull': 614, 'due': 615, 'respect': 616, 'fill': 617, 'four': 618, 'dialog': 619, 'remind': 620, 'futur': 621, 'typic': 622, 'weak': 623, '7': 624, 'cheap': 625, 'intellig': 626, 'atmospher': 627, 'british': 628, 'clearli': 629, '80': 630, 'non': 631, 'dog': 632, 'paul': 633, 'knew': 634, 'fast': 635, '8': 636, 'artist': 637, 'crime': 638, 'easili': 639, 'escap': 640, 'doubt': 641, 'adult': 642, 'detail': 643, 'date': 644, 'member': 645, 'romant': 646, 'fire': 647, 'drive': 648, 'gun': 649, 'straight': 650, 'beyond': 651, 'fit': 652, 'attack': 653, 'imag': 654, 'upon': 655, 'posit': 656, 'whether': 657, 'peter': 658, 'fantast': 659, 'appreci': 660, 'captur': 661, 'aspect': 662, 'ten': 663, 'plan': 664, 'discov': 665, 'remain': 666, 'near': 667, 'period': 668, 'air': 669, 'realist': 670, 'mark': 671, 'red': 672, 'dull': 673, 'adapt': 674, 'within': 675, 'spend': 676, 'lose': 677, 'color': 678, 'materi': 679, 'chase': 680, 'mari': 681, 'storylin': 682, 'forget': 683, 'bunch': 684, 'clear': 685, 'lee': 686, 'victim': 687, 'nearli': 688, 'box': 689, 'york': 690, 'match': 691, 'inspir': 692, 'finish': 693, 'mess': 694, 'standard': 695, 'easi': 696, 'truth': 697, 'suffer': 698, 'busi': 699, 'bill': 700, 'dramat': 701, 'space': 702, 'western': 703, 'e': 704, 'list': 705, 'battl': 706, 'notic': 707, 'de': 708, 'french': 709, 'ad': 710, '9': 711, 'tom': 712, 'larg': 713, 'among': 714, 'eventu': 715, 'accept': 716, 'train': 717, 'agre': 718, 'spirit': 719, 'soundtrack': 720, 'third': 721, 'teenag': 722, 'adventur': 723, 'soldier': 724, 'drug': 725, 'suggest': 726, 'famou': 727, 'sorri': 728, 'cri': 729, 'normal': 730, 'babi': 731, 'troubl': 732, 'ultim': 733, 'contain': 734, 'certain': 735, 'cultur': 736, 'romanc': 737, 'rare': 738, 'lame': 739, 'somehow': 740, 'disney': 741, 'mix': 742, 'gone': 743, 'cartoon': 744, 'student': 745, 'reveal': 746, 'fear': 747, 'kept': 748, 'suck': 749, 'attract': 750, 'appeal': 751, 'premis': 752, 'greatest': 753, 'design': 754, 'secret': 755, 'shame': 756, 'throw': 757, 'copi': 758, 'scare': 759, 'wit': 760, 'america': 761, 'admit': 762, 'particular': 763, 'brought': 764, 'relat': 765, 'screenplay': 766, 'whatev': 767, 'pure': 768, '70': 769, 'harri': 770, 'averag': 771, 'master': 772, 'describ': 773, 'male': 774, 'treat': 775, '20': 776, 'issu': 777, 'fantasi': 778, 'warn': 779, 'inde': 780, 'background': 781, 'forward': 782, 'project': 783, 'free': 784, 'memor': 785, 'japanes': 786, 'poorli': 787, 'award': 788, 'locat': 789, 'potenti': 790, 'amus': 791, 'struggl': 792, 'weird': 793, 'magic': 794, 'societi': 795, 'okay': 796, 'doctor': 797, 'imdb': 798, 'accent': 799, 'hot': 800, 'water': 801, 'dr': 802, '30': 803, 'express': 804, 'alien': 805, 'odd': 806, 'choic': 807, 'crazi': 808, 'fiction': 809, 'studio': 810, 'control': 811, 'becam': 812, 'masterpiec': 813, 'difficult': 814, 'fli': 815, 'joe': 816, 'scream': 817, 'costum': 818, 'lover': 819, 'uniqu': 820, 'refer': 821, 'remak': 822, 'girlfriend': 823, 'vampir': 824, 'prison': 825, 'execut': 826, 'wear': 827, 'jump': 828, 'unless': 829, 'wood': 830, 'creepi': 831, 'cheesi': 832, 'superb': 833, 'otherwis': 834, 'parti': 835, 'roll': 836, 'ghost': 837, 'mad': 838, 'public': 839, 'depict': 840, 'badli': 841, 'earlier': 842, 'week': 843, 'moral': 844, 'jane': 845, 'dumb': 846, 'fi': 847, 'grow': 848, 'flaw': 849, 'deep': 850, 'sci': 851, 'maker': 852, 'cat': 853, 'footag': 854, 'connect': 855, 'older': 856, 'bother': 857, 'plenti': 858, 'outsid': 859, 'stick': 860, 'gay': 861, 'catch': 862, 'plu': 863, 'co': 864, 'popular': 865, 'equal': 866, 'social': 867, 'disturb': 868, 'quickli': 869, 'perfectli': 870, 'dress': 871, '90': 872, 'era': 873, 'mistak': 874, 'lie': 875, 'ride': 876, 'previou': 877, 'combin': 878, 'concept': 879, 'band': 880, 'surviv': 881, 'rich': 882, 'answer': 883, 'front': 884, 'christma': 885, 'sweet': 886, 'insid': 887, 'concern': 888, 'bare': 889, 'eat': 890, 'ben': 891, 'beat': 892, 'listen': 893, 'c': 894, 'serv': 895, 'term': 896, 'german': 897, 'meant': 898, 'la': 899, 'stereotyp': 900, 'hardli': 901, 'law': 902, 'innoc': 903, 'desper': 904, 'memori': 905, 'promis': 906, 'intent': 907, 'cute': 908, 'variou': 909, 'inform': 910, 'steal': 911, 'brain': 912, 'post': 913, 'tone': 914, 'island': 915, 'amount': 916, 'compani': 917, 'nuditi': 918, 'track': 919, 'store': 920, 'claim': 921, '50': 922, 'flat': 923, 'hair': 924, 'univers': 925, 'land': 926, 'danger': 927, 'fairli': 928, 'kick': 929, 'scott': 930, 'player': 931, 'step': 932, 'plain': 933, 'crew': 934, 'toni': 935, 'share': 936, 'centuri': 937, 'tast': 938, 'engag': 939, 'achiev': 940, 'cold': 941, 'travel': 942, 'rip': 943, 'record': 944, 'suit': 945, 'sadli': 946, 'manner': 947, 'tension': 948, 'spot': 949, 'wrote': 950, 'intens': 951, 'fascin': 952, 'familiar': 953, 'burn': 954, 'depth': 955, 'remark': 956, 'histor': 957, 'destroy': 958, 'sleep': 959, 'purpos': 960, 'languag': 961, 'ruin': 962, 'ignor': 963, 'delight': 964, 'unbeliev': 965, 'italian': 966, 'abil': 967, 'soul': 968, 'collect': 969, 'detect': 970, 'clever': 971, 'violent': 972, 'rape': 973, 'reach': 974, 'door': 975, 'trash': 976, 'liter': 977, 'scienc': 978, 'reveng': 979, 'commun': 980, 'caught': 981, 'creatur': 982, 'trip': 983, 'approach': 984, 'intrigu': 985, 'fashion': 986, 'paint': 987, 'skill': 988, 'introduc': 989, 'channel': 990, 'complex': 991, 'camp': 992, 'christian': 993, 'hole': 994, 'extra': 995, 'ann': 996, 'mental': 997, 'limit': 998, 'immedi': 999, 'mere': 1000, '6': 1001, 'comput': 1002, 'slightli': 1003, 'million': 1004, 'slasher': 1005, 'conclus': 1006, 'imposs': 1007, 'suddenli': 1008, 'teen': 1009, 'neither': 1010, 'crimin': 1011, 'nation': 1012, 'physic': 1013, 'spent': 1014, 'respons': 1015, 'planet': 1016, 'receiv': 1017, 'fake': 1018, 'blue': 1019, 'sick': 1020, 'bizarr': 1021, 'embarrass': 1022, 'indian': 1023, '15': 1024, 'ring': 1025, 'drop': 1026, 'pop': 1027, 'drag': 1028, 'haunt': 1029, 'pointless': 1030, 'suspect': 1031, 'edg': 1032, 'search': 1033, 'handl': 1034, 'common': 1035, 'biggest': 1036, 'faith': 1037, 'arriv': 1038, 'hurt': 1039, 'technic': 1040, 'angel': 1041, 'genuin': 1042, 'dad': 1043, 'awesom': 1044, 'f': 1045, 'solid': 1046, 'colleg': 1047, 'focu': 1048, 'former': 1049, 'van': 1050, 'count': 1051, 'heavi': 1052, 'tear': 1053, 'wall': 1054, 'rais': 1055, 'visit': 1056, 'laughabl': 1057, 'younger': 1058, 'excus': 1059, 'fair': 1060, 'sign': 1061, 'cult': 1062, 'tough': 1063, 'key': 1064, 'motion': 1065, 'super': 1066, 'desir': 1067, 'addit': 1068, 'stun': 1069, 'exploit': 1070, 'cloth': 1071, 'smith': 1072, 'tortur': 1073, 'davi': 1074, 'race': 1075, 'author': 1076, 'cross': 1077, 'jim': 1078, 'compel': 1079, 'consist': 1080, 'minor': 1081, 'focus': 1082, 'commit': 1083, 'chemistri': 1084, 'pathet': 1085, 'park': 1086, 'obsess': 1087, 'frank': 1088, 'tradit': 1089, 'grade': 1090, '60': 1091, 'asid': 1092, 'brutal': 1093, 'somewher': 1094, 'steve': 1095, 'explor': 1096, 'depress': 1097, 'rule': 1098, 'u': 1099, 'grant': 1100, 'opportun': 1101, 'honest': 1102, 'besid': 1103, 'dub': 1104, 'anti': 1105, 'trailer': 1106, 'intend': 1107, 'bar': 1108, 'scientist': 1109, 'west': 1110, 'regard': 1111, 'longer': 1112, 'decad': 1113, 'judg': 1114, 'silent': 1115, 'armi': 1116, 'creativ': 1117, 'wild': 1118, 'south': 1119, 'g': 1120, 'stewart': 1121, 'draw': 1122, 'road': 1123, 'govern': 1124, 'ex': 1125, 'boss': 1126, 'practic': 1127, 'motiv': 1128, 'surprisingli': 1129, 'festiv': 1130, 'club': 1131, 'gang': 1132, 'london': 1133, 'page': 1134, 'redeem': 1135, 'green': 1136, 'aliv': 1137, 'idiot': 1138, 'militari': 1139, 'machin': 1140, 'display': 1141, 'thrill': 1142, 'repeat': 1143, '100': 1144, 'nobodi': 1145, 'yeah': 1146, 'folk': 1147, '40': 1148, 'journey': 1149, 'garbag': 1150, 'ground': 1151, 'tire': 1152, 'smile': 1153, 'bought': 1154, 'mood': 1155, 'sam': 1156, 'stone': 1157, 'cost': 1158, 'mouth': 1159, 'noir': 1160, 'terrif': 1161, 'agent': 1162, 'requir': 1163, 'utterli': 1164, 'area': 1165, 'honestli': 1166, 'sexi': 1167, 'report': 1168, 'geniu': 1169, 'glad': 1170, 'enter': 1171, 'humour': 1172, 'investig': 1173, 'serial': 1174, 'occasion': 1175, 'narr': 1176, 'passion': 1177, 'marriag': 1178, 'climax': 1179, 'industri': 1180, 'studi': 1181, 'center': 1182, 'nowher': 1183, 'charli': 1184, 'demon': 1185, 'ship': 1186, 'bear': 1187, 'hors': 1188, 'loos': 1189, 'hang': 1190, 'wow': 1191, 'graphic': 1192, 'admir': 1193, 'giant': 1194, 'send': 1195, 'damn': 1196, 'loud': 1197, 'profession': 1198, 'rel': 1199, 'subtl': 1200, 'nake': 1201, 'blow': 1202, 'bottom': 1203, 'insult': 1204, 'batman': 1205, 'boyfriend': 1206, 'kelli': 1207, 'doubl': 1208, 'r': 1209, 'initi': 1210, 'frame': 1211, 'opera': 1212, 'gem': 1213, 'church': 1214, 'challeng': 1215, 'drawn': 1216, 'cinemat': 1217, 'affect': 1218, 'nightmar': 1219, 'l': 1220, 'evid': 1221, 'fulli': 1222, 'seek': 1223, 'j': 1224, 'conflict': 1225, 'essenti': 1226, 'arm': 1227, 'grace': 1228, 'henri': 1229, 'christoph': 1230, 'wind': 1231, 'witch': 1232, 'narrat': 1233, 'assum': 1234, 'hunt': 1235, 'push': 1236, 'chri': 1237, 'wise': 1238, 'nomin': 1239, 'repres': 1240, 'month': 1241, 'hide': 1242, 'avail': 1243, 'affair': 1244, 'sceneri': 1245, 'justic': 1246, 'smart': 1247, 'bond': 1248, 'thu': 1249, 'flashback': 1250, 'interview': 1251, 'outstand': 1252, 'constantli': 1253, 'satisfi': 1254, 'presenc': 1255, 'bed': 1256, 'central': 1257, 'content': 1258, 'iron': 1259, 'sell': 1260, 'everybodi': 1261, 'gag': 1262, 'hotel': 1263, 'slowli': 1264, 'hire': 1265, 'system': 1266, 'charl': 1267, 'hey': 1268, 'individu': 1269, 'thrown': 1270, 'adam': 1271, 'mediocr': 1272, 'jone': 1273, 'allen': 1274, 'billi': 1275, 'ray': 1276, 'lesson': 1277, 'cameo': 1278, 'photographi': 1279, 'fellow': 1280, 'pari': 1281, 'strike': 1282, 'brief': 1283, 'independ': 1284, 'rise': 1285, 'absurd': 1286, 'neg': 1287, 'impact': 1288, 'phone': 1289, 'born': 1290, 'model': 1291, 'ill': 1292, 'spoil': 1293, 'fresh': 1294, 'angl': 1295, 'likabl': 1296, 'abus': 1297, 'discuss': 1298, 'hill': 1299, 'sight': 1300, 'ahead': 1301, 'sent': 1302, 'photograph': 1303, 'logic': 1304, 'blame': 1305, 'occur': 1306, 'shine': 1307, 'bruce': 1308, 'mainli': 1309, 'skip': 1310, 'forev': 1311, 'commerci': 1312, 'held': 1313, 'teacher': 1314, 'segment': 1315, 'surround': 1316, 'zero': 1317, 'blond': 1318, 'resembl': 1319, 'summer': 1320, 'satir': 1321, 'trap': 1322, 'queen': 1323, 'six': 1324, 'ball': 1325, 'fool': 1326, 'tragedi': 1327, 'sub': 1328, 'twice': 1329, 'pack': 1330, 'reaction': 1331, 'bomb': 1332, 'hospit': 1333, 'will': 1334, 'protagonist': 1335, 'mile': 1336, 'sport': 1337, 'vote': 1338, 'drink': 1339, 'mom': 1340, 'trust': 1341, 'jerri': 1342, 'encount': 1343, 'plane': 1344, 'current': 1345, 'program': 1346, 'al': 1347, 'station': 1348, 'martin': 1349, 'celebr': 1350, 'choos': 1351, 'join': 1352, 'lord': 1353, 'favourit': 1354, 'tragic': 1355, 'round': 1356, 'field': 1357, 'vision': 1358, 'jean': 1359, 'robot': 1360, 'arthur': 1361, 'tie': 1362, 'random': 1363, 'fortun': 1364, 'roger': 1365, 'dread': 1366, 'intern': 1367, 'psycholog': 1368, 'epic': 1369, 'prefer': 1370, 'improv': 1371, 'nonsens': 1372, 'highlight': 1373, 'legend': 1374, 'formula': 1375, 'pleasur': 1376, 'tape': 1377, '11': 1378, 'dollar': 1379, 'gorgeou': 1380, 'fox': 1381, 'thin': 1382, 'porn': 1383, 'object': 1384, 'wide': 1385, 'ugli': 1386, 'buddi': 1387, 'influenc': 1388, 'prepar': 1389, 'nasti': 1390, 'ii': 1391, 'warm': 1392, 'supposedli': 1393, 'reflect': 1394, 'progress': 1395, 'worthi': 1396, 'youth': 1397, 'length': 1398, 'unusu': 1399, 'latter': 1400, 'crash': 1401, 'shop': 1402, 'seven': 1403, 'superior': 1404, 'childhood': 1405, 'remot': 1406, 'theatr': 1407, 'pilot': 1408, 'funniest': 1409, 'paid': 1410, 'disgust': 1411, 'trick': 1412, 'convers': 1413, 'castl': 1414, 'fell': 1415, 'rob': 1416, 'disast': 1417, 'establish': 1418, 'gangster': 1419, 'disappear': 1420, 'mine': 1421, 'ident': 1422, 'suicid': 1423, 'heaven': 1424, 'singer': 1425, 'mask': 1426, 'heroin': 1427, 'tend': 1428, 'decis': 1429, 'forgotten': 1430, 'brian': 1431, 'partner': 1432, 'alan': 1433, 'desert': 1434, 'recogn': 1435, 'stuck': 1436, 'sky': 1437, 'ms': 1438, 'p': 1439, 'thoroughli': 1440, 'replac': 1441, 'accur': 1442, 'market': 1443, 'commentari': 1444, 'eddi': 1445, 'andi': 1446, 'uncl': 1447, 'clue': 1448, 'danni': 1449, 'seemingli': 1450, 'jackson': 1451, 'devil': 1452, 'that': 1453, 'pair': 1454, 'refus': 1455, 'therefor': 1456, 'accid': 1457, 'fault': 1458, 'ed': 1459, 'unit': 1460, 'fate': 1461, 'river': 1462, 'afraid': 1463, 'tune': 1464, 'stephen': 1465, 'clean': 1466, 'hidden': 1467, 'russian': 1468, 'instanc': 1469, 'captain': 1470, 'test': 1471, 'quick': 1472, 'convey': 1473, 'irrit': 1474, 'readi': 1475, 'european': 1476, 'frustrat': 1477, 'insan': 1478, 'daniel': 1479, 'food': 1480, 'rescu': 1481, 'chines': 1482, '1950': 1483, 'wed': 1484, 'lock': 1485, 'angri': 1486, 'dirti': 1487, 'joy': 1488, 'price': 1489, 'steven': 1490, 'cage': 1491, 'bland': 1492, 'anymor': 1493, 'rang': 1494, 'wooden': 1495, 'news': 1496, 'jason': 1497, 'n': 1498, 'rush': 1499, 'worri': 1500, 'board': 1501, 'martial': 1502, 'led': 1503, '12': 1504, 'twenti': 1505, 'symbol': 1506, 'transform': 1507, 'hunter': 1508, 'cgi': 1509, 'piti': 1510, 'onto': 1511, 'sentiment': 1512, 'x': 1513, 'johnni': 1514, 'invent': 1515, 'explan': 1516, 'process': 1517, 'attitud': 1518, 'owner': 1519, 'awar': 1520, 'aim': 1521, 'favor': 1522, 'necessari': 1523, 'target': 1524, 'energi': 1525, 'floor': 1526, 'opposit': 1527, 'religi': 1528, 'insight': 1529, 'blind': 1530, 'window': 1531, 'chick': 1532, 'movement': 1533, 'research': 1534, 'deepli': 1535, 'possess': 1536, 'comparison': 1537, 'mountain': 1538, 'comed': 1539, 'grand': 1540, 'whatsoev': 1541, 'rain': 1542, 'began': 1543, 'mid': 1544, 'bank': 1545, 'shadow': 1546, 'parodi': 1547, 'princ': 1548, 'weapon': 1549, 'pre': 1550, 'friendship': 1551, 'taylor': 1552, 'credibl': 1553, 'dougla': 1554, 'flesh': 1555, 'teach': 1556, 'terror': 1557, 'hint': 1558, 'bloodi': 1559, 'protect': 1560, 'marvel': 1561, 'accord': 1562, 'drunk': 1563, 'anybodi': 1564, 'leader': 1565, 'load': 1566, 'watchabl': 1567, 'superman': 1568, 'brown': 1569, 'freddi': 1570, 'jeff': 1571, 'appropri': 1572, 'tim': 1573, 'seat': 1574, 'hitler': 1575, 'unknown': 1576, 'villag': 1577, 'charg': 1578, 'knock': 1579, 'keaton': 1580, 'enemi': 1581, 'media': 1582, 'england': 1583, 'empti': 1584, 'unnecessari': 1585, 'buck': 1586, 'craft': 1587, 'strength': 1588, 'wave': 1589, 'perspect': 1590, 'dare': 1591, 'utter': 1592, 'kiss': 1593, 'ford': 1594, 'correct': 1595, 'contrast': 1596, 'nativ': 1597, 'magnific': 1598, 'speed': 1599, 'knowledg': 1600, 'distract': 1601, 'soap': 1602, 'chill': 1603, 'anywher': 1604, 'nazi': 1605, 'breath': 1606, 'fred': 1607, '1980': 1608, 'ice': 1609, 'mission': 1610, 'joan': 1611, 'jr': 1612, 'moon': 1613, 'crowd': 1614, 'frighten': 1615, '000': 1616, 'soft': 1617, 'kate': 1618, 'hundr': 1619, 'nick': 1620, 'dan': 1621, 'dick': 1622, 'dozen': 1623, 'somebodi': 1624, 'radio': 1625, 'simon': 1626, 'academi': 1627, 'thousand': 1628, 'loss': 1629, 'shakespear': 1630, 'andrew': 1631, 'root': 1632, 'quot': 1633, 'sum': 1634, 'account': 1635, 'vehicl': 1636, 'behavior': 1637, '1970': 1638, 'leg': 1639, 'convent': 1640, 'gold': 1641, 'regular': 1642, 'pretenti': 1643, 'compet': 1644, 'worker': 1645, 'demand': 1646, 'stretch': 1647, 'lynch': 1648, 'candi': 1649, 'japan': 1650, 'notabl': 1651, 'interpret': 1652, 'privat': 1653, 'explos': 1654, 'debut': 1655, 'tarzan': 1656, 'constant': 1657, 'prais': 1658, 'revolv': 1659, 'sea': 1660, 'translat': 1661, 'spi': 1662, 'failur': 1663, 'sat': 1664, 'technolog': 1665, 'franc': 1666, 'ass': 1667, 'jesu': 1668, 'quiet': 1669, 'threaten': 1670, 'met': 1671, 'higher': 1672, 'toy': 1673, 'aid': 1674, 'punch': 1675, 'kevin': 1676, 'interact': 1677, 'mike': 1678, 'abandon': 1679, 'vh': 1680, 'confront': 1681, 'bet': 1682, 'separ': 1683, 'command': 1684, 'belong': 1685, 'site': 1686, 'servic': 1687, 'techniqu': 1688, 'recal': 1689, 'gotten': 1690, 'stunt': 1691, 'cabl': 1692, 'foot': 1693, 'freak': 1694, 'bug': 1695, 'fu': 1696, 'jimmi': 1697, 'bright': 1698, 'capabl': 1699, 'african': 1700, 'stock': 1701, 'presid': 1702, 'succeed': 1703, 'fat': 1704, 'clark': 1705, 'boat': 1706, 'gene': 1707, 'spanish': 1708, 'structur': 1709, 'paper': 1710, 'kidnap': 1711, 'belief': 1712, 'whilst': 1713, 'factor': 1714, 'witti': 1715, 'educ': 1716, 'complic': 1717, 'tree': 1718, 'bob': 1719, 'attend': 1720, 'realis': 1721, 'realism': 1722, 'assist': 1723, 'broken': 1724, 'santa': 1725, 'finest': 1726, 'smoke': 1727, 'up': 1728, 'v': 1729, 'observ': 1730, 'determin': 1731, 'depart': 1732, 'fame': 1733, 'oper': 1734, 'routin': 1735, 'hat': 1736, 'rubbish': 1737, 'domin': 1738, 'lewi': 1739, 'lone': 1740, 'hook': 1741, 'kinda': 1742, 'advanc': 1743, 'foreign': 1744, 'morgan': 1745, 'safe': 1746, 'rank': 1747, 'numer': 1748, 'werewolf': 1749, 'rose': 1750, 'washington': 1751, 'civil': 1752, 'vs': 1753, 'shallow': 1754, 'shape': 1755, 'morn': 1756, 'gari': 1757, 'winner': 1758, 'accomplish': 1759, 'kong': 1760, 'ordinari': 1761, 'virtual': 1762, 'grab': 1763, 'whenev': 1764, 'peac': 1765, 'offens': 1766, 'h': 1767, 'luck': 1768, 'patient': 1769, 'contriv': 1770, 'unfunni': 1771, 'welcom': 1772, 'bigger': 1773, 'complain': 1774, 'activ': 1775, 'trek': 1776, 'con': 1777, 'pretend': 1778, 'dimension': 1779, 'wake': 1780, 'dri': 1781, 'lesbian': 1782, 'cain': 1783, 'code': 1784, 'eric': 1785, 'flash': 1786, 'statu': 1787, 'albert': 1788, 'manipul': 1789, 'guard': 1790, 'dancer': 1791, 'corrupt': 1792, 'sourc': 1793, 'gain': 1794, 'speech': 1795, 'context': 1796, 'awkward': 1797, 'signific': 1798, '13': 1799, 'psycho': 1800, 'anthoni': 1801, 'clip': 1802, 'corni': 1803, 'sean': 1804, 'curiou': 1805, 'religion': 1806, 'reli': 1807, 'priest': 1808, 'w': 1809, 'theatric': 1810, 'advic': 1811, 'flow': 1812, 'addict': 1813, 'secur': 1814, 'skin': 1815, 'howard': 1816, 'asian': 1817, 'jennif': 1818, 'specif': 1819, 'organ': 1820, 'core': 1821, 'comfort': 1822, 'golden': 1823, 'promot': 1824, 'luke': 1825, 'lucki': 1826, 'cash': 1827, 'cheat': 1828, 'lower': 1829, 'associ': 1830, 'dislik': 1831, 'frankli': 1832, 'regret': 1833, 'balanc': 1834, 'contribut': 1835, 'devic': 1836, 'frequent': 1837, 'wing': 1838, 'degre': 1839, 'spell': 1840, 'lake': 1841, 'print': 1842, 'sake': 1843, 'forgiv': 1844, 'mass': 1845, 'thoma': 1846, 'betti': 1847, 'gordon': 1848, 'crack': 1849, 'unexpect': 1850, 'amateur': 1851, 'construct': 1852, 'categori': 1853, 'unfold': 1854, 'depend': 1855, 'grown': 1856, 'invit': 1857, 'honor': 1858, 'condit': 1859, 'matur': 1860, 'intellectu': 1861, 'anna': 1862, 'walter': 1863, 'grew': 1864, 'veteran': 1865, 'sudden': 1866, 'spectacular': 1867, 'mirror': 1868, 'sole': 1869, 'grip': 1870, 'gift': 1871, 'demonstr': 1872, 'overli': 1873, 'meanwhil': 1874, 'freedom': 1875, 'card': 1876, 'robin': 1877, 'experienc': 1878, 'liner': 1879, 'subtitl': 1880, 'unabl': 1881, 'circumst': 1882, 'brilliantli': 1883, 'drew': 1884, 'colour': 1885, 'crappi': 1886, 'sheriff': 1887, 'theori': 1888, 'oliv': 1889, 'section': 1890, 'path': 1891, 'pile': 1892, 'laughter': 1893, 'altern': 1894, 'cook': 1895, 'matt': 1896, 'parker': 1897, 'sheer': 1898, 'lawyer': 1899, 'sinatra': 1900, 'accident': 1901, 'defin': 1902, 'hall': 1903, 'wander': 1904, 'relief': 1905, 'treatment': 1906, 'captiv': 1907, 'dragon': 1908, 'hank': 1909, 'gratuit': 1910, 'moor': 1911, 'halloween': 1912, 'jacki': 1913, 'wound': 1914, 'broadway': 1915, 'barbara': 1916, 'unintent': 1917, 'k': 1918, 'cowboy': 1919, 'wayn': 1920, 'kung': 1921, 'surreal': 1922, 'canadian': 1923, 'statement': 1924, 'spoof': 1925, 'winter': 1926, 'compos': 1927, 'treasur': 1928, 'gonna': 1929, 'fare': 1930, 'cheer': 1931, 'fish': 1932, 'victor': 1933, 'unrealist': 1934, 'emerg': 1935, 'sensit': 1936, 'woodi': 1937, 'neighbor': 1938, 'driven': 1939, 'sympathet': 1940, 'ran': 1941, 'glass': 1942, 'menac': 1943, 'topic': 1944, 'overlook': 1945, 'authent': 1946, 'expos': 1947, 'ancient': 1948, 'chief': 1949, 'gross': 1950, 'michel': 1951, 'handsom': 1952, 'comedian': 1953, 'stranger': 1954, 'feet': 1955, 'network': 1956, 'nevertheless': 1957, 'pleasant': 1958, 'contemporari': 1959, 'built': 1960, 'cinderella': 1961, 'russel': 1962, 'miser': 1963, 'blockbust': 1964, 'underr': 1965, 'earn': 1966, 'gori': 1967, 'consider': 1968, 'letter': 1969, 'endless': 1970, 'solv': 1971, 'brook': 1972, 'switch': 1973, 'edward': 1974, 'joseph': 1975, 'virgin': 1976, 'victoria': 1977, 'bullet': 1978, 'convict': 1979, 'chosen': 1980, 'scenario': 1981, 'alex': 1982, 'scale': 1983, 'cynic': 1984, '0': 1985, 'outrag': 1986, 'curs': 1987, 'gut': 1988, 'sword': 1989, 'com': 1990, 'substanc': 1991, 'wrap': 1992, 'monkey': 1993, 'driver': 1994, 'proper': 1995, 'screenwrit': 1996, 'juli': 1997, 'uk': 1998, 'court': 1999, 'bird': 2000, 'indic': 2001, 'remov': 2002, 'par': 2003, 'grave': 2004, 'loser': 2005, 'naiv': 2006, 'inevit': 2007, 'nanci': 2008, 'advertis': 2009, 'roy': 2010, 'consequ': 2011, 'rental': 2012, 'fatal': 2013, 'slap': 2014, 'le': 2015, 'germani': 2016, 'invis': 2017, 'brave': 2018, 'bridg': 2019, 'loui': 2020, 'ador': 2021, 'anger': 2022, 'footbal': 2023, 'provok': 2024, 'chan': 2025, 'anderson': 2026, 'alcohol': 2027, 'stumbl': 2028, 'professor': 2029, 'ryan': 2030, 'willi': 2031, 'australian': 2032, '1930': 2033, 'sharp': 2034, 'patrick': 2035, 'bat': 2036, 'assassin': 2037, 'cell': 2038, 'liber': 2039, 'ape': 2040, 'saturday': 2041, 'amateurish': 2042, 'heck': 2043, 'lousi': 2044, 'strongli': 2045, 'deni': 2046, 'trilog': 2047, 'eight': 2048, 'refresh': 2049, 'sin': 2050, 'vagu': 2051, 'resid': 2052, 'justifi': 2053, 'san': 2054, 'terrifi': 2055, 'mini': 2056, 'defeat': 2057, 'creator': 2058, 'indi': 2059, 'sympathi': 2060, 'reput': 2061, 'expert': 2062, 'task': 2063, 'tabl': 2064, 'prevent': 2065, 'endur': 2066, 'tediou': 2067, 'trial': 2068, 'imit': 2069, 'rival': 2070, 'che': 2071, 'employ': 2072, 'offend': 2073, 'basebal': 2074, 'pitch': 2075, 'max': 2076, 'complaint': 2077, 'fairi': 2078, 'dig': 2079, 'weekend': 2080, 'europ': 2081, 'beach': 2082, 'murphi': 2083, 'purchas': 2084, 'format': 2085, 'risk': 2086, 'powel': 2087, 'tini': 2088, 'reminisc': 2089, 'glimps': 2090, 'harsh': 2091, 'nois': 2092, 'bite': 2093, 'hype': 2094, 'titan': 2095, 'strip': 2096, 'asleep': 2097, 'north': 2098, '14': 2099, 'fals': 2100, 'prime': 2101, 'till': 2102, 'destruct': 2103, 'africa': 2104, 'revel': 2105, 'descript': 2106, 'texa': 2107, 'inner': 2108, 'semi': 2109, 'uninterest': 2110, 'spin': 2111, 'surfac': 2112, 'arrest': 2113, 'excess': 2114, 'sitcom': 2115, 'hitchcock': 2116, 'massiv': 2117, 'makeup': 2118, 'maintain': 2119, 'dinosaur': 2120, 'argu': 2121, 'controversi': 2122, 'twin': 2123, 'expens': 2124, 'ludicr': 2125, 'kim': 2126, 'insist': 2127, 'reject': 2128, 'melodrama': 2129, 'stare': 2130, 'ideal': 2131, 'supernatur': 2132, 'atroci': 2133, 'press': 2134, 'forest': 2135, 'host': 2136, 'subplot': 2137, 'erot': 2138, 'nail': 2139, 'ala': 2140, 'ga': 2141, 'columbo': 2142, 'presum': 2143, 'notch': 2144, 'dude': 2145, 'cant': 2146, 'identifi': 2147, 'plagu': 2148, 'crude': 2149, 'character': 2150, 'closer': 2151, 'method': 2152, 'guest': 2153, 'forgett': 2154, 'lion': 2155, 'princess': 2156, 'ear': 2157, 'landscap': 2158, 'border': 2159, 'foster': 2160, 'beast': 2161, 'previous': 2162, 'damag': 2163, 'aunt': 2164, 'accus': 2165, 'jungl': 2166, 'birth': 2167, 'storytel': 2168, 'urban': 2169, 'pacino': 2170, 'bound': 2171, 'guid': 2172, 'nude': 2173, 'chose': 2174, 'jess': 2175, 'propaganda': 2176, 'thirti': 2177, 'emma': 2178, 'doll': 2179, 'pet': 2180, '25': 2181, 'mate': 2182, 'mainstream': 2183, 'warrior': 2184, 'whoever': 2185, 'size': 2186, 'gritti': 2187, 'upset': 2188, 'merit': 2189, 'latest': 2190, 'cooper': 2191, 'poster': 2192, 'friday': 2193, 'deadli': 2194, 'exact': 2195, 'corps': 2196, 'ton': 2197, 'contact': 2198, 'buff': 2199, 'blend': 2200, 'sun': 2201, 'contest': 2202, '1990': 2203, 'rough': 2204, 'warner': 2205, 'wilson': 2206, 'settl': 2207, 'citizen': 2208, 'popul': 2209, 'environ': 2210, 'alic': 2211, 'pitt': 2212, 'select': 2213, 'bu': 2214, 'overcom': 2215, 'metal': 2216, 'widow': 2217, 'mgm': 2218, 'rat': 2219, 'link': 2220, 'revolut': 2221, 'guilti': 2222, 'particip': 2223, 'lift': 2224, 'ted': 2225, 'prostitut': 2226, 'exagger': 2227, 'johnson': 2228, 'corner': 2229, '1960': 2230, 'afternoon': 2231, 'matrix': 2232, 'moron': 2233, 'corpor': 2234, 'accompani': 2235, 'holm': 2236, 'multipl': 2237, 'sincer': 2238, 'clair': 2239, 'friendli': 2240, 'doom': 2241, 'hood': 2242, 'instal': 2243, 'leagu': 2244, 'advis': 2245, 'examin': 2246, 'lugosi': 2247, 'campi': 2248, 'hip': 2249, 'junk': 2250, 'sunday': 2251, 'aka': 2252, 'irish': 2253, 'blah': 2254, 'string': 2255, 'defend': 2256, 'grim': 2257, 'rachel': 2258, 'varieti': 2259, 'pro': 2260, 'confid': 2261, 'tight': 2262, 'shake': 2263, 'icon': 2264, 'shut': 2265, 'directli': 2266, 'denni': 2267, 'mexican': 2268, 'medic': 2269, 'jaw': 2270, 'attach': 2271, 'sullivan': 2272, 'goal': 2273, 'truck': 2274, 'prior': 2275, 'sarah': 2276, 'sentenc': 2277, 'breast': 2278, 'legendari': 2279, 'vietnam': 2280, 'terrorist': 2281, 'bourn': 2282, 'courag': 2283, 'dean': 2284, 'duke': 2285, 'donald': 2286, 'split': 2287, 'nose': 2288, 'behav': 2289, 'proceed': 2290, 'un': 2291, 'hong': 2292, 'entri': 2293, 'yell': 2294, 'swim': 2295, 'buri': 2296, 'crush': 2297, 'lifetim': 2298, 'forth': 2299, 'gather': 2300, 'everywher': 2301, 'confess': 2302, 'concentr': 2303, 'borrow': 2304, 'stolen': 2305, 'jerk': 2306, 'unconvinc': 2307, 'pan': 2308, 'turkey': 2309, 'spite': 2310, 'california': 2311, 'lip': 2312, 'deliveri': 2313, 'julia': 2314, 'reward': 2315, 'quest': 2316, 'downright': 2317, 'offici': 2318, 'hoffman': 2319, 'china': 2320, 'flight': 2321, 'proud': 2322, 'freeman': 2323, 'fabul': 2324, 'fade': 2325, 'inept': 2326, 'lazi': 2327, 'encourag': 2328, 'worthwhil': 2329, 'betray': 2330, 'sink': 2331, 'jail': 2332, 'sir': 2333, 'jon': 2334, 'notori': 2335, 'cousin': 2336, 'bag': 2337, 'lisa': 2338, 'susan': 2339, 'branagh': 2340, 'teeth': 2341, 'retard': 2342, 'storm': 2343, 'relev': 2344, 'bell': 2345, 'imageri': 2346, 'survivor': 2347, 'shower': 2348, 'toler': 2349, 'trade': 2350, 'shark': 2351, 'bride': 2352, 'hugh': 2353, 'alright': 2354, 'finger': 2355, 'mexico': 2356, 'quirki': 2357, 'summari': 2358, 'stab': 2359, 'tremend': 2360, 'facial': 2361, 'pose': 2362, 'blown': 2363, 'von': 2364, 'hyster': 2365, 'bitter': 2366, 'ha': 2367, 'ned': 2368, 'address': 2369, 'cruel': 2370, 'afterward': 2371, 'bone': 2372, 'ron': 2373, 'christ': 2374, 'scheme': 2375, 'larri': 2376, 'distinct': 2377, 'beg': 2378, 'screw': 2379, 'traci': 2380, 'feed': 2381, 'tour': 2382, 'swear': 2383, 'thumb': 2384, 'pursu': 2385, 'snake': 2386, 'photo': 2387, 'occas': 2388, 'raw': 2389, 'chair': 2390, 'stomach': 2391, 'mechan': 2392, 'obscur': 2393, 'hardi': 2394, 'chain': 2395, 'holiday': 2396, 'heavili': 2397, 'argument': 2398, 'necessarili': 2399, 'southern': 2400, 'cabin': 2401, 'render': 2402, 'sidney': 2403, 'gruesom': 2404, 'resist': 2405, 'philip': 2406, 'understood': 2407, 'india': 2408, 'satan': 2409, 'racist': 2410, 'indulg': 2411, 'tongu': 2412, 'midnight': 2413, 'forgot': 2414, 'obnoxi': 2415, 'stalk': 2416, 'outfit': 2417, 'integr': 2418, 'fourth': 2419, 'belov': 2420, 'pregnant': 2421, 'lay': 2422, 'slapstick': 2423, 'garden': 2424, 'magazin': 2425, 'restor': 2426, 'deeper': 2427, 'ticket': 2428, 'carol': 2429, 'inhabit': 2430, '17': 2431, 'lincoln': 2432, 'incid': 2433, 'devot': 2434, 'brad': 2435, 'shoe': 2436, 'sandler': 2437, 'anticip': 2438, 'guarante': 2439, 'disbelief': 2440, 'benefit': 2441, 'underground': 2442, 'divorc': 2443, 'lili': 2444, 'elizabeth': 2445, 'maria': 2446, 'cring': 2447, 'slave': 2448, 'capit': 2449, 'bbc': 2450, 'amazingli': 2451, 'explod': 2452, 'greater': 2453, 'princip': 2454, 'creation': 2455, 'mildli': 2456, 'funnier': 2457, 'halfway': 2458, 'lesli': 2459, 'extraordinari': 2460, 'introduct': 2461, 'wreck': 2462, 'punish': 2463, 'transfer': 2464, 'tap': 2465, 'extent': 2466, 'text': 2467, 'overwhelm': 2468, 'advantag': 2469, 'enhanc': 2470, 'error': 2471, 'plant': 2472, 'jessica': 2473, 'east': 2474, 'lo': 2475, 'preview': 2476, 'deliber': 2477, 'lane': 2478, 'horrif': 2479, 'dynam': 2480, 'vacat': 2481, 'basi': 2482, 'sophist': 2483, 'ensu': 2484, 'miscast': 2485, 'miller': 2486, 'vincent': 2487, '2000': 2488, 'homosexu': 2489, 'appli': 2490, 'via': 2491, 'spoken': 2492, 'measur': 2493, 'steel': 2494, 'sleazi': 2495, 'extend': 2496, 'uncomfort': 2497, 'reed': 2498, 'bollywood': 2499, 'mansion': 2500, 'elev': 2501, 'blair': 2502, 'fix': 2503, 'alter': 2504, 'dentist': 2505, 'assign': 2506, 'beer': 2507, 'conceiv': 2508, 'mous': 2509, 'goofi': 2510, 'breathtak': 2511, 'daili': 2512, 'melt': 2513, 'cathol': 2514, 'hippi': 2515, 'savag': 2516, 'overact': 2517, 'stanley': 2518, 'inspector': 2519, 'properli': 2520, 'everyday': 2521, 'nowaday': 2522, 'oppos': 2523, 'sacrific': 2524, 'subsequ': 2525, 'carpent': 2526, 'succe': 2527, 'burt': 2528, 'neck': 2529, 'block': 2530, 'massacr': 2531, 'circl': 2532, 'laura': 2533, 'concert': 2534, 'mob': 2535, 'lesser': 2536, 'access': 2537, 'portrait': 2538, 'seagal': 2539, 'pool': 2540, 'grey': 2541, 'christi': 2542, 'fallen': 2543, 'fay': 2544, 'react': 2545, 'relax': 2546, 'jewish': 2547, 'jake': 2548, 'sinist': 2549, 'chees': 2550, 'isol': 2551, 'competit': 2552, 'usa': 2553, 'chop': 2554, 'spiritu': 2555, 'lyric': 2556, 'stink': 2557, '2006': 2558, 'nine': 2559, 'immens': 2560, 'appal': 2561, 'nonetheless': 2562, 'suitabl': 2563, 'creep': 2564, 'ironi': 2565, 'retir': 2566, 'shirt': 2567, 'showcas': 2568, 'luci': 2569, 'rage': 2570, 'nut': 2571, 'reduc': 2572, 'franchis': 2573, 'user': 2574, 'sold': 2575, 'spring': 2576, 'adopt': 2577, 'navi': 2578, 'needless': 2579, 'jay': 2580, 'digit': 2581, 'asham': 2582, 'per': 2583, 'uninspir': 2584, 'bath': 2585, 'bulli': 2586, 'nurs': 2587, 'zone': 2588, 'stanwyck': 2589, 'oddli': 2590, '1940': 2591, 'upper': 2592, 'laid': 2593, 'broadcast': 2594, 'illustr': 2595, 'sutherland': 2596, 'amongst': 2597, '2001': 2598, 'baker': 2599, 'brando': 2600, 'fulfil': 2601, 'stylish': 2602, 'throat': 2603, 'disguis': 2604, 'aspir': 2605, '18': 2606, 'em': 2607, 'pound': 2608, 'wanna': 2609, 'thief': 2610, 'pride': 2611, 'impli': 2612, 'nobl': 2613, 'endear': 2614, 'wwii': 2615, 'neighborhood': 2616, 'tens': 2617, '16': 2618, 'bett': 2619, 'diseas': 2620, 'prop': 2621, 'coher': 2622, 'shift': 2623, 'dawn': 2624, 'albeit': 2625, 'cinematograph': 2626, 'distribut': 2627, 'shoulder': 2628, 'dinner': 2629, 'bo': 2630, 'rochest': 2631, 'forti': 2632, 'rebel': 2633, 'wash': 2634, 'poignant': 2635, 'function': 2636, 'contract': 2637, 'knife': 2638, 'snow': 2639, 'matthau': 2640, 'silenc': 2641, 'shout': 2642, 'surf': 2643, 'elvira': 2644, 'internet': 2645, 'widmark': 2646, 'silver': 2647, 'duti': 2648, 'horrend': 2649, 'proof': 2650, 'henc': 2651, 'cancel': 2652, 'reunion': 2653, 'mindless': 2654, 'heat': 2655, 'height': 2656, 'eeri': 2657, 'instinct': 2658, 'chuck': 2659, 'derek': 2660, 'cannib': 2661, 'musician': 2662, 'incoher': 2663, 'torn': 2664, 'spielberg': 2665, 'repetit': 2666, 'pie': 2667, 'neat': 2668, 'greatli': 2669, 'etern': 2670, 'absorb': 2671, 'alik': 2672, 'glori': 2673, 'premier': 2674, 'innov': 2675, 'mill': 2676, 'elvi': 2677, 'wealthi': 2678, 'diamond': 2679, 'horrifi': 2680, 'redempt': 2681, 'homag': 2682, 'racism': 2683, 'britain': 2684, 'trite': 2685, 'fbi': 2686, 'lovabl': 2687, 'bang': 2688, 'itali': 2689, 'announc': 2690, 'infam': 2691, 'burton': 2692, 'precis': 2693, 'nelson': 2694, 'crisi': 2695, 'blank': 2696, 'wilder': 2697, 'parallel': 2698, 'resolut': 2699, 'helen': 2700, 'dedic': 2701, 'flop': 2702, 'pat': 2703, 'hammer': 2704, 'ensembl': 2705, 'streisand': 2706, 'happili': 2707, 'chaplin': 2708, 'cube': 2709, 'disagre': 2710, 'st': 2711, 'triumph': 2712, 'conclud': 2713, 'broke': 2714, 'mar': 2715, 'oil': 2716, 'carter': 2717, 'plastic': 2718, 'factori': 2719, 'own': 2720, 'climb': 2721, 'march': 2722, 'row': 2723, 'chuckl': 2724, 'weight': 2725, 'bush': 2726, 'vega': 2727, 'fighter': 2728, 'rocket': 2729, 'spare': 2730, 'enorm': 2731, 'dump': 2732, 'luca': 2733, 'dane': 2734, 'lust': 2735, 'sensibl': 2736, 'wherea': 2737, 'meaning': 2738, 'unforgett': 2739, 'boot': 2740, 'thug': 2741, 'kurt': 2742, 'mst3k': 2743, 'dear': 2744, 'engin': 2745, 'brand': 2746, 'butt': 2747, 'fifti': 2748, 'stress': 2749, 'adequ': 2750, 'rap': 2751, 'caricatur': 2752, 'arnold': 2753, 'bobbi': 2754, 'difficulti': 2755, 'karloff': 2756, 'threat': 2757, 'ego': 2758, 'homeless': 2759, 'polish': 2760, 'journalist': 2761, 'barri': 2762, 'swing': 2763, 'secretari': 2764, 'arrog': 2765, 'hamlet': 2766, 'ralph': 2767, 'elabor': 2768, 'fest': 2769, 'flynn': 2770, 'induc': 2771, 'grate': 2772, 'tool': 2773, 'unbear': 2774, 'float': 2775, 'conspiraci': 2776, 'puppet': 2777, 'arrang': 2778, 'spike': 2779, 'resort': 2780, 'fanci': 2781, 'simpson': 2782, 'tribut': 2783, 'exercis': 2784, 'guilt': 2785, 'choreograph': 2786, 'boll': 2787, 'phillip': 2788, 'basement': 2789, 'muppet': 2790, 'pig': 2791, 'cruis': 2792, 'item': 2793, 'ward': 2794, 'medium': 2795, '24': 2796, 'babe': 2797, 'editor': 2798, 'toilet': 2799, 'document': 2800, 'file': 2801, 'scarecrow': 2802, 'puzzl': 2803, 'korean': 2804, 'ham': 2805, 'fianc': 2806, 'slip': 2807, 'layer': 2808, 'tower': 2809, 'stan': 2810, 'minim': 2811, 'larger': 2812, 'librari': 2813, 'superfici': 2814, 'doc': 2815, 'philosoph': 2816, 'persona': 2817, 'inexplic': 2818, 'assur': 2819, 'slaughter': 2820, 'catherin': 2821, 'orient': 2822, 'transit': 2823, 'denzel': 2824, 'spark': 2825, 'portion': 2826, 'glover': 2827, 'territori': 2828, 'jeremi': 2829, 'pg': 2830, 'wolf': 2831, 'owe': 2832, 'shi': 2833, 'sneak': 2834, 'dorothi': 2835, 'boredom': 2836, 'curti': 2837, 'financi': 2838, 'ban': 2839, 'walken': 2840, 'jet': 2841, 'hudson': 2842, 'eleph': 2843, 'backdrop': 2844, 'ambigu': 2845, 'multi': 2846, 'whale': 2847, 'profound': 2848, 'metaphor': 2849, 'cusack': 2850, 'birthday': 2851, 'viru': 2852, 'union': 2853, '2005': 2854, 'stiff': 2855, 'implaus': 2856, 'elsewher': 2857, 'notion': 2858, 'ultra': 2859, 'hack': 2860, 'gadget': 2861, 'rave': 2862, 'poison': 2863, 'pad': 2864, 'squar': 2865, 'distanc': 2866, 'afford': 2867, 'urg': 2868, '1st': 2869, 'disc': 2870, 'canada': 2871, 'reader': 2872, 'eva': 2873, 'slight': 2874, 'lloyd': 2875, 'superhero': 2876, 'deriv': 2877, 'hawk': 2878, 'bibl': 2879, 'newspap': 2880, 'eastwood': 2881, 'charisma': 2882, 'huh': 2883, 'skit': 2884, 'heston': 2885, 'essenc': 2886, 'button': 2887, 'montag': 2888, 'health': 2889, 'drown': 2890, 'restaur': 2891, 'sadist': 2892, 'spread': 2893, 'cure': 2894, 'peak': 2895, 'invest': 2896, 'lab': 2897, 'companion': 2898, 'godfath': 2899, 'muslim': 2900, 'maniac': 2901, 'gradual': 2902, 'estat': 2903, 'fetch': 2904, 'scoobi': 2905, 'dealt': 2906, 'servant': 2907, 'alli': 2908, 'miik': 2909, 'ritter': 2910, 'subtleti': 2911, 'kane': 2912, 'countless': 2913, 'gothic': 2914, 'tea': 2915, 'cup': 2916, 'electr': 2917, 'charismat': 2918, 'heroic': 2919, 'iii': 2920, 'salli': 2921, 'briefli': 2922, 'elect': 2923, 'tender': 2924, 'nuanc': 2925, 'bud': 2926, 'wannab': 2927, 'cole': 2928, 'reel': 2929, 'resourc': 2930, 'toss': 2931, 'admittedli': 2932, 'grandmoth': 2933, 'neil': 2934, 'ingredi': 2935, 'stronger': 2936, 'shall': 2937, 'mild': 2938, 'dawson': 2939, 'poverti': 2940, 'punk': 2941, 'pauli': 2942, 'stood': 2943, 'mafia': 2944, 'reev': 2945, 'kubrick': 2946, 'gate': 2947, 'carrey': 2948, 'pit': 2949, 'label': 2950, 'outcom': 2951, 'updat': 2952, 'easier': 2953, 'useless': 2954, 'terri': 2955, 'cox': 2956, 'fond': 2957, 'smooth': 2958, 'smash': 2959, 'burst': 2960, 'bakshi': 2961, 'ian': 2962, 'assault': 2963, 'cardboard': 2964, 'tag': 2965, 'astair': 2966, 'vari': 2967, 'exchang': 2968, 'divers': 2969, 'rex': 2970, '2002': 2971, 'sketch': 2972, 'melodramat': 2973, 'coincid': 2974, 'vulner': 2975, 'samurai': 2976, 'increasingli': 2977, 'fist': 2978, 'resolv': 2979, 'qualifi': 2980, 'conveni': 2981, 'scratch': 2982, 'suspend': 2983, 'tame': 2984, 'luckili': 2985, 'templ': 2986, 'be': 2987, 'insert': 2988, 'brillianc': 2989, 'blast': 2990, 'reynold': 2991, 'gotta': 2992, 'pin': 2993, 'hamilton': 2994, 'seventi': 2995, 'ambiti': 2996, 'strictli': 2997, 'jami': 2998, 'nuclear': 2999, 'matthew': 3000, 'coach': 3001, 'meat': 3002, 'walker': 3003, 'fisher': 3004, 'farm': 3005, 'soprano': 3006, 'spooki': 3007, 'convolut': 3008, 'joey': 3009, 'clock': 3010, 'closet': 3011, 'grasp': 3012, 'butcher': 3013, 'eccentr': 3014, 'kudo': 3015, 'ninja': 3016, 'instantli': 3017, 'struck': 3018, 'recreat': 3019, 'brosnan': 3020, 'monk': 3021, 'timeless': 3022, 'empir': 3023, 'cave': 3024, 'worthless': 3025, 'discoveri': 3026, 'revers': 3027, 'seller': 3028, 'pal': 3029, 'fifteen': 3030, 'clown': 3031, 'wipe': 3032, 'sidekick': 3033, 'miracl': 3034, 'cliff': 3035, 'importantli': 3036, 'eighti': 3037, 'selfish': 3038, 'inconsist': 3039, 'partli': 3040, 'norman': 3041, 'declar': 3042, 'gray': 3043, 'sloppi': 3044, 'communist': 3045, 'mitchel': 3046, 'evok': 3047, 'bleak': 3048, 'australia': 3049, 'piano': 3050, 'ho': 3051, 'destin': 3052, 'cheek': 3053, '45': 3054, 'aforement': 3055, 'chew': 3056, 'farc': 3057, 'flawless': 3058, 'debat': 3059, 'seed': 3060, 'psychiatrist': 3061, 'websit': 3062, 'enthusiast': 3063, 'lifestyl': 3064, 'stoog': 3065, 'superbl': 3066, 'bash': 3067, 'dash': 3068, 'drivel': 3069, 'wick': 3070, 'kitchen': 3071, 'directori': 3072, 'incompet': 3073, 'slice': 3074, 'wrestl': 3075, 'pressur': 3076, 'akshay': 3077, 'dire': 3078, 'soviet': 3079, 'splatter': 3080, 'emili': 3081, 'anni': 3082, 'abc': 3083, 'regardless': 3084, 'suppli': 3085, 'lou': 3086, 'jar': 3087, 'curios': 3088, 'duo': 3089, 'recov': 3090, 'blob': 3091, 'chapter': 3092, 'artifici': 3093, 'beaten': 3094, 'mann': 3095, 'increas': 3096, 'prize': 3097, 'glow': 3098, 'helicopt': 3099, 'pleasantli': 3100, 'doo': 3101, 'flower': 3102, 'judi': 3103, 'ken': 3104, 'seduc': 3105, 'cagney': 3106, 'cameron': 3107, 'dave': 3108, 'boil': 3109, 'cia': 3110, 'distant': 3111, 'craven': 3112, 'perri': 3113, 'ellen': 3114, 'psychot': 3115, 'goldberg': 3116, 'craig': 3117, 'splendid': 3118, 'glenn': 3119, 'francisco': 3120, 'laurel': 3121, 'eleg': 3122, 'favour': 3123, 'combat': 3124, 'panic': 3125, 'ranger': 3126, 'web': 3127, 'drunken': 3128, 'hop': 3129, 'turner': 3130, '20th': 3131, 'hatr': 3132, 'min': 3133, 'philosophi': 3134, 'fx': 3135, 'shortli': 3136, 'greek': 3137, 'plausibl': 3138, 'flip': 3139, 'ruth': 3140, 'alexand': 3141, 'wizard': 3142, 'graduat': 3143, 'rid': 3144, 'falk': 3145, 'gentl': 3146, 'slightest': 3147, 'modesti': 3148, 'gandhi': 3149, 'we': 3150, 'knight': 3151, 'jealou': 3152, 'harm': 3153, 'lend': 3154, 'holi': 3155, 'futurist': 3156, 'legal': 3157, 'ocean': 3158, 'dracula': 3159, 'felix': 3160, 'unpleas': 3161, 'tall': 3162, 'fund': 3163, 'preciou': 3164, 'manhattan': 3165, 'scientif': 3166, 'nod': 3167, 'forbidden': 3168, 'giallo': 3169, 'tank': 3170, 'mock': 3171, 'bless': 3172, 'reviv': 3173, 'childish': 3174, 'digniti': 3175, 'thread': 3176, 'ami': 3177, 'overdon': 3178, 'explicit': 3179, 'torment': 3180, 'awaken': 3181, '2004': 3182, 'eve': 3183, 'awe': 3184, 'repeatedli': 3185, 'yesterday': 3186, 'nerv': 3187, 'broad': 3188, 'fever': 3189, '99': 3190, 'mel': 3191, 'verhoeven': 3192, 'margaret': 3193, 'pirat': 3194, 'thick': 3195, 'elderli': 3196, 'unwatch': 3197, 'kay': 3198, 'publish': 3199, 'royal': 3200, 'rivet': 3201, 'politician': 3202, 'bin': 3203, 'uniform': 3204, 'griffith': 3205, 'lean': 3206, 'roman': 3207, 'launch': 3208, 'timothi': 3209, 'ambit': 3210, 'ah': 3211, 'acclaim': 3212, 'custom': 3213, 'eas': 3214, 'romero': 3215, 'automat': 3216, 'stiller': 3217, 'absenc': 3218, 'foul': 3219, 'wallac': 3220, 'darker': 3221, 'bathroom': 3222, 'stinker': 3223, 'crook': 3224, 'sunshin': 3225, 'gabriel': 3226, 'phrase': 3227, 'pulp': 3228, 'transport': 3229, 'pierc': 3230, 'purpl': 3231, 'tomato': 3232, 'homicid': 3233, 'termin': 3234, 'antic': 3235, 'warren': 3236, 'ought': 3237, 'prom': 3238, 'packag': 3239, 'kenneth': 3240, 'awak': 3241, 'choreographi': 3242, 'brazil': 3243, 'revolutionari': 3244, 'hollow': 3245, 'evolv': 3246, '2003': 3247, 'horrid': 3248, 'viciou': 3249, 'saint': 3250, 'donna': 3251, 'sixti': 3252, 'pray': 3253, 'juvenil': 3254, 'contrari': 3255, 'album': 3256, 'q': 3257, 'eyr': 3258, 'karen': 3259, 'marin': 3260, 'coloni': 3261, 'li': 3262, 'rambo': 3263, 'beatti': 3264, 'twelv': 3265, 'overr': 3266, 'nerd': 3267, 'dose': 3268, 'kapoor': 3269, 'option': 3270, 'stole': 3271, 'mildr': 3272, 'boast': 3273, 'defi': 3274, 'blade': 3275, 'conserv': 3276, 'ramon': 3277, 'mummi': 3278, 'ireland': 3279, 'candid': 3280, 'fulci': 3281, 'global': 3282, 'funer': 3283, 'kirk': 3284, 'astonish': 3285, 'trio': 3286, 'confirm': 3287, 'protest': 3288, 'natali': 3289, 'collabor': 3290, 'detract': 3291, 'jazz': 3292, 'flame': 3293, 'altman': 3294, 'mystic': 3295, 'bottl': 3296, 'yellow': 3297, 'destini': 3298, 'leap': 3299, 'whip': 3300, 'delici': 3301, 'enterpris': 3302, 'bull': 3303, 'spit': 3304, 'audio': 3305, 'nicholson': 3306, 'shade': 3307, 'racial': 3308, 'tommi': 3309, 'blake': 3310, 'vivid': 3311, 'bedroom': 3312, 'fonda': 3313, 'merci': 3314, 'visibl': 3315, 'pseudo': 3316, 'enchant': 3317, 'meaningless': 3318, 'harder': 3319, 'threw': 3320, 'todd': 3321, 'adolesc': 3322, 'staff': 3323, 'reunit': 3324, 'neo': 3325, 'popcorn': 3326, 'inherit': 3327, 'altogeth': 3328, 'swedish': 3329, 'leonard': 3330, 'exhibit': 3331, 'tip': 3332, 'lawrenc': 3333, 'suspici': 3334, 'bust': 3335, 'fanat': 3336, 'synopsi': 3337, 'reserv': 3338, 'respond': 3339, 'befriend': 3340, 'atlanti': 3341, 'moodi': 3342, 'kennedi': 3343, 'uneven': 3344, 'await': 3345, 'decor': 3346, 'madonna': 3347, 'roommat': 3348, 'ruthless': 3349, 'edi': 3350, 'lemmon': 3351, 'wire': 3352, 'jew': 3353, 'crocodil': 3354, 'voight': 3355, 'ventur': 3356, 'clumsi': 3357, 'unsettl': 3358, 'carl': 3359, 'bradi': 3360, 'palma': 3361, '2007': 3362, 'bold': 3363, 'abysm': 3364, 'incident': 3365, 'garner': 3366, 'bargain': 3367, 'clint': 3368, 'chao': 3369, 'voyag': 3370, 'centr': 3371, 'dimens': 3372, 'rural': 3373, 'audit': 3374, 'holli': 3375, 'daddi': 3376, 'mall': 3377, 'poetic': 3378, 'characterist': 3379, 'troop': 3380, 'cuba': 3381, 'neglect': 3382, 'lit': 3383, 'acknowledg': 3384, 'trail': 3385, 'versu': 3386, 'elimin': 3387, 'tiger': 3388, 'cd': 3389, 'nearbi': 3390, 'echo': 3391, '2nd': 3392, 'cari': 3393, 'wealth': 3394, 'hart': 3395, 'immigr': 3396, 'ant': 3397, 'imperson': 3398, 'humili': 3399, 'timon': 3400, 'solo': 3401, 'infect': 3402, 'jeffrey': 3403, 'mickey': 3404, 'mistaken': 3405, 'paus': 3406, 'homer': 3407, 'celluloid': 3408, 'collaps': 3409, 'domest': 3410, 'prejudic': 3411, 'saga': 3412, 'pun': 3413, 'repuls': 3414, 'marshal': 3415, 'hbo': 3416, 'leon': 3417, 'chest': 3418, 'coffe': 3419, 'coat': 3420, 'pant': 3421, 'cake': 3422, 'gear': 3423, 'milk': 3424, '1996': 3425, 'sore': 3426, 'assembl': 3427, 'olivi': 3428, 'undoubtedli': 3429, 'ginger': 3430, 'inan': 3431, 'promin': 3432, 'inappropri': 3433, 'tribe': 3434, 'equip': 3435, 'harvey': 3436, 'interrupt': 3437, 'apolog': 3438, 'furthermor': 3439, 'exot': 3440, 'solut': 3441, 'institut': 3442, 'humbl': 3443, 'jenni': 3444, 'highest': 3445, 'instant': 3446, 'maggi': 3447, 'trace': 3448, 'colleagu': 3449, 'pot': 3450, 'consum': 3451, 'brooklyn': 3452, 'retain': 3453, 'airplan': 3454, 'aveng': 3455, 'primari': 3456, 'vulgar': 3457, 'devast': 3458, 'pen': 3459, 'florida': 3460, 'polanski': 3461, 'colonel': 3462, 'embrac': 3463, 'gender': 3464, '3rd': 3465, 'poke': 3466, 'dian': 3467, 'smaller': 3468, 'wive': 3469, 'disabl': 3470, 'outer': 3471, 'descend': 3472, 'cope': 3473, 'illog': 3474, 'seduct': 3475, 'ya': 3476, 'principl': 3477, 'linda': 3478, 'dutch': 3479, '1999': 3480, 'sale': 3481, 'rick': 3482, 'bowl': 3483, 'strain': 3484, 'godzilla': 3485, 'yard': 3486, 'primarili': 3487, 'devoid': 3488, 'secondli': 3489, 'scope': 3490, 'beneath': 3491, 'blatant': 3492, 'lol': 3493, 'vast': 3494, 'gloriou': 3495, 'dive': 3496, 'cue': 3497, 'glamor': 3498, 'bubbl': 3499, 'hal': 3500, 'mixtur': 3501, 'dud': 3502, 'inferior': 3503, 'rabbit': 3504, 'predecessor': 3505, 'gundam': 3506, 'shelf': 3507, 'museum': 3508, 'alfr': 3509, 'aggress': 3510, 'arab': 3511, 'trademark': 3512, 'grinch': 3513, 'disjoint': 3514, 'streep': 3515, 'senseless': 3516, 'myer': 3517, 'countrysid': 3518, 'simplist': 3519, 'breed': 3520, 'hideou': 3521, 'z': 3522, 'pearl': 3523, 'shirley': 3524, 'talki': 3525, 'et': 3526, 'alert': 3527, 'casual': 3528, 'domino': 3529, 'april': 3530, 'invas': 3531, 'garbo': 3532, 'robberi': 3533, 'obtain': 3534, 'acid': 3535, 'sh': 3536, 'stir': 3537, 'experiment': 3538, 'uwe': 3539, 'robinson': 3540, 'applaud': 3541, 'slide': 3542, 'loyal': 3543, 'vanish': 3544, 'mail': 3545, 'hardcor': 3546, 'khan': 3547, 'hopeless': 3548, 'stellar': 3549, 'boom': 3550, 'disgrac': 3551, 'oz': 3552, 'rendit': 3553, 'illeg': 3554, 'unhappi': 3555, 'maci': 3556, 'defens': 3557, 'mayor': 3558, 'stack': 3559, 'soccer': 3560, 'dismiss': 3561, 'incomprehens': 3562, 'span': 3563, 'berlin': 3564, 'tempt': 3565, 'counter': 3566, 'blew': 3567, 'recruit': 3568, 'wont': 3569, 'topless': 3570, 'scroog': 3571, 'rifl': 3572, 'grandfath': 3573, 'tenant': 3574, 'emphasi': 3575, 'spider': 3576, 'craze': 3577, 'declin': 3578, 'psychic': 3579, 'diana': 3580, 'amanda': 3581, 'fri': 3582, 'dicken': 3583, 'hartley': 3584, 'shaw': 3585, 'sympath': 3586, 'resurrect': 3587, 'justin': 3588, 'sibl': 3589, 'bitch': 3590, 'woo': 3591, 'porno': 3592, 'shed': 3593, 'wet': 3594, 'revolt': 3595, 'intim': 3596, 'lumet': 3597, 'faster': 3598, 'riot': 3599, 'parad': 3600, 'ethnic': 3601, 'trashi': 3602, 'goer': 3603, 'niro': 3604, 'ration': 3605, 'wendi': 3606, 'patriot': 3607, 'biographi': 3608, 'slick': 3609, 'farmer': 3610, 'unreal': 3611, 'ballet': 3612, 'hesit': 3613, 'gap': 3614, 'partial': 3615, 'mario': 3616, 'dealer': 3617, 'eager': 3618, 'nephew': 3619, 'wheel': 3620, 'ensur': 3621, 'commend': 3622, '00': 3623, 'honesti': 3624, 'choru': 3625, 'weakest': 3626, 'rider': 3627, 'andr': 3628, 'immort': 3629, 'steam': 3630, 'enlighten': 3631, 'region': 3632, 'jonathan': 3633, 'worm': 3634, 'lena': 3635, 'hopper': 3636, 'feminist': 3637, 'kingdom': 3638, 'composit': 3639, 'morri': 3640, 'nostalg': 3641, 'wore': 3642, 'skull': 3643, 'safeti': 3644, 'sandra': 3645, 'snap': 3646, 'prequel': 3647, 'franco': 3648, 'confin': 3649, 'psychopath': 3650, 'vice': 3651, 'similarli': 3652, 'victori': 3653, 'properti': 3654, 'blunt': 3655, 'owen': 3656, 'sappi': 3657, 'charlott': 3658, 'repress': 3659, 'leo': 3660, 'hung': 3661, 'util': 3662, 'mutant': 3663, 'macarthur': 3664, 'compens': 3665, 'drum': 3666, 'deed': 3667, 'valuabl': 3668, 'thru': 3669, 'speci': 3670, 'miseri': 3671, 'snl': 3672, 'rocki': 3673, 'nervou': 3674, 'rambl': 3675, 'heartbreak': 3676, 'tail': 3677, 'del': 3678, 'bumbl': 3679, 'drain': 3680, 'acquir': 3681, 'exit': 3682, 'dust': 3683, 'despair': 3684, 'bergman': 3685, 'cg': 3686, 'whoopi': 3687, 'farrel': 3688, 'recycl': 3689, 'strand': 3690, 'repli': 3691, '1972': 3692, 'compass': 3693, 'bow': 3694, 'pattern': 3695, 'campbel': 3696, 'latin': 3697, 'hyde': 3698, 'tad': 3699, 'kyle': 3700, 'bonu': 3701, 'montana': 3702, 'rope': 3703, 'emperor': 3704, 'dalton': 3705, 'downhil': 3706, 'airport': 3707, 'contempl': 3708, 'mistress': 3709, 'olli': 3710, 'percept': 3711, 'tonight': 3712, 'romp': 3713, 'roth': 3714, 'orson': 3715, 'oppress': 3716, 'rapist': 3717, 'gimmick': 3718, 'rotten': 3719, 'carradin': 3720, 'da': 3721, '35': 3722, 'pour': 3723, 'wacki': 3724, 'slug': 3725, 'gal': 3726, 'chess': 3727, 'bleed': 3728, 'radic': 3729, 'martian': 3730, 'pervers': 3731, 'attorney': 3732, 'slash': 3733, 'edgar': 3734, 'paltrow': 3735, 'programm': 3736, 'tackl': 3737, 'pursuit': 3738, 'pervert': 3739, 'shelley': 3740, 'melodi': 3741, 'unpredict': 3742, 'preach': 3743, 'heal': 3744, '1983': 3745, 'arc': 3746, 'dazzl': 3747, 'arguabl': 3748, 'stilt': 3749, 'taught': 3750, 'belt': 3751, 'mislead': 3752, 'banal': 3753, 'champion': 3754, 'tooth': 3755, 'vocal': 3756, 'raymond': 3757, 'conneri': 3758, 'bela': 3759, 'uplift': 3760, 'cleverli': 3761, 'gambl': 3762, 'maid': 3763, 'tiresom': 3764, 'duval': 3765, 'mesmer': 3766, 'vengeanc': 3767, 'dixon': 3768, 'rubi': 3769, 'plight': 3770, 'orang': 3771, 'virginia': 3772, 'employe': 3773, 'chicken': 3774, 'closest': 3775, 'passeng': 3776, 'marti': 3777, 'franki': 3778, 'sensat': 3779, 'graham': 3780, 'poem': 3781, 'suffic': 3782, 'abraham': 3783, 'swallow': 3784, 'yawn': 3785, 'convincingli': 3786, 'giggl': 3787, 'crystal': 3788, 'tube': 3789, '1968': 3790, 'profan': 3791, 'secretli': 3792, 'inject': 3793, 'engross': 3794, 'iran': 3795, 'pokemon': 3796, 'climact': 3797, 'volum': 3798, 'whine': 3799, 'quarter': 3800, 'amitabh': 3801, 'calm': 3802, 'habit': 3803, 'gerard': 3804, 'mute': 3805, 'numb': 3806, 'monologu': 3807, 'extens': 3808, 'clone': 3809, 'bay': 3810, 'paranoia': 3811, 'outing': 3812, 'sirk': 3813, 'lundgren': 3814, 'scottish': 3815, 'chicago': 3816, 'spock': 3817, 'bend': 3818, 'linger': 3819, 'expand': 3820, 'earl': 3821, 'franci': 3822, 'plod': 3823, 'richardson': 3824, 'underst': 3825, 'septemb': 3826, 'taxi': 3827, 'trend': 3828, 'fed': 3829, 'poetri': 3830, 'nichola': 3831, 'dispos': 3832, 'meander': 3833, 'lowest': 3834, 'abort': 3835, 'backward': 3836, 'ethan': 3837, 'surpass': 3838, 'frankenstein': 3839, 'grotesqu': 3840, 'austen': 3841, 'junior': 3842, 'im': 3843, 'profess': 3844, 'sue': 3845, 'cannon': 3846, 'eugen': 3847, 'hum': 3848, 'myth': 3849, 'lure': 3850, 'der': 3851, 'waitress': 3852, 'catchi': 3853, 'nostalgia': 3854, 'muddl': 3855, 'literatur': 3856, 'compliment': 3857, 'mundan': 3858, 'econom': 3859, 'tourist': 3860, 'greedi': 3861, 'household': 3862, 'descent': 3863, 'spoke': 3864, 'rubber': 3865, 'rant': 3866, 'simplic': 3867, 'stallon': 3868, 'dysfunct': 3869, 'instrument': 3870, 'alongsid': 3871, 'damon': 3872, 'sissi': 3873, 'equival': 3874, 'irrelev': 3875, 'lang': 3876, 'recognit': 3877, 'occupi': 3878, 'cent': 3879, 'molli': 3880, 'phoni': 3881, 'crucial': 3882, 'coast': 3883, 'randi': 3884, 'recognis': 3885, 'mankind': 3886, 'mortal': 3887, 'eaten': 3888, 'louis': 3889, 'omen': 3890, 'insur': 3891, 'stale': 3892, 'june': 3893, 'map': 3894, 'furi': 3895, 'duck': 3896, 'flee': 3897, 'deaf': 3898, 'dement': 3899, 'dictat': 3900, 'hello': 3901, 'firstli': 3902, 'phantom': 3903, 'bacal': 3904, 'carel': 3905, 'blackmail': 3906, 'distinguish': 3907, 'grayson': 3908, 'freez': 3909, 'onlin': 3910, 'loyalti': 3911, 'dreari': 3912, 'reign': 3913, 'cyborg': 3914, 'damm': 3915, 'bump': 3916, 'drake': 3917, 'rude': 3918, 'labor': 3919, 'buffalo': 3920, 'heel': 3921, 'likewis': 3922, 'rooney': 3923, '1973': 3924, 'ashley': 3925, 'daisi': 3926, 'lengthi': 3927, 'bike': 3928, 'wisdom': 3929, 'twilight': 3930, 'newli': 3931, 'biko': 3932, 'antwon': 3933, 'pink': 3934, 'incorpor': 3935, 'analysi': 3936, 'tunnel': 3937, 'emphas': 3938, 'keith': 3939, 'approv': 3940, 'ridden': 3941, 'prey': 3942, 'butler': 3943, 'inher': 3944, 'exposur': 3945, 'sailor': 3946, 'barrymor': 3947, 'provoc': 3948, 'nineti': 3949, 'proce': 3950, 'vein': 3951, 'attribut': 3952, 'unorigin': 3953, 'interior': 3954, 'chronicl': 3955, 'boxer': 3956, 'worn': 3957, 'startl': 3958, 'basketbal': 3959, 'baddi': 3960, 'predat': 3961, 'barrel': 3962, 'underli': 3963, 'simmon': 3964, 'belushi': 3965, 'nicol': 3966, 'unrel': 3967, 'er': 3968, 'julian': 3969, 'millionair': 3970, 'meg': 3971, 'improvis': 3972, 'othello': 3973, 'robbin': 3974, 'hypnot': 3975, 'drift': 3976, 'undeni': 3977, 'condemn': 3978, 'indiffer': 3979, 'substitut': 3980, 'fleet': 3981, 'mighti': 3982, 'meyer': 3983, 'elm': 3984, 'degrad': 3985, 'stalker': 3986, 'bunni': 3987, 'walsh': 3988, 'mormon': 3989, 'carla': 3990, 'watson': 3991, 'vital': 3992, 'alison': 3993, 'marion': 3994, 'nyc': 3995, 'enthusiasm': 3996, 'agenda': 3997, 'greed': 3998, 'disord': 3999, 'unawar': 4000, 'edgi': 4001, 'hay': 4002, 'palac': 4003, '3d': 4004, 'errol': 4005, 'shove': 4006, 'priceless': 4007, 'alarm': 4008, 'lampoon': 4009, 'exquisit': 4010, 'novak': 4011, 'warmth': 4012, 'roof': 4013, 'firm': 4014, 'mtv': 4015, 'dolph': 4016, 'reid': 4017, 'rukh': 4018, 'pamela': 4019, '1933': 4020, 'peck': 4021, 'israel': 4022, 'thompson': 4023, 'drip': 4024, 'distort': 4025, 'campaign': 4026, 'testament': 4027, 'spain': 4028, 'cassidi': 4029, 'unleash': 4030, 'gestur': 4031, 'minimum': 4032, 'glanc': 4033, 'preserv': 4034, 'coup': 4035, 'orlean': 4036, 'simultan': 4037, 'peril': 4038, 'petti': 4039, 'crown': 4040, 'eastern': 4041, 'session': 4042, 'showdown': 4043, 'sergeant': 4044, 'nun': 4045, '13th': 4046, 'ponder': 4047, 'iraq': 4048, 'angela': 4049, 'randomli': 4050, 'what': 4051, 'beatl': 4052, 'profit': 4053, 'championship': 4054, 'zizek': 4055, 'valentin': 4056, 'represent': 4057, 'brenda': 4058, 'scotland': 4059, 'exposit': 4060, 'stake': 4061, 'buster': 4062, 'restrain': 4063, 'cream': 4064, 'realm': 4065, 'bro': 4066, 'unimagin': 4067, 'contradict': 4068, 'perpetu': 4069, 'valley': 4070, 'jan': 4071, 'han': 4072, 'reson': 4073, 'regist': 4074, 'rout': 4075, 'kurosawa': 4076, 'cooki': 4077, 'quinn': 4078, 'empathi': 4079, 'travesti': 4080, 'sabrina': 4081, 'miyazaki': 4082, '1984': 4083, 'crow': 4084, 'gentleman': 4085, 'calib': 4086, 'wig': 4087, 'stroke': 4088, 'climat': 4089, 'shootout': 4090, 'crawl': 4091, 'fido': 4092, 'din': 4093, 'mon': 4094, 'josh': 4095, 'pretens': 4096, 'ustinov': 4097, 'cloud': 4098, 'pole': 4099, 'crawford': 4100, 'baldwin': 4101, 'shaki': 4102, 'painter': 4103, 'fuller': 4104, 'soderbergh': 4105, 'derang': 4106, 'darren': 4107, 'tacki': 4108, 'sucker': 4109, 'spacey': 4110, '1987': 4111, 'demis': 4112, 'dana': 4113, 'unseen': 4114, 'delic': 4115, 'stargat': 4116, '1997': 4117, 'censor': 4118, 'businessman': 4119, 'femm': 4120, 'unsatisfi': 4121, 'traumat': 4122, 'geek': 4123, 'shoddi': 4124, 'warrant': 4125, 'compromis': 4126, 'perceiv': 4127, 'abomin': 4128, 'meryl': 4129, 'ross': 4130, 'passabl': 4131, 'monoton': 4132, 'distress': 4133, 'absent': 4134, 'greg': 4135, 'mclaglen': 4136, 'sammi': 4137, 'wax': 4138, 'nathan': 4139, 'exclus': 4140, 'furiou': 4141, 'tech': 4142, 'polici': 4143, 'norm': 4144, 'click': 4145, 'deceas': 4146, 'uncov': 4147, '1993': 4148, 'judgment': 4149, 'dee': 4150, 'anchor': 4151, 'primit': 4152, 'kumar': 4153, 'unravel': 4154, 'valid': 4155, 'austin': 4156, 'sid': 4157, 'jewel': 4158, 'wholli': 4159, 'fog': 4160, 'deniro': 4161, 'clash': 4162, 'seal': 4163, 'accuraci': 4164, 'verbal': 4165, 'tarantino': 4166, 'reluct': 4167, 'expedit': 4168, 'antonioni': 4169, 'fenc': 4170, 'correctli': 4171, 'malon': 4172, 'clerk': 4173, 'bake': 4174, 'vanc': 4175, 'temper': 4176, 'nicola': 4177, 'patienc': 4178, 'sustain': 4179, 'roller': 4180, 'murray': 4181, 'sand': 4182, 'ritual': 4183, 'tax': 4184, 'hallucin': 4185, 'joel': 4186, 'darn': 4187, 'unfair': 4188, 'enforc': 4189, 'fart': 4190, 'alec': 4191, 'debt': 4192, '1995': 4193, 'mode': 4194, 'sheet': 4195, 'behold': 4196, '2008': 4197, 'shanghai': 4198, '1971': 4199, 'dreck': 4200, 'wretch': 4201, 'fabric': 4202, 'pocket': 4203, 'conduct': 4204, 'logan': 4205, '3000': 4206, 'crippl': 4207, 'wang': 4208, 'seldom': 4209, 'fought': 4210, 'sunni': 4211, 'slam': 4212, 'trait': 4213, 'helpless': 4214, 'outlin': 4215, 'isabel': 4216, 'exhaust': 4217, 'preposter': 4218, 'fundament': 4219, 'rita': 4220, 'schedul': 4221, 'penni': 4222, 'pete': 4223, 'despis': 4224, 'scriptwrit': 4225, 'canyon': 4226, 'robber': 4227, 'tactic': 4228, 'phil': 4229, 'technicolor': 4230, 'bridget': 4231, 'guitar': 4232, 'squad': 4233, 'grief': 4234, 'critiqu': 4235, 'stark': 4236, 'sweep': 4237, 'soup': 4238, 'preston': 4239, 'legaci': 4240, 'clau': 4241, 'stuart': 4242, 'conscious': 4243, 'runner': 4244, 'shell': 4245, 'divid': 4246, 'bias': 4247, 'newman': 4248, 'gregori': 4249, 'kansa': 4250, 'jacket': 4251, 'drove': 4252, 'culmin': 4253, 'vomit': 4254, 'agenc': 4255, 'propos': 4256, 'delv': 4257, 'flair': 4258, 'connor': 4259, 'consciou': 4260, 'sniper': 4261, 'downey': 4262, 'passag': 4263, 'sentinel': 4264, 'alicia': 4265, 'liberti': 4266, 'unexpectedli': 4267, 'russia': 4268, 'rear': 4269, 'boyl': 4270, 'cigarett': 4271, 'jodi': 4272, 'invad': 4273, 'alley': 4274, 'inabl': 4275, 'sugar': 4276, 'rehash': 4277, 'restrict': 4278, 'lacklust': 4279, 'implic': 4280, 'marc': 4281, 'bloom': 4282, 'palanc': 4283, 'rampag': 4284, 'improb': 4285, 'behaviour': 4286, 'rod': 4287, 'pale': 4288, 'ladder': 4289, 'arrow': 4290, 'tendenc': 4291, 'lush': 4292, 'foxx': 4293, 'feat': 4294, 'chainsaw': 4295, 'vet': 4296, 'delet': 4297, 'mccoy': 4298, 'awhil': 4299, 'rehears': 4300, 'tripe': 4301, '22': 4302, 'bacon': 4303, 'sharon': 4304, 'aesthet': 4305, 'wrench': 4306, 'cap': 4307, 'asylum': 4308, 'kolchak': 4309, 'karl': 4310, '1936': 4311, 'horn': 4312, 'yeti': 4313, 'wildli': 4314, 'elit': 4315, 'hackney': 4316, 'coaster': 4317, 'loneli': 4318, 'tasteless': 4319, 'amazon': 4320, 'hungri': 4321, 'stream': 4322, 'paradis': 4323, '1978': 4324, 'newcom': 4325, 'underneath': 4326, 'scoop': 4327, 'suspicion': 4328, 'paramount': 4329, 'spice': 4330, 'financ': 4331, 'filler': 4332, 'shortcom': 4333, 'aristocrat': 4334, 'fright': 4335, 'conscienc': 4336, 'prank': 4337, 'globe': 4338, 'hulk': 4339, 'el': 4340, 'lurk': 4341, '1988': 4342, '1920': 4343, '19th': 4344, 'basing': 4345, 'tomorrow': 4346, 'rhythm': 4347, 'sung': 4348, 'rumor': 4349, 'minu': 4350, 'suffici': 4351, 'visitor': 4352, 'weav': 4353, 'wagner': 4354, 'thunderbird': 4355, 'choppi': 4356, 'secondari': 4357, 'dirt': 4358, 'minist': 4359, 'ingeni': 4360, '1939': 4361, 'chavez': 4362, 'curli': 4363, 'entranc': 4364, '75': 4365, 'en': 4366, 'recogniz': 4367, 'brit': 4368, 'bread': 4369, 'paxton': 4370, 'literari': 4371, 'couch': 4372, 'quietli': 4373, 'rub': 4374, '1989': 4375, 'impos': 4376, 'tierney': 4377, 'teas': 4378, 'standout': 4379, 'smell': 4380, 'grudg': 4381, 'beverli': 4382, 'counterpart': 4383, 'posey': 4384, 'penn': 4385, 'immers': 4386, 'inmat': 4387, 'naughti': 4388, 'cancer': 4389, 'atroc': 4390, 'lectur': 4391, 'leigh': 4392, 'straightforward': 4393, 'heist': 4394, 'wwe': 4395, 'hopkin': 4396, 'abrupt': 4397, 'ram': 4398, 'iv': 4399, 'chamberlain': 4400, 'worship': 4401, 'springer': 4402, 'variat': 4403, 'injuri': 4404, 'yearn': 4405, 'net': 4406, 'entitl': 4407, 'misguid': 4408, 'nemesi': 4409, 'sassi': 4410, 'watcher': 4411, 'duel': 4412, 'cattl': 4413, 'attenborough': 4414, 'heartfelt': 4415, 'skeptic': 4416, 'morbid': 4417, 'laurenc': 4418, 'transcend': 4419, 'missil': 4420, 'lindsay': 4421, 'policeman': 4422, 'sublim': 4423, 'moreov': 4424, 'convert': 4425, 'ace': 4426, 'bernard': 4427, 'geni': 4428, 'enthral': 4429, 'ratso': 4430, '1986': 4431, 'quaid': 4432, 'clan': 4433, 'nolan': 4434, 'esther': 4435, 'moder': 4436, 'youngest': 4437, 'graini': 4438, 'diari': 4439, 'artsi': 4440, 'hk': 4441, 'carlito': 4442, 'poe': 4443, 'out': 4444, 'puppi': 4445, 'bean': 4446, 'dont': 4447, 'reliabl': 4448, 'tyler': 4449, 'cruelti': 4450, 'brood': 4451, 'rosemari': 4452, 'steadi': 4453, 'kitti': 4454, 'unexplain': 4455, 'kidman': 4456, '1979': 4457, 'grin': 4458, 'hopelessli': 4459, 'obstacl': 4460, 'spiral': 4461, 'buzz': 4462, 'enabl': 4463, 'facil': 4464, 'mytholog': 4465, 'egg': 4466, 'characteris': 4467, 'uncut': 4468, 'setup': 4469, 'bye': 4470, 'vader': 4471, 'spontan': 4472, 'hain': 4473, 'acquaint': 4474, 'heap': 4475, 'gina': 4476, 'decept': 4477, 'underworld': 4478, 'hammi': 4479, 'athlet': 4480, 'disastr': 4481, 'preming': 4482, 'bewar': 4483, 'effici': 4484, 'oblig': 4485, 'baffl': 4486, 'gillian': 4487, 'fuel': 4488, 'weather': 4489, '1969': 4490, 'niec': 4491, 'exterior': 4492, 'narrow': 4493, 'patricia': 4494, 'despic': 4495, 'martha': 4496, 'bronson': 4497, 'christin': 4498, 'sweat': 4499, 'kline': 4500, 'brendan': 4501, 'bounc': 4502, 'clueless': 4503, 'biker': 4504, 'astound': 4505, 'injur': 4506, 'candl': 4507, 'dilemma': 4508, 'analyz': 4509, 'shatter': 4510, 'viewpoint': 4511, 'tick': 4512, 'angst': 4513, 'hepburn': 4514, 'dandi': 4515, 'virtu': 4516, 'outlaw': 4517, '73': 4518, 'uh': 4519, 'trigger': 4520, 'sooner': 4521, 'preachi': 4522, 'goof': 4523, 'loi': 4524, 'loath': 4525, 'enlist': 4526, '19': 4527, 'mermaid': 4528, 'scar': 4529, 'rome': 4530, 'taboo': 4531, 'lester': 4532, 'harmless': 4533, 'mayhem': 4534, 'suprem': 4535, 'headach': 4536, 'fontain': 4537, 'insipid': 4538, 'renaiss': 4539, 'circu': 4540, 'sleepwalk': 4541, 'housewif': 4542, 'overlong': 4543, 'hokey': 4544, 'salt': 4545, 'hooker': 4546, 'idol': 4547, 'boston': 4548, 'zoom': 4549, 'claustrophob': 4550, 'bent': 4551, 'foolish': 4552, 'fluff': 4553, 'ebert': 4554, 'whore': 4555, 'hostag': 4556, 'dish': 4557, 'stair': 4558, 'macho': 4559, 'steer': 4560, 'glorifi': 4561, 'camcord': 4562, 'dismal': 4563, 'filth': 4564, 'sox': 4565, 'immatur': 4566, 'cassavet': 4567, 'intric': 4568, 'phenomenon': 4569, 'oldest': 4570, 'stimul': 4571, 'amor': 4572, 'contempt': 4573, 'slimi': 4574, 'tripl': 4575, 'gere': 4576, 'corbett': 4577, 'spade': 4578, 'redund': 4579, 'surgeri': 4580, 'ariel': 4581, 'guin': 4582, 'scorses': 4583, 'cush': 4584, 'spinal': 4585, 'joker': 4586, 'proport': 4587, 'alvin': 4588, 'corman': 4589, 'perman': 4590, 'muscl': 4591, 'down': 4592, 'flag': 4593, 'fascist': 4594, 'gabl': 4595, 'schlock': 4596, 'shield': 4597, 'preced': 4598, 'radiat': 4599, 'margin': 4600, '1981': 4601, 'assert': 4602, '1976': 4603, 'dwarf': 4604, 'mount': 4605, 'frantic': 4606, 'remad': 4607, 'cow': 4608, 'antagonist': 4609, 'faint': 4610, 'spree': 4611, 'astronaut': 4612, 'messi': 4613, 'mutual': 4614, 'flashi': 4615, 'widescreen': 4616, 'naschi': 4617, 'nolt': 4618, 'zane': 4619, 'conquer': 4620, 'cohen': 4621, 'trivia': 4622, 'strongest': 4623, 'obligatori': 4624, 'keen': 4625, 'harold': 4626, 'transplant': 4627, 'shred': 4628, 'beard': 4629, 'rhyme': 4630, 'flirt': 4631, 'gasp': 4632, 'scandal': 4633, 'instruct': 4634, 'repris': 4635, 'fishburn': 4636, 'strive': 4637, 'inflict': 4638, 'carey': 4639, '28': 4640, 'hara': 4641, 'someday': 4642, 'aborigin': 4643, 'neurot': 4644, 'triangl': 4645, 'discern': 4646, 'divin': 4647, 'www': 4648, 'archiv': 4649, '1945': 4650, 'brush': 4651, 'ritchi': 4652, 'barn': 4653, 'bachelor': 4654, 'sensual': 4655, 'boob': 4656, 'resum': 4657, 'vaniti': 4658, 'departur': 4659, 'danish': 4660, 'interestingli': 4661, 'info': 4662, 'wield': 4663, 'flock': 4664, 'raj': 4665, '95': 4666, 'bitten': 4667, 'mobil': 4668, 'claud': 4669, 'persuad': 4670, 'deer': 4671, 'mol': 4672, 'off': 4673, 'rot': 4674, 'vibrant': 4675, 'prophet': 4676, 'biblic': 4677, 'banter': 4678, 'dim': 4679, 'axe': 4680, 'frontier': 4681, 'earnest': 4682, 'colin': 4683, 'helm': 4684, 'proclaim': 4685, 'europa': 4686, 'hilar': 4687, 'hapless': 4688, 'carlo': 4689, 'jade': 4690, 'miracul': 4691, 'submit': 4692, 'ish': 4693, 'pixar': 4694, 'cb': 4695, 'parson': 4696, 'dame': 4697, 'fragil': 4698, 'clad': 4699, 'hug': 4700, 'cliffhang': 4701, 'casino': 4702, 'kathryn': 4703, 'harrison': 4704, 'artwork': 4705, 'melissa': 4706, 'bate': 4707, 'recit': 4708, 'heartwarm': 4709, 'cycl': 4710, 'timberlak': 4711, 'luka': 4712, 'traffic': 4713, 'pickford': 4714, 'pacif': 4715, 'neill': 4716, 'mobster': 4717, 'senior': 4718, 'undermin': 4719, 'dylan': 4720, 'wendigo': 4721, 'anton': 4722, 'cher': 4723, 'loretta': 4724, 'marlon': 4725, 'pc': 4726, 'feast': 4727, 'bondag': 4728, 'toronto': 4729, 'sicken': 4730, 'shepherd': 4731, 'antholog': 4732, 'jordan': 4733, 'lui': 4734, 'uma': 4735, 'nope': 4736, 'isra': 4737, 'winchest': 4738, 'estrang': 4739, 'redneck': 4740, 'northern': 4741, 'legitim': 4742, 'foil': 4743, 'choke': 4744, 'akin': 4745, 'venom': 4746, 'alexandr': 4747, 'illus': 4748, 'aris': 4749, 'token': 4750, 'bikini': 4751, 'eli': 4752, 'static': 4753, 'razor': 4754, 'holocaust': 4755, 'jo': 4756, 'vanessa': 4757, 'blatantli': 4758, 'cerebr': 4759, 'misfortun': 4760, 'articl': 4761, 'wardrob': 4762, 'seedi': 4763, 'http': 4764, 'lucil': 4765, 'flavor': 4766, 'orphan': 4767, 'trier': 4768, 'mason': 4769, 'rooki': 4770, 'electron': 4771, 'breakfast': 4772, 'milo': 4773, 'vile': 4774, 'mathieu': 4775, 'styliz': 4776, 'highway': 4777, 'gilbert': 4778, 'outdat': 4779, 'shorter': 4780, 'smack': 4781, 'audrey': 4782, 'psych': 4783, 'leather': 4784, 'ceremoni': 4785, 'turd': 4786, 'nightclub': 4787, 'comprehend': 4788, 'howl': 4789, 'fifth': 4790, 'oppon': 4791, 'retriev': 4792, 'huston': 4793, 'abund': 4794, 'charlton': 4795, 'ideolog': 4796, 'swept': 4797, 'deem': 4798, 'peer': 4799, 'glare': 4800, 'disregard': 4801, 'knightley': 4802, 'boyer': 4803, 'magician': 4804, 'clinic': 4805, 'dudley': 4806, 'tack': 4807, 'feminin': 4808, 'wrestler': 4809, 'frog': 4810, 'cartoonish': 4811, 'linear': 4812, 'affleck': 4813, 'gunga': 4814, 'potter': 4815, 'cemeteri': 4816, 'whack': 4817, 'energet': 4818, '1991': 4819, 'braveheart': 4820, 'greet': 4821, 'client': 4822, 'breakdown': 4823, 'cuban': 4824, 'durat': 4825, 'bastard': 4826, 'tara': 4827, 'collector': 4828, 'sleaz': 4829, 'corn': 4830, 'conrad': 4831, 'spawn': 4832, 'newer': 4833, 'btw': 4834, 'moe': 4835, 'deliver': 4836, 'lifeless': 4837, 'lighter': 4838, 'compris': 4839, '4th': 4840, 'toe': 4841, 'snatch': 4842, 'chip': 4843, 'phenomen': 4844, 'plate': 4845, 'lavish': 4846, 'spine': 4847, 'evolut': 4848, '1994': 4849, 'monument': 4850, 'boo': 4851, 'summar': 4852, 'mitch': 4853, 'goldsworthi': 4854, 'einstein': 4855, 'senat': 4856, 'uniformli': 4857, 'bogu': 4858, 'salman': 4859, 'jare': 4860, 'embark': 4861, 'judd': 4862, 'trauma': 4863, 'fluid': 4864, 'spectacl': 4865, 'occup': 4866, 'mcqueen': 4867, 'nina': 4868, 'ie': 4869, 'bulk': 4870, 'gilliam': 4871, 'inaccuraci': 4872, 'wtf': 4873, 'sorrow': 4874, 'cecil': 4875, 'firmli': 4876, 'jule': 4877, 'appl': 4878, 'eleven': 4879, 'pronounc': 4880, 'creek': 4881, 'replay': 4882, 'neatli': 4883, 'belli': 4884, 'lex': 4885, 'kent': 4886, '1977': 4887, 'bori': 4888, 'ol': 4889, 'randolph': 4890, 'jam': 4891, 'signal': 4892, 'undead': 4893, 'healthi': 4894, 'alleg': 4895, 'capot': 4896, 'constitut': 4897, 'evelyn': 4898, 'liu': 4899, 'historian': 4900, 'luxuri': 4901, 'undertak': 4902, 'clara': 4903, 'outright': 4904, 'armstrong': 4905, 'jedi': 4906, '1974': 4907, 'kazan': 4908, 'conan': 4909, 'miami': 4910, 'inclus': 4911, 'goldblum': 4912, 'pioneer': 4913, 'porter': 4914, 'walt': 4915, 'palm': 4916, 'vignett': 4917, 'basket': 4918, 'congratul': 4919, 'comb': 4920, 'aussi': 4921, 'mum': 4922, 'inaccur': 4923, 'blur': 4924, 'meal': 4925, 'bait': 4926, 'genet': 4927, 'roar': 4928, 'propheci': 4929, 'relentless': 4930, 'sacrif': 4931, 'sidewalk': 4932, 'miniseri': 4933, 'fruit': 4934, 'comprehens': 4935, 'unsuspect': 4936, 'abound': 4937, 'tokyo': 4938, 'cape': 4939, 'spray': 4940, 'vain': 4941, 'ash': 4942, 'lanc': 4943, 'decapit': 4944, 'antonio': 4945, 'paula': 4946, 'kiddi': 4947, 'poker': 4948, 'pepper': 4949, 'unattract': 4950, 'id': 4951, 'rosario': 4952, 'forgiven': 4953, '1985': 4954, 'groan': 4955, 'knee': 4956, 'carmen': 4957, 'galaxi': 4958, 'lauren': 4959, 'curtain': 4960, 'subtli': 4961, 'truman': 4962, 'bsg': 4963, 'sophi': 4964, 'orchestr': 4965, 'masterson': 4966, 'spill': 4967, 'substanti': 4968, 'asset': 4969, 'profil': 4970, 'dubiou': 4971, 'epitom': 4972, 'motorcycl': 4973, 'reincarn': 4974, 'macabr': 4975, 'rapidli': 4976, 'optimist': 4977, 'cypher': 4978, 'turtl': 4979, 'hostil': 4980, 'assort': 4981, 'evan': 4982, 'monti': 4983, 'omin': 4984, 'verg': 4985, 'scariest': 4986, 'detach': 4987, 'scarfac': 4988, 'sparkl': 4989, 'handicap': 4990, 'bach': 4991, 'weari': 4992, 'mice': 4993, 'ghetto': 4994, 'bravo': 4995, 'weaker': 4996, '21st': 4997, 'incorrect': 4998, 'victorian': 4999}\n"
     ]
    }
   ],
   "source": [
    "word_dict = build_dict(train_X)\n",
    "print(word_dict)"
   ]
  },
  {
   "cell_type": "markdown",
   "metadata": {},
   "source": [
    "**Question:** What are the five most frequently appearing (tokenized) words in the training set? Does it makes sense that these words appear frequently in the training set?"
   ]
  },
  {
   "cell_type": "markdown",
   "metadata": {},
   "source": [
    "**Answer:**\n",
    "1. movi\n",
    "2. film\n",
    "3. one\n",
    "4. like\n",
    "5. time"
   ]
  },
  {
   "cell_type": "code",
   "execution_count": 14,
   "metadata": {},
   "outputs": [
    {
     "name": "stdout",
     "output_type": "stream",
     "text": [
      "['movi', 'film', 'one', 'like', 'time']\n"
     ]
    }
   ],
   "source": [
    "# TODO: Use this space to determine the five most frequently appearing words in the training set.\n",
    "def getMostFrequent(top_freq):\n",
    "    most_freq = []\n",
    "    for top_words in word_dict:\n",
    "        if top_freq > 0:\n",
    "            most_freq.append(top_words)\n",
    "            top_freq -= 1\n",
    "    return most_freq\n",
    "print(getMostFrequent(5))"
   ]
  },
  {
   "cell_type": "markdown",
   "metadata": {},
   "source": [
    "### Save `word_dict`\n",
    "\n",
    "Later on when we construct an endpoint which processes a submitted review we will need to make use of the `word_dict` which we have created. As such, we will save it to a file now for future use."
   ]
  },
  {
   "cell_type": "code",
   "execution_count": 15,
   "metadata": {},
   "outputs": [],
   "source": [
    "data_dir = '../data/pytorch' # The folder we will use for storing data\n",
    "if not os.path.exists(data_dir): # Make sure that the folder exists\n",
    "    os.makedirs(data_dir)"
   ]
  },
  {
   "cell_type": "code",
   "execution_count": 16,
   "metadata": {},
   "outputs": [],
   "source": [
    "with open(os.path.join(data_dir, 'word_dict.pkl'), \"wb\") as f:\n",
    "    pickle.dump(word_dict, f)"
   ]
  },
  {
   "cell_type": "markdown",
   "metadata": {},
   "source": [
    "### Transform the reviews\n",
    "\n",
    "Now that we have our word dictionary which allows us to transform the words appearing in the reviews into integers, it is time to make use of it and convert our reviews to their integer sequence representation, making sure to pad or truncate to a fixed length, which in our case is `500`."
   ]
  },
  {
   "cell_type": "code",
   "execution_count": 17,
   "metadata": {},
   "outputs": [],
   "source": [
    "def convert_and_pad(word_dict, sentence, pad=500):\n",
    "    NOWORD = 0 # We will use 0 to represent the 'no word' category\n",
    "    INFREQ = 1 # and we use 1 to represent the infrequent words, i.e., words not appearing in word_dict\n",
    "    \n",
    "    working_sentence = [NOWORD] * pad\n",
    "    \n",
    "    for word_index, word in enumerate(sentence[:pad]):\n",
    "        if word in word_dict:\n",
    "            working_sentence[word_index] = word_dict[word]\n",
    "        else:\n",
    "            working_sentence[word_index] = INFREQ\n",
    "            \n",
    "    return working_sentence, min(len(sentence), pad)\n",
    "\n",
    "def convert_and_pad_data(word_dict, data, pad=500):\n",
    "    result = []\n",
    "    lengths = []\n",
    "    \n",
    "    for sentence in data:\n",
    "        converted, leng = convert_and_pad(word_dict, sentence, pad)\n",
    "        result.append(converted)\n",
    "        lengths.append(leng)\n",
    "        \n",
    "    return np.array(result), np.array(lengths)"
   ]
  },
  {
   "cell_type": "code",
   "execution_count": 18,
   "metadata": {},
   "outputs": [],
   "source": [
    "train_X, train_X_len = convert_and_pad_data(word_dict, train_X)\n",
    "test_X, test_X_len = convert_and_pad_data(word_dict, test_X)"
   ]
  },
  {
   "cell_type": "markdown",
   "metadata": {},
   "source": [
    "As a quick check to make sure that things are working as intended, check to see what one of the reviews in the training set looks like after having been processeed. Does this look reasonable? What is the length of a review in the training set?"
   ]
  },
  {
   "cell_type": "code",
   "execution_count": 19,
   "metadata": {
    "scrolled": true
   },
   "outputs": [
    {
     "name": "stdout",
     "output_type": "stream",
     "text": [
      "[  96  238  189    3   14   74  111   24  236 1710  385 2349 1664  266\n",
      "    3  372   96 1020   22  188  141    1  503 1936 4319  361    1   77\n",
      " 1937 1274  207   56   49   37  322  408    1   84  339  184   67 1087\n",
      "  663   44   72   49 1339  305 3424  274 4730    3 1179    1  237 1339\n",
      "  349 3424   17  162 2735  144    3  139 4254 1411  274 3731 1512    1\n",
      "   10  294   77 3494  464 1476  361   17 1284   34    3  342  444 2731\n",
      "  565    3 1158    1    1  415 1277   24  361    0    0    0    0    0\n",
      "    0    0    0    0    0    0    0    0    0    0    0    0    0    0\n",
      "    0    0    0    0    0    0    0    0    0    0    0    0    0    0\n",
      "    0    0    0    0    0    0    0    0    0    0    0    0    0    0\n",
      "    0    0    0    0    0    0    0    0    0    0    0    0    0    0\n",
      "    0    0    0    0    0    0    0    0    0    0    0    0    0    0\n",
      "    0    0    0    0    0    0    0    0    0    0    0    0    0    0\n",
      "    0    0    0    0    0    0    0    0    0    0    0    0    0    0\n",
      "    0    0    0    0    0    0    0    0    0    0    0    0    0    0\n",
      "    0    0    0    0    0    0    0    0    0    0    0    0    0    0\n",
      "    0    0    0    0    0    0    0    0    0    0    0    0    0    0\n",
      "    0    0    0    0    0    0    0    0    0    0    0    0    0    0\n",
      "    0    0    0    0    0    0    0    0    0    0    0    0    0    0\n",
      "    0    0    0    0    0    0    0    0    0    0    0    0    0    0\n",
      "    0    0    0    0    0    0    0    0    0    0    0    0    0    0\n",
      "    0    0    0    0    0    0    0    0    0    0    0    0    0    0\n",
      "    0    0    0    0    0    0    0    0    0    0    0    0    0    0\n",
      "    0    0    0    0    0    0    0    0    0    0    0    0    0    0\n",
      "    0    0    0    0    0    0    0    0    0    0    0    0    0    0\n",
      "    0    0    0    0    0    0    0    0    0    0    0    0    0    0\n",
      "    0    0    0    0    0    0    0    0    0    0    0    0    0    0\n",
      "    0    0    0    0    0    0    0    0    0    0    0    0    0    0\n",
      "    0    0    0    0    0    0    0    0    0    0    0    0    0    0\n",
      "    0    0    0    0    0    0    0    0    0    0    0    0    0    0\n",
      "    0    0    0    0    0    0    0    0    0    0    0    0    0    0\n",
      "    0    0    0    0    0    0    0    0    0    0    0    0    0    0\n",
      "    0    0    0    0    0    0    0    0    0    0    0    0    0    0\n",
      "    0    0    0    0    0    0    0    0    0    0    0    0    0    0\n",
      "    0    0    0    0    0    0    0    0    0    0    0    0    0    0\n",
      "    0    0    0    0    0    0    0    0    0    0]\n"
     ]
    }
   ],
   "source": [
    "# Use this cell to examine one of the processed reviews to make sure everything is working as intended.\n",
    "\n",
    "print(train_X[100])"
   ]
  },
  {
   "cell_type": "markdown",
   "metadata": {},
   "source": [
    "**Question:** In the cells above we use the `preprocess_data` and `convert_and_pad_data` methods to process both the training and testing set. Why or why not might this be a problem?"
   ]
  },
  {
   "cell_type": "markdown",
   "metadata": {},
   "source": [
    "**Answer:** Data is shared between testing and training sets which may cause data leak through the dictionary. The testing words could already be identified in the training set."
   ]
  },
  {
   "cell_type": "markdown",
   "metadata": {},
   "source": [
    "## Step 3: Upload the data to S3\n",
    "\n",
    "As in the XGBoost notebook, we will need to upload the training dataset to S3 in order for our training code to access it. For now we will save it locally and we will upload to S3 later on.\n",
    "\n",
    "### Save the processed training dataset locally\n",
    "\n",
    "It is important to note the format of the data that we are saving as we will need to know it when we write the training code. In our case, each row of the dataset has the form `label`, `length`, `review[500]` where `review[500]` is a sequence of `500` integers representing the words in the review."
   ]
  },
  {
   "cell_type": "code",
   "execution_count": 20,
   "metadata": {},
   "outputs": [],
   "source": [
    "import pandas as pd\n",
    "    \n",
    "pd.concat([pd.DataFrame(train_y), pd.DataFrame(train_X_len), pd.DataFrame(train_X)], axis=1) \\\n",
    "        .to_csv(os.path.join(data_dir, 'train.csv'), header=False, index=False)"
   ]
  },
  {
   "cell_type": "markdown",
   "metadata": {},
   "source": [
    "### Uploading the training data\n",
    "\n",
    "\n",
    "Next, we need to upload the training data to the SageMaker default S3 bucket so that we can provide access to it while training our model."
   ]
  },
  {
   "cell_type": "code",
   "execution_count": 21,
   "metadata": {},
   "outputs": [],
   "source": [
    "import sagemaker\n",
    "\n",
    "sagemaker_session = sagemaker.Session()\n",
    "\n",
    "bucket = sagemaker_session.default_bucket()\n",
    "prefix = 'sagemaker/sentiment_rnn'\n",
    "\n",
    "role = sagemaker.get_execution_role()"
   ]
  },
  {
   "cell_type": "code",
   "execution_count": 22,
   "metadata": {},
   "outputs": [],
   "source": [
    "input_data = sagemaker_session.upload_data(path=data_dir, bucket=bucket, key_prefix=prefix)"
   ]
  },
  {
   "cell_type": "markdown",
   "metadata": {},
   "source": [
    "**NOTE:** The cell above uploads the entire contents of our data directory. This includes the `word_dict.pkl` file. This is fortunate as we will need this later on when we create an endpoint that accepts an arbitrary review. For now, we will just take note of the fact that it resides in the data directory (and so also in the S3 training bucket) and that we will need to make sure it gets saved in the model directory."
   ]
  },
  {
   "cell_type": "markdown",
   "metadata": {},
   "source": [
    "## Step 4: Build and Train the PyTorch Model\n",
    "\n",
    "In the XGBoost notebook we discussed what a model is in the SageMaker framework. In particular, a model comprises three objects\n",
    "\n",
    " - Model Artifacts,\n",
    " - Training Code, and\n",
    " - Inference Code,\n",
    " \n",
    "each of which interact with one another. In the XGBoost example we used training and inference code that was provided by Amazon. Here we will still be using containers provided by Amazon with the added benefit of being able to include our own custom code.\n",
    "\n",
    "We will start by implementing our own neural network in PyTorch along with a training script. For the purposes of this project we have provided the necessary model object in the `model.py` file, inside of the `train` folder. You can see the provided implementation by running the cell below."
   ]
  },
  {
   "cell_type": "code",
   "execution_count": 23,
   "metadata": {},
   "outputs": [
    {
     "name": "stdout",
     "output_type": "stream",
     "text": [
      "\u001b[34mimport\u001b[39;49;00m \u001b[04m\u001b[36mtorch\u001b[39;49;00m\u001b[04m\u001b[36m.\u001b[39;49;00m\u001b[04m\u001b[36mnn\u001b[39;49;00m \u001b[34mas\u001b[39;49;00m \u001b[04m\u001b[36mnn\u001b[39;49;00m\r\n",
      "\r\n",
      "\u001b[34mclass\u001b[39;49;00m \u001b[04m\u001b[32mLSTMClassifier\u001b[39;49;00m(nn.Module):\r\n",
      "    \u001b[33m\"\"\"\u001b[39;49;00m\r\n",
      "\u001b[33m    This is the simple RNN model we will be using to perform Sentiment Analysis.\u001b[39;49;00m\r\n",
      "\u001b[33m    \"\"\"\u001b[39;49;00m\r\n",
      "\r\n",
      "    \u001b[34mdef\u001b[39;49;00m \u001b[32m__init__\u001b[39;49;00m(\u001b[36mself\u001b[39;49;00m, embedding_dim, hidden_dim, vocab_size):\r\n",
      "        \u001b[33m\"\"\"\u001b[39;49;00m\r\n",
      "\u001b[33m        Initialize the model by settingg up the various layers.\u001b[39;49;00m\r\n",
      "\u001b[33m        \"\"\"\u001b[39;49;00m\r\n",
      "        \u001b[36msuper\u001b[39;49;00m(LSTMClassifier, \u001b[36mself\u001b[39;49;00m).\u001b[32m__init__\u001b[39;49;00m()\r\n",
      "\r\n",
      "        \u001b[36mself\u001b[39;49;00m.embedding = nn.Embedding(vocab_size, embedding_dim, padding_idx=\u001b[34m0\u001b[39;49;00m)\r\n",
      "        \u001b[36mself\u001b[39;49;00m.lstm = nn.LSTM(embedding_dim, hidden_dim)\r\n",
      "        \u001b[36mself\u001b[39;49;00m.dense = nn.Linear(in_features=hidden_dim, out_features=\u001b[34m1\u001b[39;49;00m)\r\n",
      "        \u001b[36mself\u001b[39;49;00m.sig = nn.Sigmoid()\r\n",
      "        \r\n",
      "        \u001b[36mself\u001b[39;49;00m.word_dict = \u001b[34mNone\u001b[39;49;00m\r\n",
      "\r\n",
      "    \u001b[34mdef\u001b[39;49;00m \u001b[32mforward\u001b[39;49;00m(\u001b[36mself\u001b[39;49;00m, x):\r\n",
      "        \u001b[33m\"\"\"\u001b[39;49;00m\r\n",
      "\u001b[33m        Perform a forward pass of our model on some input.\u001b[39;49;00m\r\n",
      "\u001b[33m        \"\"\"\u001b[39;49;00m\r\n",
      "        x = x.t()\r\n",
      "        lengths = x[\u001b[34m0\u001b[39;49;00m,:]\r\n",
      "        reviews = x[\u001b[34m1\u001b[39;49;00m:,:]\r\n",
      "        embeds = \u001b[36mself\u001b[39;49;00m.embedding(reviews)\r\n",
      "        lstm_out, _ = \u001b[36mself\u001b[39;49;00m.lstm(embeds)\r\n",
      "        out = \u001b[36mself\u001b[39;49;00m.dense(lstm_out)\r\n",
      "        out = out[lengths - \u001b[34m1\u001b[39;49;00m, \u001b[36mrange\u001b[39;49;00m(\u001b[36mlen\u001b[39;49;00m(lengths))]\r\n",
      "        \u001b[34mreturn\u001b[39;49;00m \u001b[36mself\u001b[39;49;00m.sig(out.squeeze())\r\n"
     ]
    }
   ],
   "source": [
    "!pygmentize train/model.py"
   ]
  },
  {
   "cell_type": "markdown",
   "metadata": {},
   "source": [
    "The important takeaway from the implementation provided is that there are three parameters that we may wish to tweak to improve the performance of our model. These are the embedding dimension, the hidden dimension and the size of the vocabulary. We will likely want to make these parameters configurable in the training script so that if we wish to modify them we do not need to modify the script itself. We will see how to do this later on. To start we will write some of the training code in the notebook so that we can more easily diagnose any issues that arise.\n",
    "\n",
    "First we will load a small portion of the training data set to use as a sample. It would be very time consuming to try and train the model completely in the notebook as we do not have access to a gpu and the compute instance that we are using is not particularly powerful. However, we can work on a small bit of the data to get a feel for how our training script is behaving."
   ]
  },
  {
   "cell_type": "code",
   "execution_count": 24,
   "metadata": {},
   "outputs": [
    {
     "name": "stdout",
     "output_type": "stream",
     "text": [
      "(tensor([  93,   96,  238,  189,    3,   14,   74,  111,   24,  236, 1710,  385,\n",
      "        2349, 1664,  266,    3,  372,   96, 1020,   22,  188,  141,    1,  503,\n",
      "        1936, 4319,  361,    1,   77, 1937, 1274,  207,   56,   49,   37,  322,\n",
      "         408,    1,   84,  339,  184,   67, 1087,  663,   44,   72,   49, 1339,\n",
      "         305, 3424,  274, 4730,    3, 1179,    1,  237, 1339,  349, 3424,   17,\n",
      "         162, 2735,  144,    3,  139, 4254, 1411,  274, 3731, 1512,    1,   10,\n",
      "         294,   77, 3494,  464, 1476,  361,   17, 1284,   34,    3,  342,  444,\n",
      "        2731,  565,    3, 1158,    1,    1,  415, 1277,   24,  361,    0,    0,\n",
      "           0,    0,    0,    0,    0,    0,    0,    0,    0,    0,    0,    0,\n",
      "           0,    0,    0,    0,    0,    0,    0,    0,    0,    0,    0,    0,\n",
      "           0,    0,    0,    0,    0,    0,    0,    0,    0,    0,    0,    0,\n",
      "           0,    0,    0,    0,    0,    0,    0,    0,    0,    0,    0,    0,\n",
      "           0,    0,    0,    0,    0,    0,    0,    0,    0,    0,    0,    0,\n",
      "           0,    0,    0,    0,    0,    0,    0,    0,    0,    0,    0,    0,\n",
      "           0,    0,    0,    0,    0,    0,    0,    0,    0,    0,    0,    0,\n",
      "           0,    0,    0,    0,    0,    0,    0,    0,    0,    0,    0,    0,\n",
      "           0,    0,    0,    0,    0,    0,    0,    0,    0,    0,    0,    0,\n",
      "           0,    0,    0,    0,    0,    0,    0,    0,    0,    0,    0,    0,\n",
      "           0,    0,    0,    0,    0,    0,    0,    0,    0,    0,    0,    0,\n",
      "           0,    0,    0,    0,    0,    0,    0,    0,    0,    0,    0,    0,\n",
      "           0,    0,    0,    0,    0,    0,    0,    0,    0,    0,    0,    0,\n",
      "           0,    0,    0,    0,    0,    0,    0,    0,    0,    0,    0,    0,\n",
      "           0,    0,    0,    0,    0,    0,    0,    0,    0,    0,    0,    0,\n",
      "           0,    0,    0,    0,    0,    0,    0,    0,    0,    0,    0,    0,\n",
      "           0,    0,    0,    0,    0,    0,    0,    0,    0,    0,    0,    0,\n",
      "           0,    0,    0,    0,    0,    0,    0,    0,    0,    0,    0,    0,\n",
      "           0,    0,    0,    0,    0,    0,    0,    0,    0,    0,    0,    0,\n",
      "           0,    0,    0,    0,    0,    0,    0,    0,    0,    0,    0,    0,\n",
      "           0,    0,    0,    0,    0,    0,    0,    0,    0,    0,    0,    0,\n",
      "           0,    0,    0,    0,    0,    0,    0,    0,    0,    0,    0,    0,\n",
      "           0,    0,    0,    0,    0,    0,    0,    0,    0,    0,    0,    0,\n",
      "           0,    0,    0,    0,    0,    0,    0,    0,    0,    0,    0,    0,\n",
      "           0,    0,    0,    0,    0,    0,    0,    0,    0,    0,    0,    0,\n",
      "           0,    0,    0,    0,    0,    0,    0,    0,    0,    0,    0,    0,\n",
      "           0,    0,    0,    0,    0,    0,    0,    0,    0,    0,    0,    0,\n",
      "           0,    0,    0,    0,    0,    0,    0,    0,    0,    0,    0,    0,\n",
      "           0,    0,    0,    0,    0,    0,    0,    0,    0,    0,    0,    0,\n",
      "           0,    0,    0,    0,    0,    0,    0,    0,    0,    0,    0,    0,\n",
      "           0,    0,    0,    0,    0,    0,    0,    0,    0,    0,    0,    0,\n",
      "           0,    0,    0,    0,    0,    0,    0,    0,    0,    0,    0,    0,\n",
      "           0,    0,    0,    0,    0,    0,    0,    0,    0,    0,    0,    0,\n",
      "           0,    0,    0,    0,    0,    0,    0,    0,    0]), tensor(0.))\n"
     ]
    }
   ],
   "source": [
    "import torch\n",
    "import torch.utils.data\n",
    "\n",
    "# Read in only the first 250 rows\n",
    "train_sample = pd.read_csv(os.path.join(data_dir, 'train.csv'), header=None, names=None, nrows=250)\n",
    "\n",
    "# Turn the input pandas dataframe into tensors\n",
    "train_sample_y = torch.from_numpy(train_sample[[0]].values).float().squeeze()\n",
    "train_sample_X = torch.from_numpy(train_sample.drop([0], axis=1).values).long()\n",
    "\n",
    "# Build the dataset\n",
    "train_sample_ds = torch.utils.data.TensorDataset(train_sample_X, train_sample_y)\n",
    "# Build the dataloader\n",
    "train_sample_dl = torch.utils.data.DataLoader(train_sample_ds, batch_size=50)\n",
    "print(train_sample_ds[100])"
   ]
  },
  {
   "cell_type": "markdown",
   "metadata": {},
   "source": [
    "### (TODO) Writing the training method\n",
    "\n",
    "Next we need to write the training code itself. This should be very similar to training methods that you have written before to train PyTorch models. We will leave any difficult aspects such as model saving / loading and parameter loading until a little later."
   ]
  },
  {
   "cell_type": "code",
   "execution_count": 25,
   "metadata": {},
   "outputs": [],
   "source": [
    "def train(model, train_loader, epochs, optimizer, loss_fn, device):\n",
    "    for epoch in range(1, epochs + 1):\n",
    "        model.train()\n",
    "        total_loss = 0\n",
    "        for batch in train_loader:         \n",
    "            batch_X, batch_y = batch\n",
    "            \n",
    "            batch_X = batch_X.to(device)\n",
    "            batch_y = batch_y.to(device)\n",
    "            \n",
    "            # TODO: Complete this train method to train the model provided.\n",
    "            model.zero_grad()\n",
    "            output = model.forward(batch_X)\n",
    "            #print(output)\n",
    "            loss = loss_fn(output,batch_y)\n",
    "            \n",
    "            loss.backward()\n",
    "            optimizer.step()\n",
    "            \n",
    "            total_loss += loss.data.item()\n",
    "        print(\"Epoch: {}, BCELoss: {}\".format(epoch, total_loss / len(train_loader)))"
   ]
  },
  {
   "cell_type": "markdown",
   "metadata": {},
   "source": [
    "Supposing we have the training method above, we will test that it is working by writing a bit of code in the notebook that executes our training method on the small sample training set that we loaded earlier. The reason for doing this in the notebook is so that we have an opportunity to fix any errors that arise early when they are easier to diagnose."
   ]
  },
  {
   "cell_type": "code",
   "execution_count": 26,
   "metadata": {},
   "outputs": [
    {
     "name": "stdout",
     "output_type": "stream",
     "text": [
      "<torch.utils.data.dataloader.DataLoader object at 0x7f0299338860>\n",
      "Epoch: 1, BCELoss: 0.6919482231140137\n",
      "Epoch: 2, BCELoss: 0.6822301030158997\n",
      "Epoch: 3, BCELoss: 0.6734380602836609\n",
      "Epoch: 4, BCELoss: 0.662921690940857\n",
      "Epoch: 5, BCELoss: 0.6487909436225892\n"
     ]
    }
   ],
   "source": [
    "import torch.optim as optim\n",
    "from train.model import LSTMClassifier\n",
    "\n",
    "device = torch.device(\"cuda\" if torch.cuda.is_available() else \"cpu\")\n",
    "model = LSTMClassifier(32, 100, 5000).to(device)\n",
    "optimizer = optim.Adam(model.parameters())\n",
    "loss_fn = torch.nn.BCELoss()\n",
    "print(train_sample_dl)\n",
    "train(model, train_sample_dl, 5, optimizer, loss_fn, device)"
   ]
  },
  {
   "cell_type": "markdown",
   "metadata": {},
   "source": [
    "In order to construct a PyTorch model using SageMaker we must provide SageMaker with a training script. We may optionally include a directory which will be copied to the container and from which our training code will be run. When the training container is executed it will check the uploaded directory (if there is one) for a `requirements.txt` file and install any required Python libraries, after which the training script will be run."
   ]
  },
  {
   "cell_type": "markdown",
   "metadata": {},
   "source": [
    "### (TODO) Training the model\n",
    "\n",
    "When a PyTorch model is constructed in SageMaker, an entry point must be specified. This is the Python file which will be executed when the model is trained. Inside of the `train` directory is a file called `train.py` which has been provided and which contains most of the necessary code to train our model. The only thing that is missing is the implementation of the `train()` method which you wrote earlier in this notebook.\n",
    "\n",
    "**TODO**: Copy the `train()` method written above and paste it into the `train/train.py` file where required.\n",
    "\n",
    "The way that SageMaker passes hyperparameters to the training script is by way of arguments. These arguments can then be parsed and used in the training script. To see how this is done take a look at the provided `train/train.py` file."
   ]
  },
  {
   "cell_type": "code",
   "execution_count": 27,
   "metadata": {},
   "outputs": [],
   "source": [
    "from sagemaker.pytorch import PyTorch\n",
    "\n",
    "estimator = PyTorch(entry_point=\"train.py\",\n",
    "                    source_dir=\"train\",\n",
    "                    role=role,\n",
    "                    framework_version='0.4.0',\n",
    "                    train_instance_count=1,\n",
    "                    train_instance_type='ml.p2.xlarge',\n",
    "                    hyperparameters={\n",
    "                        'epochs': 10,\n",
    "                        'hidden_dim': 200,\n",
    "                    })"
   ]
  },
  {
   "cell_type": "code",
   "execution_count": 28,
   "metadata": {},
   "outputs": [
    {
     "name": "stderr",
     "output_type": "stream",
     "text": [
      "'create_image_uri' will be deprecated in favor of 'ImageURIProvider' class in SageMaker Python SDK v2.\n",
      "'s3_input' class will be renamed to 'TrainingInput' in SageMaker Python SDK v2.\n",
      "'create_image_uri' will be deprecated in favor of 'ImageURIProvider' class in SageMaker Python SDK v2.\n"
     ]
    },
    {
     "name": "stdout",
     "output_type": "stream",
     "text": [
      "2021-11-21 18:55:21 Starting - Starting the training job...\n",
      "2021-11-21 18:55:24 Starting - Launching requested ML instances......\n",
      "2021-11-21 18:56:41 Starting - Preparing the instances for training.........\n",
      "2021-11-21 18:58:12 Downloading - Downloading input data...\n",
      "2021-11-21 18:58:40 Training - Downloading the training image...\n",
      "2021-11-21 18:59:19 Training - Training image download completed. Training in progress..\u001b[34mbash: cannot set terminal process group (-1): Inappropriate ioctl for device\u001b[0m\n",
      "\u001b[34mbash: no job control in this shell\u001b[0m\n",
      "\u001b[34m2021-11-21 18:59:19,755 sagemaker-containers INFO     Imported framework sagemaker_pytorch_container.training\u001b[0m\n",
      "\u001b[34m2021-11-21 18:59:19,782 sagemaker_pytorch_container.training INFO     Block until all host DNS lookups succeed.\u001b[0m\n",
      "\u001b[34m2021-11-21 18:59:19,786 sagemaker_pytorch_container.training INFO     Invoking user training script.\u001b[0m\n",
      "\u001b[34m2021-11-21 18:59:20,107 sagemaker-containers INFO     Module train does not provide a setup.py. \u001b[0m\n",
      "\u001b[34mGenerating setup.py\u001b[0m\n",
      "\u001b[34m2021-11-21 18:59:20,107 sagemaker-containers INFO     Generating setup.cfg\u001b[0m\n",
      "\u001b[34m2021-11-21 18:59:20,108 sagemaker-containers INFO     Generating MANIFEST.in\u001b[0m\n",
      "\u001b[34m2021-11-21 18:59:20,108 sagemaker-containers INFO     Installing module with the following command:\u001b[0m\n",
      "\u001b[34m/usr/bin/python -m pip install -U . -r requirements.txt\u001b[0m\n",
      "\u001b[34mProcessing /opt/ml/code\u001b[0m\n",
      "\u001b[34mCollecting pandas (from -r requirements.txt (line 1))\u001b[0m\n",
      "\u001b[34m  Downloading https://files.pythonhosted.org/packages/74/24/0cdbf8907e1e3bc5a8da03345c23cbed7044330bb8f73bb12e711a640a00/pandas-0.24.2-cp35-cp35m-manylinux1_x86_64.whl (10.0MB)\u001b[0m\n",
      "\u001b[34mCollecting numpy (from -r requirements.txt (line 2))\n",
      "  Downloading https://files.pythonhosted.org/packages/b5/36/88723426b4ff576809fec7d73594fe17a35c27f8d01f93637637a29ae25b/numpy-1.18.5-cp35-cp35m-manylinux1_x86_64.whl (19.9MB)\u001b[0m\n",
      "\u001b[34mCollecting nltk (from -r requirements.txt (line 3))\n",
      "  Downloading https://files.pythonhosted.org/packages/5e/37/9532ddd4b1bbb619333d5708aaad9bf1742f051a664c3c6fa6632a105fd8/nltk-3.6.2-py3-none-any.whl (1.5MB)\u001b[0m\n",
      "\u001b[34mCollecting beautifulsoup4 (from -r requirements.txt (line 4))\n",
      "  Downloading https://files.pythonhosted.org/packages/69/bf/f0f194d3379d3f3347478bd267f754fc68c11cbf2fe302a6ab69447b1417/beautifulsoup4-4.10.0-py3-none-any.whl (97kB)\u001b[0m\n",
      "\u001b[34mCollecting html5lib (from -r requirements.txt (line 5))\n",
      "  Downloading https://files.pythonhosted.org/packages/6c/dd/a834df6482147d48e225a49515aabc28974ad5a4ca3215c18a882565b028/html5lib-1.1-py2.py3-none-any.whl (112kB)\u001b[0m\n",
      "\u001b[34mCollecting pytz>=2011k (from pandas->-r requirements.txt (line 1))\u001b[0m\n",
      "\u001b[34m  Downloading https://files.pythonhosted.org/packages/d3/e3/d9f046b5d1c94a3aeab15f1f867aa414f8ee9d196fae6865f1d6a0ee1a0b/pytz-2021.3-py2.py3-none-any.whl (503kB)\u001b[0m\n",
      "\u001b[34mRequirement already satisfied, skipping upgrade: python-dateutil>=2.5.0 in /usr/local/lib/python3.5/dist-packages (from pandas->-r requirements.txt (line 1)) (2.7.5)\u001b[0m\n",
      "\u001b[34mCollecting tqdm (from nltk->-r requirements.txt (line 3))\n",
      "  Downloading https://files.pythonhosted.org/packages/63/f3/b7a1b8e40fd1bd049a34566eb353527bb9b8e9b98f8b6cf803bb64d8ce95/tqdm-4.62.3-py2.py3-none-any.whl (76kB)\u001b[0m\n",
      "\u001b[34mCollecting joblib (from nltk->-r requirements.txt (line 3))\n",
      "  Downloading https://files.pythonhosted.org/packages/28/5c/cf6a2b65a321c4a209efcdf64c2689efae2cb62661f8f6f4bb28547cf1bf/joblib-0.14.1-py2.py3-none-any.whl (294kB)\u001b[0m\n",
      "\u001b[34mCollecting regex (from nltk->-r requirements.txt (line 3))\u001b[0m\n",
      "\u001b[34m  Downloading https://files.pythonhosted.org/packages/97/cd/93ad08b2f97ec95da0bd860380ce0ac7481eaccc760356ee11eda369c048/regex-2021.11.10.tar.gz (702kB)\u001b[0m\n",
      "\u001b[34mRequirement already satisfied, skipping upgrade: click in /usr/local/lib/python3.5/dist-packages (from nltk->-r requirements.txt (line 3)) (7.0)\u001b[0m\n",
      "\u001b[34mCollecting soupsieve>1.2 (from beautifulsoup4->-r requirements.txt (line 4))\n",
      "  Downloading https://files.pythonhosted.org/packages/02/fb/1c65691a9aeb7bd6ac2aa505b84cb8b49ac29c976411c6ab3659425e045f/soupsieve-2.1-py3-none-any.whl\u001b[0m\n",
      "\u001b[34mCollecting webencodings (from html5lib->-r requirements.txt (line 5))\n",
      "  Downloading https://files.pythonhosted.org/packages/f4/24/2a3e3df732393fed8b3ebf2ec078f05546de641fe1b667ee316ec1dcf3b7/webencodings-0.5.1-py2.py3-none-any.whl\u001b[0m\n",
      "\u001b[34mRequirement already satisfied, skipping upgrade: six>=1.9 in /usr/local/lib/python3.5/dist-packages (from html5lib->-r requirements.txt (line 5)) (1.11.0)\u001b[0m\n",
      "\u001b[34mBuilding wheels for collected packages: train, regex\n",
      "  Running setup.py bdist_wheel for train: started\u001b[0m\n",
      "\u001b[34m  Running setup.py bdist_wheel for train: finished with status 'done'\n",
      "  Stored in directory: /tmp/pip-ephem-wheel-cache-zuzy3cb2/wheels/35/24/16/37574d11bf9bde50616c67372a334f94fa8356bc7164af8ca3\n",
      "  Running setup.py bdist_wheel for regex: started\u001b[0m\n",
      "\u001b[34m  Running setup.py bdist_wheel for regex: finished with status 'done'\n",
      "  Stored in directory: /root/.cache/pip/wheels/cd/5d/f5/8d8fa6ffd0251556598eb71da0c5c0374bca976273ade005ed\u001b[0m\n",
      "\u001b[34mSuccessfully built train regex\u001b[0m\n",
      "\u001b[34mInstalling collected packages: pytz, numpy, pandas, tqdm, joblib, regex, nltk, soupsieve, beautifulsoup4, webencodings, html5lib, train\u001b[0m\n",
      "\u001b[34m  Found existing installation: numpy 1.15.4\n",
      "    Uninstalling numpy-1.15.4:\n",
      "      Successfully uninstalled numpy-1.15.4\u001b[0m\n",
      "\u001b[34mSuccessfully installed beautifulsoup4-4.10.0 html5lib-1.1 joblib-0.14.1 nltk-3.6.2 numpy-1.18.5 pandas-0.24.2 pytz-2021.3 regex-2021.11.10 soupsieve-2.1 tqdm-4.62.3 train-1.0.0 webencodings-0.5.1\u001b[0m\n",
      "\u001b[34mYou are using pip version 18.1, however version 20.3.4 is available.\u001b[0m\n",
      "\u001b[34mYou should consider upgrading via the 'pip install --upgrade pip' command.\u001b[0m\n",
      "\u001b[34m2021-11-21 18:59:51,631 sagemaker-containers INFO     Invoking user script\u001b[0m\n",
      "\u001b[34mTraining Env:\u001b[0m\n",
      "\u001b[34m{\n",
      "    \"user_entry_point\": \"train.py\",\n",
      "    \"num_cpus\": 4,\n",
      "    \"module_dir\": \"s3://sagemaker-us-east-1-225355641646/sagemaker-pytorch-2021-11-21-18-55-21-326/source/sourcedir.tar.gz\",\n",
      "    \"module_name\": \"train\",\n",
      "    \"num_gpus\": 1,\n",
      "    \"output_intermediate_dir\": \"/opt/ml/output/intermediate\",\n",
      "    \"hosts\": [\n",
      "        \"algo-1\"\n",
      "    ],\n",
      "    \"output_data_dir\": \"/opt/ml/output/data\",\n",
      "    \"output_dir\": \"/opt/ml/output\",\n",
      "    \"additional_framework_parameters\": {},\n",
      "    \"input_data_config\": {\n",
      "        \"training\": {\n",
      "            \"RecordWrapperType\": \"None\",\n",
      "            \"TrainingInputMode\": \"File\",\n",
      "            \"S3DistributionType\": \"FullyReplicated\"\n",
      "        }\n",
      "    },\n",
      "    \"resource_config\": {\n",
      "        \"hosts\": [\n",
      "            \"algo-1\"\n",
      "        ],\n",
      "        \"network_interface_name\": \"eth0\",\n",
      "        \"current_host\": \"algo-1\"\n",
      "    },\n",
      "    \"log_level\": 20,\n",
      "    \"job_name\": \"sagemaker-pytorch-2021-11-21-18-55-21-326\",\n",
      "    \"framework_module\": \"sagemaker_pytorch_container.training:main\",\n",
      "    \"input_dir\": \"/opt/ml/input\",\n",
      "    \"model_dir\": \"/opt/ml/model\",\n",
      "    \"current_host\": \"algo-1\",\n",
      "    \"hyperparameters\": {\n",
      "        \"epochs\": 10,\n",
      "        \"hidden_dim\": 200\n",
      "    },\n",
      "    \"channel_input_dirs\": {\n",
      "        \"training\": \"/opt/ml/input/data/training\"\n",
      "    },\n",
      "    \"network_interface_name\": \"eth0\",\n",
      "    \"input_config_dir\": \"/opt/ml/input/config\"\u001b[0m\n",
      "\u001b[34m}\u001b[0m\n",
      "\u001b[34mEnvironment variables:\u001b[0m\n",
      "\u001b[34mSM_CHANNELS=[\"training\"]\u001b[0m\n",
      "\u001b[34mSM_FRAMEWORK_PARAMS={}\u001b[0m\n",
      "\u001b[34mSM_NETWORK_INTERFACE_NAME=eth0\u001b[0m\n",
      "\u001b[34mSM_INPUT_DIR=/opt/ml/input\u001b[0m\n",
      "\u001b[34mPYTHONPATH=/usr/local/bin:/usr/lib/python35.zip:/usr/lib/python3.5:/usr/lib/python3.5/plat-x86_64-linux-gnu:/usr/lib/python3.5/lib-dynload:/usr/local/lib/python3.5/dist-packages:/usr/lib/python3/dist-packages\u001b[0m\n",
      "\u001b[34mSM_INPUT_DATA_CONFIG={\"training\":{\"RecordWrapperType\":\"None\",\"S3DistributionType\":\"FullyReplicated\",\"TrainingInputMode\":\"File\"}}\u001b[0m\n",
      "\u001b[34mSM_MODULE_NAME=train\u001b[0m\n",
      "\u001b[34mSM_CURRENT_HOST=algo-1\u001b[0m\n",
      "\u001b[34mSM_OUTPUT_DATA_DIR=/opt/ml/output/data\u001b[0m\n",
      "\u001b[34mSM_NUM_GPUS=1\u001b[0m\n",
      "\u001b[34mSM_MODEL_DIR=/opt/ml/model\u001b[0m\n",
      "\u001b[34mSM_CHANNEL_TRAINING=/opt/ml/input/data/training\u001b[0m\n",
      "\u001b[34mSM_HOSTS=[\"algo-1\"]\u001b[0m\n",
      "\u001b[34mSM_FRAMEWORK_MODULE=sagemaker_pytorch_container.training:main\u001b[0m\n",
      "\u001b[34mSM_OUTPUT_DIR=/opt/ml/output\u001b[0m\n",
      "\u001b[34mSM_RESOURCE_CONFIG={\"current_host\":\"algo-1\",\"hosts\":[\"algo-1\"],\"network_interface_name\":\"eth0\"}\u001b[0m\n",
      "\u001b[34mSM_USER_ENTRY_POINT=train.py\u001b[0m\n",
      "\u001b[34mSM_USER_ARGS=[\"--epochs\",\"10\",\"--hidden_dim\",\"200\"]\u001b[0m\n",
      "\u001b[34mSM_HP_EPOCHS=10\u001b[0m\n",
      "\u001b[34mSM_OUTPUT_INTERMEDIATE_DIR=/opt/ml/output/intermediate\u001b[0m\n",
      "\u001b[34mSM_NUM_CPUS=4\u001b[0m\n",
      "\u001b[34mSM_LOG_LEVEL=20\u001b[0m\n",
      "\u001b[34mSM_MODULE_DIR=s3://sagemaker-us-east-1-225355641646/sagemaker-pytorch-2021-11-21-18-55-21-326/source/sourcedir.tar.gz\u001b[0m\n",
      "\u001b[34mSM_HP_HIDDEN_DIM=200\u001b[0m\n",
      "\u001b[34mSM_TRAINING_ENV={\"additional_framework_parameters\":{},\"channel_input_dirs\":{\"training\":\"/opt/ml/input/data/training\"},\"current_host\":\"algo-1\",\"framework_module\":\"sagemaker_pytorch_container.training:main\",\"hosts\":[\"algo-1\"],\"hyperparameters\":{\"epochs\":10,\"hidden_dim\":200},\"input_config_dir\":\"/opt/ml/input/config\",\"input_data_config\":{\"training\":{\"RecordWrapperType\":\"None\",\"S3DistributionType\":\"FullyReplicated\",\"TrainingInputMode\":\"File\"}},\"input_dir\":\"/opt/ml/input\",\"job_name\":\"sagemaker-pytorch-2021-11-21-18-55-21-326\",\"log_level\":20,\"model_dir\":\"/opt/ml/model\",\"module_dir\":\"s3://sagemaker-us-east-1-225355641646/sagemaker-pytorch-2021-11-21-18-55-21-326/source/sourcedir.tar.gz\",\"module_name\":\"train\",\"network_interface_name\":\"eth0\",\"num_cpus\":4,\"num_gpus\":1,\"output_data_dir\":\"/opt/ml/output/data\",\"output_dir\":\"/opt/ml/output\",\"output_intermediate_dir\":\"/opt/ml/output/intermediate\",\"resource_config\":{\"current_host\":\"algo-1\",\"hosts\":[\"algo-1\"],\"network_interface_name\":\"eth0\"},\"user_entry_point\":\"train.py\"}\u001b[0m\n",
      "\u001b[34mSM_HPS={\"epochs\":10,\"hidden_dim\":200}\u001b[0m\n",
      "\u001b[34mSM_INPUT_CONFIG_DIR=/opt/ml/input/config\u001b[0m\n",
      "\u001b[34mInvoking script with the following command:\u001b[0m\n",
      "\u001b[34m/usr/bin/python -m train --epochs 10 --hidden_dim 200\u001b[0m\n",
      "\u001b[34mUsing device cuda.\u001b[0m\n",
      "\u001b[34mGet train data loader.\u001b[0m\n"
     ]
    },
    {
     "name": "stdout",
     "output_type": "stream",
     "text": [
      "\u001b[34mModel loaded with embedding_dim 32, hidden_dim 200, vocab_size 5000.\u001b[0m\n",
      "\u001b[34m2021-11-21 19:02:54,823 sagemaker-containers INFO     Reporting training SUCCESS\u001b[0m\n",
      "\n",
      "2021-11-21 19:03:06 Uploading - Uploading generated training model\n",
      "2021-11-21 19:03:06 Completed - Training job completed\n",
      "Training seconds: 294\n",
      "Billable seconds: 294\n"
     ]
    }
   ],
   "source": [
    "estimator.fit({'training': input_data})"
   ]
  },
  {
   "cell_type": "markdown",
   "metadata": {},
   "source": [
    "## Step 5: Testing the model\n",
    "\n",
    "As mentioned at the top of this notebook, we will be testing this model by first deploying it and then sending the testing data to the deployed endpoint. We will do this so that we can make sure that the deployed model is working correctly.\n",
    "\n",
    "## Step 6: Deploy the model for testing\n",
    "\n",
    "Now that we have trained our model, we would like to test it to see how it performs. Currently our model takes input of the form `review_length, review[500]` where `review[500]` is a sequence of `500` integers which describe the words present in the review, encoded using `word_dict`. Fortunately for us, SageMaker provides built-in inference code for models with simple inputs such as this.\n",
    "\n",
    "There is one thing that we need to provide, however, and that is a function which loads the saved model. This function must be called `model_fn()` and takes as its only parameter a path to the directory where the model artifacts are stored. This function must also be present in the python file which we specified as the entry point. In our case the model loading function has been provided and so no changes need to be made.\n",
    "\n",
    "**NOTE**: When the built-in inference code is run it must import the `model_fn()` method from the `train.py` file. This is why the training code is wrapped in a main guard ( ie, `if __name__ == '__main__':` )\n",
    "\n",
    "Since we don't need to change anything in the code that was uploaded during training, we can simply deploy the current model as-is.\n",
    "\n",
    "**NOTE:** When deploying a model you are asking SageMaker to launch an compute instance that will wait for data to be sent to it. As a result, this compute instance will continue to run until *you* shut it down. This is important to know since the cost of a deployed endpoint depends on how long it has been running for.\n",
    "\n",
    "In other words **If you are no longer using a deployed endpoint, shut it down!**\n",
    "\n",
    "**TODO:** Deploy the trained model."
   ]
  },
  {
   "cell_type": "code",
   "execution_count": 29,
   "metadata": {},
   "outputs": [
    {
     "name": "stderr",
     "output_type": "stream",
     "text": [
      "Parameter image will be renamed to image_uri in SageMaker Python SDK v2.\n",
      "'create_image_uri' will be deprecated in favor of 'ImageURIProvider' class in SageMaker Python SDK v2.\n"
     ]
    },
    {
     "name": "stdout",
     "output_type": "stream",
     "text": [
      "---------!"
     ]
    }
   ],
   "source": [
    "# TODO: Deploy the trained model\n",
    "predictor = estimator.deploy(initial_instance_count = 1, instance_type = 'ml.p2.xlarge')"
   ]
  },
  {
   "cell_type": "markdown",
   "metadata": {},
   "source": [
    "## Step 7 - Use the model for testing\n",
    "\n",
    "Once deployed, we can read in the test data and send it off to our deployed model to get some results. Once we collect all of the results we can determine how accurate our model is."
   ]
  },
  {
   "cell_type": "code",
   "execution_count": 30,
   "metadata": {},
   "outputs": [],
   "source": [
    "test_X = pd.concat([pd.DataFrame(test_X_len), pd.DataFrame(test_X)], axis=1)"
   ]
  },
  {
   "cell_type": "code",
   "execution_count": 31,
   "metadata": {},
   "outputs": [],
   "source": [
    "# We split the data into chunks and send each chunk seperately, accumulating the results.\n",
    "\n",
    "def predict(data, rows=512):\n",
    "    split_array = np.array_split(data, int(data.shape[0] / float(rows) + 1))\n",
    "    predictions = np.array([])\n",
    "    for array in split_array:\n",
    "        predictions = np.append(predictions, predictor.predict(array))\n",
    "    \n",
    "    return predictions"
   ]
  },
  {
   "cell_type": "code",
   "execution_count": 32,
   "metadata": {},
   "outputs": [],
   "source": [
    "predictions = predict(test_X.values)\n",
    "predictions = [round(num) for num in predictions]"
   ]
  },
  {
   "cell_type": "code",
   "execution_count": 33,
   "metadata": {},
   "outputs": [
    {
     "data": {
      "text/plain": [
       "0.85424"
      ]
     },
     "execution_count": 33,
     "metadata": {},
     "output_type": "execute_result"
    }
   ],
   "source": [
    "from sklearn.metrics import accuracy_score\n",
    "accuracy_score(test_y, predictions)"
   ]
  },
  {
   "cell_type": "markdown",
   "metadata": {},
   "source": [
    "**Question:** How does this model compare to the XGBoost model you created earlier? Why might these two models perform differently on this dataset? Which do *you* think is better for sentiment analysis?"
   ]
  },
  {
   "cell_type": "markdown",
   "metadata": {},
   "source": [
    "**Answer:** The score of XGBoost model was little better but similar to this. Since this is a RNN sequence based model it can be improved with more tuning and is better suited for text movie reviews. \n"
   ]
  },
  {
   "cell_type": "markdown",
   "metadata": {},
   "source": [
    "### (TODO) More testing\n",
    "\n",
    "We now have a trained model which has been deployed and which we can send processed reviews to and which returns the predicted sentiment. However, ultimately we would like to be able to send our model an unprocessed review. That is, we would like to send the review itself as a string. For example, suppose we wish to send the following review to our model."
   ]
  },
  {
   "cell_type": "code",
   "execution_count": 34,
   "metadata": {},
   "outputs": [],
   "source": [
    "test_review = 'The simplest pleasures in life are the best, and this film is one of them. Combining a rather basic storyline of love and adventure this movie transcends the usual weekend fair with wit and unmitigated charm.'"
   ]
  },
  {
   "cell_type": "markdown",
   "metadata": {},
   "source": [
    "The question we now need to answer is, how do we send this review to our model?\n",
    "\n",
    "Recall in the first section of this notebook we did a bunch of data processing to the IMDb dataset. In particular, we did two specific things to the provided reviews.\n",
    " - Removed any html tags and stemmed the input\n",
    " - Encoded the review as a sequence of integers using `word_dict`\n",
    " \n",
    "In order process the review we will need to repeat these two steps.\n",
    "\n",
    "**TODO**: Using the `review_to_words` and `convert_and_pad` methods from section one, convert `test_review` into a numpy array `test_data` suitable to send to our model. Remember that our model expects input of the form `review_length, review[500]`. So make sure you produce two variables from processing: \n",
    "- A sequence of length 500 which represents the converted review\n",
    "- The length of the review"
   ]
  },
  {
   "cell_type": "code",
   "execution_count": 35,
   "metadata": {},
   "outputs": [],
   "source": [
    "# TODO: Convert test_review into a form usable by the model and save the results in test_data\n",
    "test_data_review = review_to_words(test_review)\n",
    "test_data = [np.array(convert_and_pad(word_dict, test_data_review)[0])]"
   ]
  },
  {
   "cell_type": "markdown",
   "metadata": {},
   "source": [
    "Now that we have processed the review, we can send the resulting array to our model to predict the sentiment of the review."
   ]
  },
  {
   "cell_type": "code",
   "execution_count": 36,
   "metadata": {},
   "outputs": [
    {
     "data": {
      "text/plain": [
       "array(0.60752743, dtype=float32)"
      ]
     },
     "execution_count": 36,
     "metadata": {},
     "output_type": "execute_result"
    }
   ],
   "source": [
    "predictor.predict(test_data)"
   ]
  },
  {
   "cell_type": "markdown",
   "metadata": {},
   "source": [
    "Since the return value of our model is close to `1`, we can be certain that the review we submitted is positive."
   ]
  },
  {
   "cell_type": "markdown",
   "metadata": {},
   "source": [
    "### Delete the endpoint\n",
    "\n",
    "Of course, just like in the XGBoost notebook, once we've deployed an endpoint it continues to run until we tell it to shut down. Since we are done using our endpoint for now, we can delete it."
   ]
  },
  {
   "cell_type": "code",
   "execution_count": 37,
   "metadata": {},
   "outputs": [
    {
     "name": "stderr",
     "output_type": "stream",
     "text": [
      "estimator.delete_endpoint() will be deprecated in SageMaker Python SDK v2. Please use the delete_endpoint() function on your predictor instead.\n"
     ]
    }
   ],
   "source": [
    "estimator.delete_endpoint()"
   ]
  },
  {
   "cell_type": "markdown",
   "metadata": {},
   "source": [
    "## Step 6 (again) - Deploy the model for the web app\n",
    "\n",
    "Now that we know that our model is working, it's time to create some custom inference code so that we can send the model a review which has not been processed and have it determine the sentiment of the review.\n",
    "\n",
    "As we saw above, by default the estimator which we created, when deployed, will use the entry script and directory which we provided when creating the model. However, since we now wish to accept a string as input and our model expects a processed review, we need to write some custom inference code.\n",
    "\n",
    "We will store the code that we write in the `serve` directory. Provided in this directory is the `model.py` file that we used to construct our model, a `utils.py` file which contains the `review_to_words` and `convert_and_pad` pre-processing functions which we used during the initial data processing, and `predict.py`, the file which will contain our custom inference code. Note also that `requirements.txt` is present which will tell SageMaker what Python libraries are required by our custom inference code.\n",
    "\n",
    "When deploying a PyTorch model in SageMaker, you are expected to provide four functions which the SageMaker inference container will use.\n",
    " - `model_fn`: This function is the same function that we used in the training script and it tells SageMaker how to load our model.\n",
    " - `input_fn`: This function receives the raw serialized input that has been sent to the model's endpoint and its job is to de-serialize and make the input available for the inference code.\n",
    " - `output_fn`: This function takes the output of the inference code and its job is to serialize this output and return it to the caller of the model's endpoint.\n",
    " - `predict_fn`: The heart of the inference script, this is where the actual prediction is done and is the function which you will need to complete.\n",
    "\n",
    "For the simple website that we are constructing during this project, the `input_fn` and `output_fn` methods are relatively straightforward. We only require being able to accept a string as input and we expect to return a single value as output. You might imagine though that in a more complex application the input or output may be image data or some other binary data which would require some effort to serialize.\n",
    "\n",
    "### (TODO) Writing inference code\n",
    "\n",
    "Before writing our custom inference code, we will begin by taking a look at the code which has been provided."
   ]
  },
  {
   "cell_type": "code",
   "execution_count": 44,
   "metadata": {},
   "outputs": [
    {
     "name": "stdout",
     "output_type": "stream",
     "text": [
      "\u001b[34mimport\u001b[39;49;00m \u001b[04m\u001b[36margparse\u001b[39;49;00m\r\n",
      "\u001b[34mimport\u001b[39;49;00m \u001b[04m\u001b[36mjson\u001b[39;49;00m\r\n",
      "\u001b[34mimport\u001b[39;49;00m \u001b[04m\u001b[36mos\u001b[39;49;00m\r\n",
      "\u001b[34mimport\u001b[39;49;00m \u001b[04m\u001b[36mpickle\u001b[39;49;00m\r\n",
      "\u001b[34mimport\u001b[39;49;00m \u001b[04m\u001b[36msys\u001b[39;49;00m\r\n",
      "\u001b[34mimport\u001b[39;49;00m \u001b[04m\u001b[36msagemaker_containers\u001b[39;49;00m\r\n",
      "\u001b[34mimport\u001b[39;49;00m \u001b[04m\u001b[36mpandas\u001b[39;49;00m \u001b[34mas\u001b[39;49;00m \u001b[04m\u001b[36mpd\u001b[39;49;00m\r\n",
      "\u001b[34mimport\u001b[39;49;00m \u001b[04m\u001b[36mnumpy\u001b[39;49;00m \u001b[34mas\u001b[39;49;00m \u001b[04m\u001b[36mnp\u001b[39;49;00m\r\n",
      "\u001b[34mimport\u001b[39;49;00m \u001b[04m\u001b[36mtorch\u001b[39;49;00m\r\n",
      "\u001b[34mimport\u001b[39;49;00m \u001b[04m\u001b[36mtorch\u001b[39;49;00m\u001b[04m\u001b[36m.\u001b[39;49;00m\u001b[04m\u001b[36mnn\u001b[39;49;00m \u001b[34mas\u001b[39;49;00m \u001b[04m\u001b[36mnn\u001b[39;49;00m\r\n",
      "\u001b[34mimport\u001b[39;49;00m \u001b[04m\u001b[36mtorch\u001b[39;49;00m\u001b[04m\u001b[36m.\u001b[39;49;00m\u001b[04m\u001b[36moptim\u001b[39;49;00m \u001b[34mas\u001b[39;49;00m \u001b[04m\u001b[36moptim\u001b[39;49;00m\r\n",
      "\u001b[34mimport\u001b[39;49;00m \u001b[04m\u001b[36mtorch\u001b[39;49;00m\u001b[04m\u001b[36m.\u001b[39;49;00m\u001b[04m\u001b[36mutils\u001b[39;49;00m\u001b[04m\u001b[36m.\u001b[39;49;00m\u001b[04m\u001b[36mdata\u001b[39;49;00m\r\n",
      "\r\n",
      "\u001b[34mfrom\u001b[39;49;00m \u001b[04m\u001b[36mmodel\u001b[39;49;00m \u001b[34mimport\u001b[39;49;00m LSTMClassifier\r\n",
      "\r\n",
      "\u001b[34mfrom\u001b[39;49;00m \u001b[04m\u001b[36mutils\u001b[39;49;00m \u001b[34mimport\u001b[39;49;00m review_to_words, convert_and_pad\r\n",
      "\r\n",
      "\u001b[34mdef\u001b[39;49;00m \u001b[32mmodel_fn\u001b[39;49;00m(model_dir):\r\n",
      "    \u001b[33m\"\"\"Load the PyTorch model from the `model_dir` directory.\"\"\"\u001b[39;49;00m\r\n",
      "    \u001b[36mprint\u001b[39;49;00m(\u001b[33m\"\u001b[39;49;00m\u001b[33mLoading model.\u001b[39;49;00m\u001b[33m\"\u001b[39;49;00m)\r\n",
      "\r\n",
      "    \u001b[37m# First, load the parameters used to create the model.\u001b[39;49;00m\r\n",
      "    model_info = {}\r\n",
      "    model_info_path = os.path.join(model_dir, \u001b[33m'\u001b[39;49;00m\u001b[33mmodel_info.pth\u001b[39;49;00m\u001b[33m'\u001b[39;49;00m)\r\n",
      "    \u001b[34mwith\u001b[39;49;00m \u001b[36mopen\u001b[39;49;00m(model_info_path, \u001b[33m'\u001b[39;49;00m\u001b[33mrb\u001b[39;49;00m\u001b[33m'\u001b[39;49;00m) \u001b[34mas\u001b[39;49;00m f:\r\n",
      "        model_info = torch.load(f)\r\n",
      "\r\n",
      "    \u001b[36mprint\u001b[39;49;00m(\u001b[33m\"\u001b[39;49;00m\u001b[33mmodel_info: \u001b[39;49;00m\u001b[33m{}\u001b[39;49;00m\u001b[33m\"\u001b[39;49;00m.format(model_info))\r\n",
      "\r\n",
      "    \u001b[37m# Determine the device and construct the model.\u001b[39;49;00m\r\n",
      "    device = torch.device(\u001b[33m\"\u001b[39;49;00m\u001b[33mcuda\u001b[39;49;00m\u001b[33m\"\u001b[39;49;00m \u001b[34mif\u001b[39;49;00m torch.cuda.is_available() \u001b[34melse\u001b[39;49;00m \u001b[33m\"\u001b[39;49;00m\u001b[33mcpu\u001b[39;49;00m\u001b[33m\"\u001b[39;49;00m)\r\n",
      "    model = LSTMClassifier(model_info[\u001b[33m'\u001b[39;49;00m\u001b[33membedding_dim\u001b[39;49;00m\u001b[33m'\u001b[39;49;00m], model_info[\u001b[33m'\u001b[39;49;00m\u001b[33mhidden_dim\u001b[39;49;00m\u001b[33m'\u001b[39;49;00m], model_info[\u001b[33m'\u001b[39;49;00m\u001b[33mvocab_size\u001b[39;49;00m\u001b[33m'\u001b[39;49;00m])\r\n",
      "\r\n",
      "    \u001b[37m# Load the store model parameters.\u001b[39;49;00m\r\n",
      "    model_path = os.path.join(model_dir, \u001b[33m'\u001b[39;49;00m\u001b[33mmodel.pth\u001b[39;49;00m\u001b[33m'\u001b[39;49;00m)\r\n",
      "    \u001b[34mwith\u001b[39;49;00m \u001b[36mopen\u001b[39;49;00m(model_path, \u001b[33m'\u001b[39;49;00m\u001b[33mrb\u001b[39;49;00m\u001b[33m'\u001b[39;49;00m) \u001b[34mas\u001b[39;49;00m f:\r\n",
      "        model.load_state_dict(torch.load(f))\r\n",
      "\r\n",
      "    \u001b[37m# Load the saved word_dict.\u001b[39;49;00m\r\n",
      "    word_dict_path = os.path.join(model_dir, \u001b[33m'\u001b[39;49;00m\u001b[33mword_dict.pkl\u001b[39;49;00m\u001b[33m'\u001b[39;49;00m)\r\n",
      "    \u001b[34mwith\u001b[39;49;00m \u001b[36mopen\u001b[39;49;00m(word_dict_path, \u001b[33m'\u001b[39;49;00m\u001b[33mrb\u001b[39;49;00m\u001b[33m'\u001b[39;49;00m) \u001b[34mas\u001b[39;49;00m f:\r\n",
      "        model.word_dict = pickle.load(f)\r\n",
      "\r\n",
      "    model.to(device).eval()\r\n",
      "\r\n",
      "    \u001b[36mprint\u001b[39;49;00m(\u001b[33m\"\u001b[39;49;00m\u001b[33mDone loading model.\u001b[39;49;00m\u001b[33m\"\u001b[39;49;00m)\r\n",
      "    \u001b[34mreturn\u001b[39;49;00m model\r\n",
      "\r\n",
      "\u001b[34mdef\u001b[39;49;00m \u001b[32minput_fn\u001b[39;49;00m(serialized_input_data, content_type):\r\n",
      "    \u001b[36mprint\u001b[39;49;00m(\u001b[33m'\u001b[39;49;00m\u001b[33mDeserializing the input data.\u001b[39;49;00m\u001b[33m'\u001b[39;49;00m)\r\n",
      "    \u001b[34mif\u001b[39;49;00m content_type == \u001b[33m'\u001b[39;49;00m\u001b[33mtext/plain\u001b[39;49;00m\u001b[33m'\u001b[39;49;00m:\r\n",
      "        data = serialized_input_data.decode(\u001b[33m'\u001b[39;49;00m\u001b[33mutf-8\u001b[39;49;00m\u001b[33m'\u001b[39;49;00m)\r\n",
      "        \u001b[34mreturn\u001b[39;49;00m data\r\n",
      "    \u001b[34mraise\u001b[39;49;00m \u001b[36mException\u001b[39;49;00m(\u001b[33m'\u001b[39;49;00m\u001b[33mRequested unsupported ContentType in content_type: \u001b[39;49;00m\u001b[33m'\u001b[39;49;00m + content_type)\r\n",
      "\r\n",
      "\u001b[34mdef\u001b[39;49;00m \u001b[32moutput_fn\u001b[39;49;00m(prediction_output, accept):\r\n",
      "    \u001b[36mprint\u001b[39;49;00m(\u001b[33m'\u001b[39;49;00m\u001b[33mSerializing the generated output.\u001b[39;49;00m\u001b[33m'\u001b[39;49;00m)\r\n",
      "    \u001b[34mreturn\u001b[39;49;00m \u001b[36mstr\u001b[39;49;00m(prediction_output)\r\n",
      "\r\n",
      "\u001b[34mdef\u001b[39;49;00m \u001b[32mpredict_fn\u001b[39;49;00m(input_data, model):\r\n",
      "    \u001b[36mprint\u001b[39;49;00m(\u001b[33m'\u001b[39;49;00m\u001b[33mInferring sentiment of input data.\u001b[39;49;00m\u001b[33m'\u001b[39;49;00m)\r\n",
      "\r\n",
      "    device = torch.device(\u001b[33m\"\u001b[39;49;00m\u001b[33mcuda\u001b[39;49;00m\u001b[33m\"\u001b[39;49;00m \u001b[34mif\u001b[39;49;00m torch.cuda.is_available() \u001b[34melse\u001b[39;49;00m \u001b[33m\"\u001b[39;49;00m\u001b[33mcpu\u001b[39;49;00m\u001b[33m\"\u001b[39;49;00m)\r\n",
      "    \r\n",
      "    \u001b[34mif\u001b[39;49;00m model.word_dict \u001b[35mis\u001b[39;49;00m \u001b[34mNone\u001b[39;49;00m:\r\n",
      "        \u001b[34mraise\u001b[39;49;00m \u001b[36mException\u001b[39;49;00m(\u001b[33m'\u001b[39;49;00m\u001b[33mModel has not been loaded properly, no word_dict.\u001b[39;49;00m\u001b[33m'\u001b[39;49;00m)\r\n",
      "    \r\n",
      "    \u001b[37m# TODO: Process input_data so that it is ready to be sent to our model.\u001b[39;49;00m\r\n",
      "    \u001b[37m#       You should produce two variables:\u001b[39;49;00m\r\n",
      "    \u001b[37m#         data_X   - A sequence of length 500 which represents the converted review\u001b[39;49;00m\r\n",
      "    \u001b[37m#         data_len - The length of the review\u001b[39;49;00m\r\n",
      "\r\n",
      "    data_X = \u001b[34mNone\u001b[39;49;00m\r\n",
      "    data_len = \u001b[34mNone\u001b[39;49;00m\r\n",
      "\r\n",
      "    \u001b[37m# Using data_X and data_len we construct an appropriate input tensor. Remember\u001b[39;49;00m\r\n",
      "    \u001b[37m# that our model expects input data of the form 'len, review[500]'.\u001b[39;49;00m\r\n",
      "    \r\n",
      "    words = review_to_words(input_data)\r\n",
      "    data_X, data_len = convert_and_pad(model.word_dict, words)\r\n",
      "    \r\n",
      "    data_pack = np.hstack((data_len, data_X))\r\n",
      "    data_pack = data_pack.reshape(\u001b[34m1\u001b[39;49;00m, -\u001b[34m1\u001b[39;49;00m)\r\n",
      "    \r\n",
      "    data = torch.from_numpy(data_pack)\r\n",
      "    data = data.to(device)\r\n",
      "\r\n",
      "    \u001b[37m# Make sure to put the model into evaluation mode\u001b[39;49;00m\r\n",
      "    model.eval()\r\n",
      "\r\n",
      "    \u001b[37m# TODO: Compute the result of applying the model to the input data. The variable `result` should\u001b[39;49;00m\r\n",
      "    \u001b[37m#       be a numpy array which contains a single integer which is either 1 or 0\u001b[39;49;00m\r\n",
      "\r\n",
      "    result = \u001b[34mNone\u001b[39;49;00m\r\n",
      "    \u001b[34mwith\u001b[39;49;00m torch.no_grad():\r\n",
      "        output = model.forward(data)\r\n",
      "    result = np.round(output.numpy())\r\n",
      "    \r\n",
      "\r\n",
      "    \u001b[34mreturn\u001b[39;49;00m result\r\n"
     ]
    }
   ],
   "source": [
    "!pygmentize serve/predict.py"
   ]
  },
  {
   "cell_type": "markdown",
   "metadata": {},
   "source": [
    "As mentioned earlier, the `model_fn` method is the same as the one provided in the training code and the `input_fn` and `output_fn` methods are very simple and your task will be to complete the `predict_fn` method. \n",
    "\n",
    "**Note**: Our model expects input data of the form 'len, review[500]'. So make sure you produce two variables from processing: \n",
    "- `data_X`:  A sequence of length 500 which represents the converted review\n",
    "- `data_len`: - The length of the review\n",
    "\n",
    "Make sure that you save the completed file as `predict.py` in the `serve` directory.\n",
    "\n",
    "**TODO**: Complete the `predict_fn()` method in the `serve/predict.py` file."
   ]
  },
  {
   "cell_type": "markdown",
   "metadata": {},
   "source": [
    "### Deploying the model\n",
    "\n",
    "Now that the custom inference code has been written, we will create and deploy our model. To begin with, we need to construct a new PyTorchModel object which points to the model artifacts created during training and also points to the inference code that we wish to use. Then we can call the deploy method to launch the deployment container.\n",
    "\n",
    "**NOTE**: The default behaviour for a deployed PyTorch model is to assume that any input passed to the predictor is a `numpy` array. In our case we want to send a string so we need to construct a simple wrapper around the `RealTimePredictor` class to accomodate simple strings. In a more complicated situation you may want to provide a serialization object, for example if you wanted to sent image data."
   ]
  },
  {
   "cell_type": "code",
   "execution_count": 45,
   "metadata": {},
   "outputs": [
    {
     "name": "stderr",
     "output_type": "stream",
     "text": [
      "Parameter image will be renamed to image_uri in SageMaker Python SDK v2.\n",
      "'create_image_uri' will be deprecated in favor of 'ImageURIProvider' class in SageMaker Python SDK v2.\n"
     ]
    },
    {
     "name": "stdout",
     "output_type": "stream",
     "text": [
      "---------!"
     ]
    }
   ],
   "source": [
    "from sagemaker.predictor import RealTimePredictor\n",
    "from sagemaker.pytorch import PyTorchModel\n",
    "\n",
    "class StringPredictor(RealTimePredictor):\n",
    "    def __init__(self, endpoint_name, sagemaker_session):\n",
    "        super(StringPredictor, self).__init__(endpoint_name, sagemaker_session, content_type='text/plain')\n",
    "\n",
    "model = PyTorchModel(model_data=estimator.model_data,\n",
    "                     role = role,\n",
    "                     framework_version='0.4.0',\n",
    "                     entry_point='predict.py',\n",
    "                     source_dir='serve',\n",
    "                     predictor_cls=StringPredictor)\n",
    "predictor = model.deploy(initial_instance_count=1, instance_type='ml.m4.xlarge')"
   ]
  },
  {
   "cell_type": "markdown",
   "metadata": {},
   "source": [
    "### Testing the model\n",
    "\n",
    "Now that we have deployed our model with the custom inference code, we should test to see if everything is working. Here we test our model by loading the first `250` positive and negative reviews and send them to the endpoint, then collect the results. The reason for only sending some of the data is that the amount of time it takes for our model to process the input and then perform inference is quite long and so testing the entire data set would be prohibitive."
   ]
  },
  {
   "cell_type": "code",
   "execution_count": 46,
   "metadata": {},
   "outputs": [],
   "source": [
    "import glob\n",
    "\n",
    "def test_reviews(data_dir='../data/aclImdb', stop=250):\n",
    "    \n",
    "    results = []\n",
    "    ground = []\n",
    "    \n",
    "    # We make sure to test both positive and negative reviews    \n",
    "    for sentiment in ['pos', 'neg']:\n",
    "        \n",
    "        path = os.path.join(data_dir, 'test', sentiment, '*.txt')\n",
    "        files = glob.glob(path)\n",
    "        \n",
    "        files_read = 0\n",
    "        \n",
    "        print('Starting ', sentiment, ' files')\n",
    "        \n",
    "        # Iterate through the files and send them to the predictor\n",
    "        for f in files:\n",
    "            with open(f) as review:\n",
    "                # First, we store the ground truth (was the review positive or negative)\n",
    "                if sentiment == 'pos':\n",
    "                    ground.append(1)\n",
    "                else:\n",
    "                    ground.append(0)\n",
    "                # Read in the review and convert to 'utf-8' for transmission via HTTP\n",
    "                review_input = review.read().encode('utf-8')\n",
    "                # Send the review to the predictor and store the results\n",
    "                results.append(float(predictor.predict(review_input)))\n",
    "                \n",
    "            # Sending reviews to our endpoint one at a time takes a while so we\n",
    "            # only send a small number of reviews\n",
    "            files_read += 1\n",
    "            if files_read == stop:\n",
    "                break\n",
    "            \n",
    "    return ground, results"
   ]
  },
  {
   "cell_type": "code",
   "execution_count": 47,
   "metadata": {},
   "outputs": [
    {
     "name": "stdout",
     "output_type": "stream",
     "text": [
      "Starting  pos  files\n",
      "Starting  neg  files\n"
     ]
    }
   ],
   "source": [
    "ground, results = test_reviews()"
   ]
  },
  {
   "cell_type": "code",
   "execution_count": 48,
   "metadata": {},
   "outputs": [
    {
     "data": {
      "text/plain": [
       "0.828"
      ]
     },
     "execution_count": 48,
     "metadata": {},
     "output_type": "execute_result"
    }
   ],
   "source": [
    "from sklearn.metrics import accuracy_score\n",
    "accuracy_score(ground, results)"
   ]
  },
  {
   "cell_type": "markdown",
   "metadata": {},
   "source": [
    "As an additional test, we can try sending the `test_review` that we looked at earlier."
   ]
  },
  {
   "cell_type": "code",
   "execution_count": 50,
   "metadata": {},
   "outputs": [
    {
     "data": {
      "text/plain": [
       "b'1.0'"
      ]
     },
     "execution_count": 50,
     "metadata": {},
     "output_type": "execute_result"
    }
   ],
   "source": [
    "predictor.predict(test_review)"
   ]
  },
  {
   "cell_type": "markdown",
   "metadata": {},
   "source": [
    "Now that we know our endpoint is working as expected, we can set up the web page that will interact with it. If you don't have time to finish the project now, make sure to skip down to the end of this notebook and shut down your endpoint. You can deploy it again when you come back."
   ]
  },
  {
   "cell_type": "markdown",
   "metadata": {},
   "source": [
    "## Step 7 (again): Use the model for the web app\n",
    "\n",
    "> **TODO:** This entire section and the next contain tasks for you to complete, mostly using the AWS console.\n",
    "\n",
    "So far we have been accessing our model endpoint by constructing a predictor object which uses the endpoint and then just using the predictor object to perform inference. What if we wanted to create a web app which accessed our model? The way things are set up currently makes that not possible since in order to access a SageMaker endpoint the app would first have to authenticate with AWS using an IAM role which included access to SageMaker endpoints. However, there is an easier way! We just need to use some additional AWS services.\n",
    "\n",
    "<img src=\"Web App Diagram.svg\">\n",
    "\n",
    "The diagram above gives an overview of how the various services will work together. On the far right is the model which we trained above and which is deployed using SageMaker. On the far left is our web app that collects a user's movie review, sends it off and expects a positive or negative sentiment in return.\n",
    "\n",
    "In the middle is where some of the magic happens. We will construct a Lambda function, which you can think of as a straightforward Python function that can be executed whenever a specified event occurs. We will give this function permission to send and recieve data from a SageMaker endpoint.\n",
    "\n",
    "Lastly, the method we will use to execute the Lambda function is a new endpoint that we will create using API Gateway. This endpoint will be a url that listens for data to be sent to it. Once it gets some data it will pass that data on to the Lambda function and then return whatever the Lambda function returns. Essentially it will act as an interface that lets our web app communicate with the Lambda function.\n",
    "\n",
    "### Setting up a Lambda function\n",
    "\n",
    "The first thing we are going to do is set up a Lambda function. This Lambda function will be executed whenever our public API has data sent to it. When it is executed it will receive the data, perform any sort of processing that is required, send the data (the review) to the SageMaker endpoint we've created and then return the result.\n",
    "\n",
    "#### Part A: Create an IAM Role for the Lambda function\n",
    "\n",
    "Since we want the Lambda function to call a SageMaker endpoint, we need to make sure that it has permission to do so. To do this, we will construct a role that we can later give the Lambda function.\n",
    "\n",
    "Using the AWS Console, navigate to the **IAM** page and click on **Roles**. Then, click on **Create role**. Make sure that the **AWS service** is the type of trusted entity selected and choose **Lambda** as the service that will use this role, then click **Next: Permissions**.\n",
    "\n",
    "In the search box type `sagemaker` and select the check box next to the **AmazonSageMakerFullAccess** policy. Then, click on **Next: Review**.\n",
    "\n",
    "Lastly, give this role a name. Make sure you use a name that you will remember later on, for example `LambdaSageMakerRole`. Then, click on **Create role**.\n",
    "\n",
    "#### Part B: Create a Lambda function\n",
    "\n",
    "Now it is time to actually create the Lambda function.\n",
    "\n",
    "Using the AWS Console, navigate to the AWS Lambda page and click on **Create a function**. When you get to the next page, make sure that **Author from scratch** is selected. Now, name your Lambda function, using a name that you will remember later on, for example `sentiment_analysis_func`. Make sure that the **Python 3.6** runtime is selected and then choose the role that you created in the previous part. Then, click on **Create Function**.\n",
    "\n",
    "On the next page you will see some information about the Lambda function you've just created. If you scroll down you should see an editor in which you can write the code that will be executed when your Lambda function is triggered. In our example, we will use the code below. \n",
    "\n",
    "```python\n",
    "# We need to use the low-level library to interact with SageMaker since the SageMaker API\n",
    "# is not available natively through Lambda.\n",
    "import boto3\n",
    "\n",
    "def lambda_handler(event, context):\n",
    "\n",
    "    # The SageMaker runtime is what allows us to invoke the endpoint that we've created.\n",
    "    runtime = boto3.Session().client('sagemaker-runtime')\n",
    "\n",
    "    # Now we use the SageMaker runtime to invoke our endpoint, sending the review we were given\n",
    "    response = runtime.invoke_endpoint(EndpointName = '**ENDPOINT NAME HERE**',    # The name of the endpoint we created\n",
    "                                       ContentType = 'text/plain',                 # The data format that is expected\n",
    "                                       Body = event['body'])                       # The actual review\n",
    "\n",
    "    # The response is an HTTP response whose body contains the result of our inference\n",
    "    result = response['Body'].read().decode('utf-8')\n",
    "\n",
    "    return {\n",
    "        'statusCode' : 200,\n",
    "        'headers' : { 'Content-Type' : 'text/plain', 'Access-Control-Allow-Origin' : '*' },\n",
    "        'body' : result\n",
    "    }\n",
    "```\n",
    "\n",
    "Once you have copy and pasted the code above into the Lambda code editor, replace the `**ENDPOINT NAME HERE**` portion with the name of the endpoint that we deployed earlier. You can determine the name of the endpoint using the code cell below."
   ]
  },
  {
   "cell_type": "code",
   "execution_count": 51,
   "metadata": {},
   "outputs": [
    {
     "data": {
      "text/plain": [
       "'sagemaker-pytorch-2021-11-21-20-11-12-197'"
      ]
     },
     "execution_count": 51,
     "metadata": {},
     "output_type": "execute_result"
    }
   ],
   "source": [
    "predictor.endpoint"
   ]
  },
  {
   "cell_type": "markdown",
   "metadata": {},
   "source": [
    "Once you have added the endpoint name to the Lambda function, click on **Save**. Your Lambda function is now up and running. Next we need to create a way for our web app to execute the Lambda function.\n",
    "\n",
    "### Setting up API Gateway\n",
    "\n",
    "Now that our Lambda function is set up, it is time to create a new API using API Gateway that will trigger the Lambda function we have just created.\n",
    "\n",
    "Using AWS Console, navigate to **Amazon API Gateway** and then click on **Get started**.\n",
    "\n",
    "On the next page, make sure that **New API** is selected and give the new api a name, for example, `sentiment_analysis_api`. Then, click on **Create API**.\n",
    "\n",
    "Now we have created an API, however it doesn't currently do anything. What we want it to do is to trigger the Lambda function that we created earlier.\n",
    "\n",
    "Select the **Actions** dropdown menu and click **Create Method**. A new blank method will be created, select its dropdown menu and select **POST**, then click on the check mark beside it.\n",
    "\n",
    "For the integration point, make sure that **Lambda Function** is selected and click on the **Use Lambda Proxy integration**. This option makes sure that the data that is sent to the API is then sent directly to the Lambda function with no processing. It also means that the return value must be a proper response object as it will also not be processed by API Gateway.\n",
    "\n",
    "Type the name of the Lambda function you created earlier into the **Lambda Function** text entry box and then click on **Save**. Click on **OK** in the pop-up box that then appears, giving permission to API Gateway to invoke the Lambda function you created.\n",
    "\n",
    "The last step in creating the API Gateway is to select the **Actions** dropdown and click on **Deploy API**. You will need to create a new Deployment stage and name it anything you like, for example `prod`.\n",
    "\n",
    "You have now successfully set up a public API to access your SageMaker model. Make sure to copy or write down the URL provided to invoke your newly created public API as this will be needed in the next step. This URL can be found at the top of the page, highlighted in blue next to the text **Invoke URL**."
   ]
  },
  {
   "cell_type": "markdown",
   "metadata": {},
   "source": [
    "## Step 4: Deploying our web app\n",
    "\n",
    "Now that we have a publicly available API, we can start using it in a web app. For our purposes, we have provided a simple static html file which can make use of the public api you created earlier.\n",
    "\n",
    "In the `website` folder there should be a file called `index.html`. Download the file to your computer and open that file up in a text editor of your choice. There should be a line which contains **\\*\\*REPLACE WITH PUBLIC API URL\\*\\***. Replace this string with the url that you wrote down in the last step and then save the file.\n",
    "\n",
    "Now, if you open `index.html` on your local computer, your browser will behave as a local web server and you can use the provided site to interact with your SageMaker model.\n",
    "\n",
    "If you'd like to go further, you can host this html file anywhere you'd like, for example using github or hosting a static site on Amazon's S3. Once you have done this you can share the link with anyone you'd like and have them play with it too!\n",
    "\n",
    "> **Important Note** In order for the web app to communicate with the SageMaker endpoint, the endpoint has to actually be deployed and running. This means that you are paying for it. Make sure that the endpoint is running when you want to use the web app but that you shut it down when you don't need it, otherwise you will end up with a surprisingly large AWS bill.\n",
    "\n",
    "**TODO:** Make sure that you include the edited `index.html` file in your project submission."
   ]
  },
  {
   "cell_type": "markdown",
   "metadata": {},
   "source": [
    "Now that your web app is working, trying playing around with it and see how well it works.\n",
    "\n",
    "**Question**: Post a screenshot showing a sample review that you entered into your web app and the predicted sentiment. What was the predicted sentiment of your example review?"
   ]
  },
  {
   "cell_type": "markdown",
   "metadata": {},
   "source": [
    "**Screenshot:**\n",
    "Reviews taken from : \n",
    "https://www.rottentomatoes.com/m/dune_2021\n"
   ]
  },
  {
   "cell_type": "markdown",
   "metadata": {},
   "source": [
    "### Delete the endpoint\n",
    "\n",
    "Remember to always shut down your endpoint if you are no longer using it. You are charged for the length of time that the endpoint is running so if you forget and leave it on you could end up with an unexpectedly large bill."
   ]
  },
  {
   "cell_type": "code",
   "execution_count": 52,
   "metadata": {},
   "outputs": [],
   "source": [
    "predictor.delete_endpoint()"
   ]
  },
  {
   "cell_type": "code",
   "execution_count": null,
   "metadata": {},
   "outputs": [],
   "source": []
  }
 ],
 "metadata": {
  "kernelspec": {
   "display_name": "conda_pytorch_p36",
   "language": "python",
   "name": "conda_pytorch_p36"
  },
  "language_info": {
   "codemirror_mode": {
    "name": "ipython",
    "version": 3
   },
   "file_extension": ".py",
   "mimetype": "text/x-python",
   "name": "python",
   "nbconvert_exporter": "python",
   "pygments_lexer": "ipython3",
   "version": "3.6.13"
  }
 },
 "nbformat": 4,
 "nbformat_minor": 4
}
